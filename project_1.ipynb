{
 "cells": [
  {
   "cell_type": "code",
   "execution_count": 85,
   "metadata": {},
   "outputs": [],
   "source": [
    "from matplotlib import pyplot as plt\n",
    "from scipy import stats\n",
    "import numpy as np\n",
    "import pandas as pd\n",
    "from collections import Counter             # Used to tally the languages"
   ]
  },
  {
   "cell_type": "code",
   "execution_count": 86,
   "metadata": {},
   "outputs": [
    {
     "data": {
      "text/html": [
       "<div>\n",
       "<style scoped>\n",
       "    .dataframe tbody tr th:only-of-type {\n",
       "        vertical-align: middle;\n",
       "    }\n",
       "\n",
       "    .dataframe tbody tr th {\n",
       "        vertical-align: top;\n",
       "    }\n",
       "\n",
       "    .dataframe thead th {\n",
       "        text-align: right;\n",
       "    }\n",
       "</style>\n",
       "<table border=\"1\" class=\"dataframe\">\n",
       "  <thead>\n",
       "    <tr style=\"text-align: right;\">\n",
       "      <th></th>\n",
       "      <th>ResponseId</th>\n",
       "      <th>MainBranch</th>\n",
       "      <th>Country</th>\n",
       "      <th>US_State</th>\n",
       "      <th>UK_Country</th>\n",
       "      <th>LanguageHaveWorkedWith</th>\n",
       "      <th>LanguageWantToWorkWith</th>\n",
       "      <th>DatabaseHaveWorkedWith</th>\n",
       "      <th>DatabaseWantToWorkWith</th>\n",
       "      <th>Age</th>\n",
       "      <th>Gender</th>\n",
       "      <th>Sexuality</th>\n",
       "      <th>Ethnicity</th>\n",
       "    </tr>\n",
       "  </thead>\n",
       "  <tbody>\n",
       "    <tr>\n",
       "      <th>0</th>\n",
       "      <td>1</td>\n",
       "      <td>I am a developer by profession</td>\n",
       "      <td>Slovakia</td>\n",
       "      <td>NaN</td>\n",
       "      <td>NaN</td>\n",
       "      <td>C++;HTML/CSS;JavaScript;Objective-C;PHP;Swift</td>\n",
       "      <td>Swift</td>\n",
       "      <td>PostgreSQL;SQLite</td>\n",
       "      <td>SQLite</td>\n",
       "      <td>25-34 years old</td>\n",
       "      <td>Man</td>\n",
       "      <td>Straight / Heterosexual</td>\n",
       "      <td>White or of European descent</td>\n",
       "    </tr>\n",
       "  </tbody>\n",
       "</table>\n",
       "</div>"
      ],
      "text/plain": [
       "   ResponseId                      MainBranch   Country US_State UK_Country  \\\n",
       "0           1  I am a developer by profession  Slovakia      NaN        NaN   \n",
       "\n",
       "                          LanguageHaveWorkedWith LanguageWantToWorkWith  \\\n",
       "0  C++;HTML/CSS;JavaScript;Objective-C;PHP;Swift                  Swift   \n",
       "\n",
       "  DatabaseHaveWorkedWith DatabaseWantToWorkWith              Age Gender  \\\n",
       "0      PostgreSQL;SQLite                 SQLite  25-34 years old    Man   \n",
       "\n",
       "                 Sexuality                     Ethnicity  \n",
       "0  Straight / Heterosexual  White or of European descent  "
      ]
     },
     "execution_count": 86,
     "metadata": {},
     "output_type": "execute_result"
    }
   ],
   "source": [
    "# Two versions of the file - Edited is a slimed down version and full is the unedited version\n",
    "file = (\"Resources/survey_results_2021_edited.csv\")          # Slimed down\n",
    "df = pd.read_csv(file)                                     # Read into df  pandas dataframe\n",
    "df.head(1)\n"
   ]
  },
  {
   "cell_type": "code",
   "execution_count": 87,
   "metadata": {},
   "outputs": [
    {
     "data": {
      "text/html": [
       "<div>\n",
       "<style scoped>\n",
       "    .dataframe tbody tr th:only-of-type {\n",
       "        vertical-align: middle;\n",
       "    }\n",
       "\n",
       "    .dataframe tbody tr th {\n",
       "        vertical-align: top;\n",
       "    }\n",
       "\n",
       "    .dataframe thead th {\n",
       "        text-align: right;\n",
       "    }\n",
       "</style>\n",
       "<table border=\"1\" class=\"dataframe\">\n",
       "  <thead>\n",
       "    <tr style=\"text-align: right;\">\n",
       "      <th></th>\n",
       "      <th>ResponseId</th>\n",
       "      <th>MainBranch</th>\n",
       "      <th>Employment</th>\n",
       "      <th>Country</th>\n",
       "      <th>US_State</th>\n",
       "      <th>UK_Country</th>\n",
       "      <th>EdLevel</th>\n",
       "      <th>Age1stCode</th>\n",
       "      <th>LearnCode</th>\n",
       "      <th>YearsCode</th>\n",
       "      <th>...</th>\n",
       "      <th>Age</th>\n",
       "      <th>Gender</th>\n",
       "      <th>Trans</th>\n",
       "      <th>Sexuality</th>\n",
       "      <th>Ethnicity</th>\n",
       "      <th>Accessibility</th>\n",
       "      <th>MentalHealth</th>\n",
       "      <th>SurveyLength</th>\n",
       "      <th>SurveyEase</th>\n",
       "      <th>ConvertedCompYearly</th>\n",
       "    </tr>\n",
       "  </thead>\n",
       "  <tbody>\n",
       "    <tr>\n",
       "      <th>0</th>\n",
       "      <td>1</td>\n",
       "      <td>I am a developer by profession</td>\n",
       "      <td>Independent contractor, freelancer, or self-em...</td>\n",
       "      <td>Slovakia</td>\n",
       "      <td>NaN</td>\n",
       "      <td>NaN</td>\n",
       "      <td>Secondary school (e.g. American high school, G...</td>\n",
       "      <td>18 - 24 years</td>\n",
       "      <td>Coding Bootcamp;Other online resources (ex: vi...</td>\n",
       "      <td>NaN</td>\n",
       "      <td>...</td>\n",
       "      <td>25-34 years old</td>\n",
       "      <td>Man</td>\n",
       "      <td>No</td>\n",
       "      <td>Straight / Heterosexual</td>\n",
       "      <td>White or of European descent</td>\n",
       "      <td>None of the above</td>\n",
       "      <td>None of the above</td>\n",
       "      <td>Appropriate in length</td>\n",
       "      <td>Easy</td>\n",
       "      <td>62268.0</td>\n",
       "    </tr>\n",
       "  </tbody>\n",
       "</table>\n",
       "<p>1 rows × 48 columns</p>\n",
       "</div>"
      ],
      "text/plain": [
       "   ResponseId                      MainBranch  \\\n",
       "0           1  I am a developer by profession   \n",
       "\n",
       "                                          Employment   Country US_State  \\\n",
       "0  Independent contractor, freelancer, or self-em...  Slovakia      NaN   \n",
       "\n",
       "  UK_Country                                            EdLevel  \\\n",
       "0        NaN  Secondary school (e.g. American high school, G...   \n",
       "\n",
       "      Age1stCode                                          LearnCode YearsCode  \\\n",
       "0  18 - 24 years  Coding Bootcamp;Other online resources (ex: vi...       NaN   \n",
       "\n",
       "   ...              Age Gender Trans                Sexuality  \\\n",
       "0  ...  25-34 years old    Man    No  Straight / Heterosexual   \n",
       "\n",
       "                      Ethnicity      Accessibility       MentalHealth  \\\n",
       "0  White or of European descent  None of the above  None of the above   \n",
       "\n",
       "            SurveyLength SurveyEase ConvertedCompYearly  \n",
       "0  Appropriate in length       Easy             62268.0  \n",
       "\n",
       "[1 rows x 48 columns]"
      ]
     },
     "execution_count": 87,
     "metadata": {},
     "output_type": "execute_result"
    }
   ],
   "source": [
    "# Second file that we could use - has all data with no columns removed\n",
    "full_file = (\"Resources/survey_results_public.csv\")           # Unedited file\n",
    "full_df = pd.read_csv(full_file)                              # Read into full_df pandas dataframe\n",
    "full_df.head(1)"
   ]
  },
  {
   "cell_type": "markdown",
   "metadata": {},
   "source": []
  },
  {
   "cell_type": "code",
   "execution_count": 88,
   "metadata": {},
   "outputs": [],
   "source": [
    "# Dropping columns from df that will not be used.  Might keep this? - Deleted Drop\n",
    "\n",
    "\n",
    " # Working to split language up so we can count how many people use which lanaguge \n",
    "df.dropna(axis='index', how='all', subset=['LanguageHaveWorkedWith'])\n",
    "df.rename(columns={ 'MainBranch': 'Main Branch', 'LanguageHaveWorkedWith': 'Languages Learned', 'LanguageWantToWorkWith': 'Future Goal Language'}, inplace=True)"
   ]
  },
  {
   "cell_type": "code",
   "execution_count": 89,
   "metadata": {},
   "outputs": [
    {
     "data": {
      "text/html": [
       "<div>\n",
       "<style scoped>\n",
       "    .dataframe tbody tr th:only-of-type {\n",
       "        vertical-align: middle;\n",
       "    }\n",
       "\n",
       "    .dataframe tbody tr th {\n",
       "        vertical-align: top;\n",
       "    }\n",
       "\n",
       "    .dataframe thead th {\n",
       "        text-align: right;\n",
       "    }\n",
       "</style>\n",
       "<table border=\"1\" class=\"dataframe\">\n",
       "  <thead>\n",
       "    <tr style=\"text-align: right;\">\n",
       "      <th></th>\n",
       "      <th>ResponseId</th>\n",
       "      <th>MainBranch</th>\n",
       "      <th>Employment</th>\n",
       "      <th>Country</th>\n",
       "      <th>US_State</th>\n",
       "      <th>UK_Country</th>\n",
       "      <th>EdLevel</th>\n",
       "      <th>Age1stCode</th>\n",
       "      <th>LearnCode</th>\n",
       "      <th>YearsCode</th>\n",
       "      <th>...</th>\n",
       "      <th>Age</th>\n",
       "      <th>Gender</th>\n",
       "      <th>Trans</th>\n",
       "      <th>Sexuality</th>\n",
       "      <th>Ethnicity</th>\n",
       "      <th>Accessibility</th>\n",
       "      <th>MentalHealth</th>\n",
       "      <th>SurveyLength</th>\n",
       "      <th>SurveyEase</th>\n",
       "      <th>ConvertedCompYearly</th>\n",
       "    </tr>\n",
       "  </thead>\n",
       "  <tbody>\n",
       "    <tr>\n",
       "      <th>0</th>\n",
       "      <td>1</td>\n",
       "      <td>I am a developer by profession</td>\n",
       "      <td>Independent contractor, freelancer, or self-em...</td>\n",
       "      <td>Slovakia</td>\n",
       "      <td>Not Applicable</td>\n",
       "      <td>Not Applicable</td>\n",
       "      <td>Secondary school (e.g. American high school, G...</td>\n",
       "      <td>18 - 24 years</td>\n",
       "      <td>Coding Bootcamp;Other online resources (ex: vi...</td>\n",
       "      <td>Not Applicable</td>\n",
       "      <td>...</td>\n",
       "      <td>25-34 years old</td>\n",
       "      <td>Man</td>\n",
       "      <td>No</td>\n",
       "      <td>Straight / Heterosexual</td>\n",
       "      <td>White or of European descent</td>\n",
       "      <td>None of the above</td>\n",
       "      <td>None of the above</td>\n",
       "      <td>Appropriate in length</td>\n",
       "      <td>Easy</td>\n",
       "      <td>62268</td>\n",
       "    </tr>\n",
       "    <tr>\n",
       "      <th>1</th>\n",
       "      <td>2</td>\n",
       "      <td>I am a student who is learning to code</td>\n",
       "      <td>Student, full-time</td>\n",
       "      <td>Netherlands</td>\n",
       "      <td>Not Applicable</td>\n",
       "      <td>Not Applicable</td>\n",
       "      <td>Bachelor’s degree (B.A., B.S., B.Eng., etc.)</td>\n",
       "      <td>11 - 17 years</td>\n",
       "      <td>Other online resources (ex: videos, blogs, etc...</td>\n",
       "      <td>7</td>\n",
       "      <td>...</td>\n",
       "      <td>18-24 years old</td>\n",
       "      <td>Man</td>\n",
       "      <td>No</td>\n",
       "      <td>Straight / Heterosexual</td>\n",
       "      <td>White or of European descent</td>\n",
       "      <td>None of the above</td>\n",
       "      <td>None of the above</td>\n",
       "      <td>Appropriate in length</td>\n",
       "      <td>Easy</td>\n",
       "      <td>Not Applicable</td>\n",
       "    </tr>\n",
       "    <tr>\n",
       "      <th>2</th>\n",
       "      <td>3</td>\n",
       "      <td>I am not primarily a developer, but I write co...</td>\n",
       "      <td>Student, full-time</td>\n",
       "      <td>Russian Federation</td>\n",
       "      <td>Not Applicable</td>\n",
       "      <td>Not Applicable</td>\n",
       "      <td>Bachelor’s degree (B.A., B.S., B.Eng., etc.)</td>\n",
       "      <td>11 - 17 years</td>\n",
       "      <td>Other online resources (ex: videos, blogs, etc...</td>\n",
       "      <td>Not Applicable</td>\n",
       "      <td>...</td>\n",
       "      <td>18-24 years old</td>\n",
       "      <td>Man</td>\n",
       "      <td>No</td>\n",
       "      <td>Prefer not to say</td>\n",
       "      <td>Prefer not to say</td>\n",
       "      <td>None of the above</td>\n",
       "      <td>None of the above</td>\n",
       "      <td>Appropriate in length</td>\n",
       "      <td>Easy</td>\n",
       "      <td>Not Applicable</td>\n",
       "    </tr>\n",
       "    <tr>\n",
       "      <th>3</th>\n",
       "      <td>4</td>\n",
       "      <td>I am a developer by profession</td>\n",
       "      <td>Employed full-time</td>\n",
       "      <td>Austria</td>\n",
       "      <td>Not Applicable</td>\n",
       "      <td>Not Applicable</td>\n",
       "      <td>Master’s degree (M.A., M.S., M.Eng., MBA, etc.)</td>\n",
       "      <td>11 - 17 years</td>\n",
       "      <td>Not Applicable</td>\n",
       "      <td>Not Applicable</td>\n",
       "      <td>...</td>\n",
       "      <td>35-44 years old</td>\n",
       "      <td>Man</td>\n",
       "      <td>No</td>\n",
       "      <td>Straight / Heterosexual</td>\n",
       "      <td>White or of European descent</td>\n",
       "      <td>I am deaf / hard of hearing</td>\n",
       "      <td>Not Applicable</td>\n",
       "      <td>Appropriate in length</td>\n",
       "      <td>Neither easy nor difficult</td>\n",
       "      <td>Not Applicable</td>\n",
       "    </tr>\n",
       "    <tr>\n",
       "      <th>4</th>\n",
       "      <td>5</td>\n",
       "      <td>I am a developer by profession</td>\n",
       "      <td>Independent contractor, freelancer, or self-em...</td>\n",
       "      <td>United Kingdom of Great Britain and Northern I...</td>\n",
       "      <td>Not Applicable</td>\n",
       "      <td>England</td>\n",
       "      <td>Master’s degree (M.A., M.S., M.Eng., MBA, etc.)</td>\n",
       "      <td>5 - 10 years</td>\n",
       "      <td>Friend or family member</td>\n",
       "      <td>17</td>\n",
       "      <td>...</td>\n",
       "      <td>25-34 years old</td>\n",
       "      <td>Man</td>\n",
       "      <td>No</td>\n",
       "      <td>Not Applicable</td>\n",
       "      <td>White or of European descent</td>\n",
       "      <td>None of the above</td>\n",
       "      <td>Not Applicable</td>\n",
       "      <td>Appropriate in length</td>\n",
       "      <td>Easy</td>\n",
       "      <td>Not Applicable</td>\n",
       "    </tr>\n",
       "  </tbody>\n",
       "</table>\n",
       "<p>5 rows × 48 columns</p>\n",
       "</div>"
      ],
      "text/plain": [
       "   ResponseId                                         MainBranch  \\\n",
       "0           1                     I am a developer by profession   \n",
       "1           2             I am a student who is learning to code   \n",
       "2           3  I am not primarily a developer, but I write co...   \n",
       "3           4                     I am a developer by profession   \n",
       "4           5                     I am a developer by profession   \n",
       "\n",
       "                                          Employment  \\\n",
       "0  Independent contractor, freelancer, or self-em...   \n",
       "1                                 Student, full-time   \n",
       "2                                 Student, full-time   \n",
       "3                                 Employed full-time   \n",
       "4  Independent contractor, freelancer, or self-em...   \n",
       "\n",
       "                                             Country        US_State  \\\n",
       "0                                           Slovakia  Not Applicable   \n",
       "1                                        Netherlands  Not Applicable   \n",
       "2                                 Russian Federation  Not Applicable   \n",
       "3                                            Austria  Not Applicable   \n",
       "4  United Kingdom of Great Britain and Northern I...  Not Applicable   \n",
       "\n",
       "       UK_Country                                            EdLevel  \\\n",
       "0  Not Applicable  Secondary school (e.g. American high school, G...   \n",
       "1  Not Applicable       Bachelor’s degree (B.A., B.S., B.Eng., etc.)   \n",
       "2  Not Applicable       Bachelor’s degree (B.A., B.S., B.Eng., etc.)   \n",
       "3  Not Applicable    Master’s degree (M.A., M.S., M.Eng., MBA, etc.)   \n",
       "4         England    Master’s degree (M.A., M.S., M.Eng., MBA, etc.)   \n",
       "\n",
       "      Age1stCode                                          LearnCode  \\\n",
       "0  18 - 24 years  Coding Bootcamp;Other online resources (ex: vi...   \n",
       "1  11 - 17 years  Other online resources (ex: videos, blogs, etc...   \n",
       "2  11 - 17 years  Other online resources (ex: videos, blogs, etc...   \n",
       "3  11 - 17 years                                     Not Applicable   \n",
       "4   5 - 10 years                            Friend or family member   \n",
       "\n",
       "        YearsCode  ...              Age Gender Trans                Sexuality  \\\n",
       "0  Not Applicable  ...  25-34 years old    Man    No  Straight / Heterosexual   \n",
       "1               7  ...  18-24 years old    Man    No  Straight / Heterosexual   \n",
       "2  Not Applicable  ...  18-24 years old    Man    No        Prefer not to say   \n",
       "3  Not Applicable  ...  35-44 years old    Man    No  Straight / Heterosexual   \n",
       "4              17  ...  25-34 years old    Man    No           Not Applicable   \n",
       "\n",
       "                      Ethnicity                Accessibility  \\\n",
       "0  White or of European descent            None of the above   \n",
       "1  White or of European descent            None of the above   \n",
       "2             Prefer not to say            None of the above   \n",
       "3  White or of European descent  I am deaf / hard of hearing   \n",
       "4  White or of European descent            None of the above   \n",
       "\n",
       "        MentalHealth           SurveyLength                  SurveyEase  \\\n",
       "0  None of the above  Appropriate in length                        Easy   \n",
       "1  None of the above  Appropriate in length                        Easy   \n",
       "2  None of the above  Appropriate in length                        Easy   \n",
       "3     Not Applicable  Appropriate in length  Neither easy nor difficult   \n",
       "4     Not Applicable  Appropriate in length                        Easy   \n",
       "\n",
       "  ConvertedCompYearly  \n",
       "0               62268  \n",
       "1      Not Applicable  \n",
       "2      Not Applicable  \n",
       "3      Not Applicable  \n",
       "4      Not Applicable  \n",
       "\n",
       "[5 rows x 48 columns]"
      ]
     },
     "execution_count": 89,
     "metadata": {},
     "output_type": "execute_result"
    }
   ],
   "source": [
    "# This fills in missing data from the data frame with \"Not Applicable\"\n",
    "df.replace(np.nan, \"Not Applicable\").head(5)\n",
    "full_df.replace(np.nan, \"Not Applicable\").head(5)\n",
    "# df.fillna('Not Applicable')\n",
    "\n"
   ]
  },
  {
   "cell_type": "code",
   "execution_count": 90,
   "metadata": {},
   "outputs": [],
   "source": [
    "# gender_groupby = clean_df.groupby([\"Gender\"])\n",
    "# gender_groupby.sum()\n",
    "#clean_df[\"Gender\"].value_counts()\n",
    "# men = clean_df.loc[clean_df[\"Gender\"]==\"Man\"]\n",
    "# women = clean_df.loc[clean_df[\"Gender\"]==\"Woman\"]\n",
    "# non_binary = clean_df.loc[clean_df[\"Gender\"]==\"Non-Binary\"]\n"
   ]
  },
  {
   "cell_type": "code",
   "execution_count": 91,
   "metadata": {},
   "outputs": [],
   "source": [
    "#TODO: Clean up or combine loops\n",
    "\n",
    "# Pull series LanguageHaveWorkedWith and find the top 20 popular languages\n",
    "# Isolate Column - split langs into a list - count number of repeats?\n",
    "   \n",
    "# Method to pull top languages.  Can be used on current and what people want to learn.\n",
    "def find_top_langs(df_in):   \n",
    "    cnt = Counter()                                     # Create a counter object\n",
    "    temp_list = []                                      # PLace holder list to hold a list of lists\n",
    "    flat_list = []                                      # \"flat\" list that makes a 2d list a 1d.  Gets rid of nested list\n",
    "\n",
    "    # This for loop creates a list from each row in the series and then from that a list to break up the different langs\n",
    "    # Example String ->  ['C++;Python;PHP'] -> Split ['C++', 'Python', 'PHP'] - For each Row\n",
    "    for langs in df_in:\n",
    "        langs = str(langs)\n",
    "        temp_list.append(langs.split(';'))\n",
    "\n",
    "    # This opens up the the list of lists and makes it into one gaint list\n",
    "    for temp in temp_list:              # temp is a list inside a list [[list1], [list2], [list3]]\n",
    "        for flat in temp:               # flat is the element in list1, list2, list3\n",
    "            flat_list.append(flat)      # New List with no lists - just elements [list1, list2, list3]\n",
    "\n",
    "    for temp in flat_list:              # Counts and tallys how many times it is each element\n",
    "        cnt[temp] += 1\n",
    "\n",
    "    # cnt                                 # Outputs the data as a dictionary\n",
    "\n",
    "    cnt_df = pd.DataFrame(cnt.items()).sort_values(by=[1], ascending=False)     # Convert to a dataframe to sort\n",
    "    return cnt_df\n"
   ]
  },
  {
   "cell_type": "code",
   "execution_count": 92,
   "metadata": {},
   "outputs": [
    {
     "data": {
      "text/html": [
       "<div>\n",
       "<style scoped>\n",
       "    .dataframe tbody tr th:only-of-type {\n",
       "        vertical-align: middle;\n",
       "    }\n",
       "\n",
       "    .dataframe tbody tr th {\n",
       "        vertical-align: top;\n",
       "    }\n",
       "\n",
       "    .dataframe thead th {\n",
       "        text-align: right;\n",
       "    }\n",
       "</style>\n",
       "<table border=\"1\" class=\"dataframe\">\n",
       "  <thead>\n",
       "    <tr style=\"text-align: right;\">\n",
       "      <th></th>\n",
       "      <th>0</th>\n",
       "      <th>1</th>\n",
       "    </tr>\n",
       "  </thead>\n",
       "  <tbody>\n",
       "    <tr>\n",
       "      <th>0</th>\n",
       "      <td>JavaScript</td>\n",
       "      <td>53587</td>\n",
       "    </tr>\n",
       "    <tr>\n",
       "      <th>1</th>\n",
       "      <td>HTML/CSS</td>\n",
       "      <td>46259</td>\n",
       "    </tr>\n",
       "    <tr>\n",
       "      <th>2</th>\n",
       "      <td>Python</td>\n",
       "      <td>39792</td>\n",
       "    </tr>\n",
       "    <tr>\n",
       "      <th>3</th>\n",
       "      <td>SQL</td>\n",
       "      <td>38835</td>\n",
       "    </tr>\n",
       "    <tr>\n",
       "      <th>4</th>\n",
       "      <td>Java</td>\n",
       "      <td>29162</td>\n",
       "    </tr>\n",
       "    <tr>\n",
       "      <th>5</th>\n",
       "      <td>Node.js</td>\n",
       "      <td>27975</td>\n",
       "    </tr>\n",
       "    <tr>\n",
       "      <th>6</th>\n",
       "      <td>TypeScript</td>\n",
       "      <td>24909</td>\n",
       "    </tr>\n",
       "    <tr>\n",
       "      <th>7</th>\n",
       "      <td>C#</td>\n",
       "      <td>22984</td>\n",
       "    </tr>\n",
       "    <tr>\n",
       "      <th>8</th>\n",
       "      <td>Bash/Shell</td>\n",
       "      <td>22385</td>\n",
       "    </tr>\n",
       "    <tr>\n",
       "      <th>9</th>\n",
       "      <td>C++</td>\n",
       "      <td>20057</td>\n",
       "    </tr>\n",
       "  </tbody>\n",
       "</table>\n",
       "</div>"
      ],
      "text/plain": [
       "            0      1\n",
       "0  JavaScript  53587\n",
       "1    HTML/CSS  46259\n",
       "2      Python  39792\n",
       "3         SQL  38835\n",
       "4        Java  29162\n",
       "5     Node.js  27975\n",
       "6  TypeScript  24909\n",
       "7          C#  22984\n",
       "8  Bash/Shell  22385\n",
       "9         C++  20057"
      ]
     },
     "execution_count": 92,
     "metadata": {},
     "output_type": "execute_result"
    }
   ],
   "source": [
    "# Run the method based off of languages Learned column\n",
    "\n",
    "top10current = find_top_langs(full_df['LanguageHaveWorkedWith'] ).set_index(0).reset_index().head(10)  \n",
    "top10current                                "
   ]
  },
  {
   "cell_type": "code",
   "execution_count": 93,
   "metadata": {},
   "outputs": [
    {
     "data": {
      "text/html": [
       "<div>\n",
       "<style scoped>\n",
       "    .dataframe tbody tr th:only-of-type {\n",
       "        vertical-align: middle;\n",
       "    }\n",
       "\n",
       "    .dataframe tbody tr th {\n",
       "        vertical-align: top;\n",
       "    }\n",
       "\n",
       "    .dataframe thead th {\n",
       "        text-align: right;\n",
       "    }\n",
       "</style>\n",
       "<table border=\"1\" class=\"dataframe\">\n",
       "  <thead>\n",
       "    <tr style=\"text-align: right;\">\n",
       "      <th></th>\n",
       "      <th>0</th>\n",
       "      <th>1</th>\n",
       "    </tr>\n",
       "  </thead>\n",
       "  <tbody>\n",
       "    <tr>\n",
       "      <th>0</th>\n",
       "      <td>JavaScript</td>\n",
       "      <td>37008</td>\n",
       "    </tr>\n",
       "    <tr>\n",
       "      <th>1</th>\n",
       "      <td>Python</td>\n",
       "      <td>34929</td>\n",
       "    </tr>\n",
       "    <tr>\n",
       "      <th>2</th>\n",
       "      <td>HTML/CSS</td>\n",
       "      <td>29353</td>\n",
       "    </tr>\n",
       "    <tr>\n",
       "      <th>3</th>\n",
       "      <td>TypeScript</td>\n",
       "      <td>26905</td>\n",
       "    </tr>\n",
       "    <tr>\n",
       "      <th>4</th>\n",
       "      <td>SQL</td>\n",
       "      <td>26631</td>\n",
       "    </tr>\n",
       "    <tr>\n",
       "      <th>5</th>\n",
       "      <td>Node.js</td>\n",
       "      <td>24100</td>\n",
       "    </tr>\n",
       "    <tr>\n",
       "      <th>6</th>\n",
       "      <td>C#</td>\n",
       "      <td>17999</td>\n",
       "    </tr>\n",
       "    <tr>\n",
       "      <th>7</th>\n",
       "      <td>Java</td>\n",
       "      <td>17222</td>\n",
       "    </tr>\n",
       "    <tr>\n",
       "      <th>8</th>\n",
       "      <td>Rust</td>\n",
       "      <td>15865</td>\n",
       "    </tr>\n",
       "    <tr>\n",
       "      <th>9</th>\n",
       "      <td>Go</td>\n",
       "      <td>15788</td>\n",
       "    </tr>\n",
       "  </tbody>\n",
       "</table>\n",
       "</div>"
      ],
      "text/plain": [
       "            0      1\n",
       "0  JavaScript  37008\n",
       "1      Python  34929\n",
       "2    HTML/CSS  29353\n",
       "3  TypeScript  26905\n",
       "4         SQL  26631\n",
       "5     Node.js  24100\n",
       "6          C#  17999\n",
       "7        Java  17222\n",
       "8        Rust  15865\n",
       "9          Go  15788"
      ]
     },
     "execution_count": 93,
     "metadata": {},
     "output_type": "execute_result"
    }
   ],
   "source": [
    "# Run the method based off of languages Learned column\n",
    "top10future = find_top_langs(full_df['LanguageWantToWorkWith'] ).set_index(0).reset_index().head(10)         \n",
    "top10future                   "
   ]
  },
  {
   "cell_type": "code",
   "execution_count": 94,
   "metadata": {},
   "outputs": [
    {
     "data": {
      "image/png": "[encoded data removed]",
      "text/plain": [
       "<Figure size 432x288 with 1 Axes>"
      ]
     },
     "metadata": {},
     "output_type": "display_data"
    }
   ],
   "source": [
    "# Labels for the sections of our pie chart\n",
    "labels = top10current[0]\n",
    "sizes = top10current[1]\n",
    "explode = (0.2, 0,0,0,0,0,0,0,0,0)\n",
    "plt.pie(sizes, explode=explode, labels=labels, autopct=\"%1.1f%%\", startangle=140)\n",
    "plt.title('Top 10 languages developers currently work with')\n",
    "plt.show()\n"
   ]
  },
  {
   "cell_type": "code",
   "execution_count": 95,
   "metadata": {},
   "outputs": [
    {
     "data": {
      "image/png": "[encoded data removed]",
      "text/plain": [
       "<Figure size 432x288 with 1 Axes>"
      ]
     },
     "metadata": {},
     "output_type": "display_data"
    }
   ],
   "source": [
    "# Labels for the sections of our pie chart\n",
    "labels = top10future[0]\n",
    "sizes = top10future[1]\n",
    "explode = (0.2, 0,0,0,0,0,0,0,0,0)\n",
    "plt.pie(sizes,  explode=explode, labels=labels, autopct=\"%1.1f%%\", startangle=140)\n",
    "plt.title('Top 10 languages developers want to work with')\n",
    "plt.show()\n"
   ]
  },
  {
   "cell_type": "code",
   "execution_count": 96,
   "metadata": {},
   "outputs": [
    {
     "data": {
      "text/plain": [
       "0            C++;HTML/CSS;JavaScript;Objective-C;PHP;Swift\n",
       "1                                        JavaScript;Python\n",
       "3                                    JavaScript;TypeScript\n",
       "5        C;C#;C++;HTML/CSS;Java;JavaScript;Node.js;Powe...\n",
       "6                                      HTML/CSS;JavaScript\n",
       "                               ...                        \n",
       "83426       Bash/Shell;HTML/CSS;Java;JavaScript;Python;SQL\n",
       "83431    C#;Dart;HTML/CSS;Java;JavaScript;Kotlin;Node.j...\n",
       "83433        Java;JavaScript;Kotlin;Objective-C;TypeScript\n",
       "83437                 Bash/Shell;JavaScript;Node.js;Python\n",
       "83438               Delphi;Elixir;HTML/CSS;Java;JavaScript\n",
       "Name: LanguageHaveWorkedWith, Length: 53587, dtype: object"
      ]
     },
     "execution_count": 96,
     "metadata": {},
     "output_type": "execute_result"
    }
   ],
   "source": [
    "# pull main data frame and isolate only people that have javascript in full_df['LanguageHaveWorkedWith']\n",
    "# Code goes through the LanguageHaveWorkedWith series and looks for the string JavaScript within the series.  Once it finds\n",
    "# all instances it creates a new data frame with just those rows.  The Row count is equal to the count we did in the \n",
    "# beginning '53587'.  This way we can check that it is the correct amount.\n",
    "find_js_df = full_df.loc[full_df['LanguageHaveWorkedWith'].str.contains('JavaScript',  case = False, na=False)]\n",
    "find_js_df['LanguageHaveWorkedWith']"
   ]
  },
  {
   "cell_type": "code",
   "execution_count": 29,
   "metadata": {},
   "outputs": [
    {
     "data": {
      "text/plain": [
       "Man                                                                                   48505\n",
       "Woman                                                                                  2485\n",
       "Prefer not to say                                                                       809\n",
       "Non-binary, genderqueer, or gender non-conforming                                       424\n",
       "Or, in your own words:                                                                  252\n",
       "Man;Or, in your own words:                                                              184\n",
       "Man;Non-binary, genderqueer, or gender non-conforming                                   159\n",
       "Woman;Non-binary, genderqueer, or gender non-conforming                                  96\n",
       "Man;Woman                                                                                19\n",
       "Non-binary, genderqueer, or gender non-conforming;Or, in your own words:                 15\n",
       "Man;Woman;Non-binary, genderqueer, or gender non-conforming                              11\n",
       "Woman;Or, in your own words:                                                             10\n",
       "Man;Woman;Non-binary, genderqueer, or gender non-conforming;Or, in your own words:        8\n",
       "Man;Non-binary, genderqueer, or gender non-conforming;Or, in your own words:              8\n",
       "Woman;Non-binary, genderqueer, or gender non-conforming;Or, in your own words:            6\n",
       "Man;Woman;Or, in your own words:                                                          1\n",
       "Name: Gender, dtype: int64"
      ]
     },
     "execution_count": 45,
     "metadata": {},
     "output_type": "execute_result"
    }
   ],
   "source": [
    "#this is where I will work on cleaning up the gender column to just include Man, Woman, Non-binary, genderqueer, or gender non-conforming\n",
    "# find_js_df.replace(to_replace =[\"Man;Woman;Or, in your own words:\", \n",
    "#                                 \"Woman;Non-binary, genderqueer, or gender non-conforming;Or, in your own words:\",\n",
    "#                                 \"Man;Non-binary, genderqueer, or gender non-conforming;Or, in your own words:\", \n",
    "#                                 \"Man;Woman;Non-binary, genderqueer, or gender non-conforming;Or, in your own words:\",\n",
    "#                                 \"Man;Woman\"\n",
    "# ],\n",
    "#                  value =\"Non-binary, genderqueer, or gender non-conforming\")\n",
    "find_js_df['Gender'].value_counts()\n"
   ]
  },
  {
   "cell_type": "code",
   "execution_count": 78,
   "metadata": {},
   "outputs": [],
   "source": [
    "# find_js_df['Gender'].replace(regex=\n",
    "#                         #['Man;Woman;Or, in your own words:'],\n",
    "#                         #['Woman;Non-binary, genderqueer, or gender non-conforming;Or, in your own words:'],\n",
    "#                         #['Man;Non-binary, genderqueer, or gender non-conforming;Or, in your own words:'],\n",
    "#                          #['Man;Woman;Non-binary, genderqueer, or gender non-conforming;Or, in your own words:'],\n",
    "#                         #['Non-binary, genderqueer, or gender non-conforming;Or, in your own words:'],\n",
    "#                         #['Man;Woman'],\n",
    "#                         #['Non-binary, genderqueer, or gender non-conforming;Non-binary, genderqueer, or gender non-conforming'],\n",
    "#                         #['Or, in your own words:'],\n",
    "#                  value =\"Non-binary, genderqueer, or gender non-conforming\")\n",
    "# find_js_df['Gender'].replace(regex=['Man;Non-binary, genderqueer, or gender non-conforming'], value = ['Man'], inplace=True)\n",
    "# find_js_df['Gender'].replace(regex=['Woman;Non-binary, genderqueer, or gender non-conforming'], value = ['Woman'], inplace=True)"
   ]
  },
  {
   "cell_type": "code",
   "execution_count": 74,
   "metadata": {},
   "outputs": [
    {
     "data": {
      "text/plain": [
       "Man                                                  48856\n",
       "Woman                                                 2591\n",
       "Non-binary, genderqueer, or gender non-conforming     1545\n",
       "Name: Gender, dtype: int64"
      ]
     },
     "execution_count": 74,
     "metadata": {},
     "output_type": "execute_result"
    }
   ],
   "source": [
    "find_js_df['Gender'].value_counts()"
   ]
  },
  {
   "cell_type": "code",
   "execution_count": 77,
   "metadata": {},
   "outputs": [
    {
     "data": {
      "text/plain": [
       "Text(0, 0.5, 'Number of Users')"
      ]
     },
     "execution_count": 77,
     "metadata": {},
     "output_type": "execute_result"
    },
    {
     "data": {
      "image/png": "[encoded data removed]",
      "text/plain": [
       "<Figure size 432x288 with 1 Axes>"
      ]
     },
     "metadata": {
      "needs_background": "light"
     },
     "output_type": "display_data"
    }
   ],
   "source": [
    "users = find_js_df['Gender'].value_counts()\n",
    "x_axis = ['Man', 'Woman', 'Non-binary, genderqueer, or gender non-conforming']\n",
    "plt.bar(x_axis, users, color='purple')\n",
    "plt.xticks(rotation=90)\n",
    "plt.title(\"Gender of JavaScript Users\")\n",
    "plt.xlabel(\"Gender\")\n",
    "plt.ylabel(\"Number of Users\")"
   ]
  },
  {
   "cell_type": "code",
   "execution_count": 33,
   "metadata": {},
   "outputs": [
    {
     "data": {
      "text/plain": [
       "<AxesSubplot:title={'center':'States with the Most Javascript Developers'}, xlabel='States', ylabel='Developers'>"
      ]
     },
     "execution_count": 33,
     "metadata": {},
     "output_type": "execute_result"
    },
    {
     "data": {
      "image/png": "[encoded data removed]",
      "text/plain": [
       "<Figure size 1080x504 with 1 Axes>"
      ]
     },
     "metadata": {
      "needs_background": "light"
     },
     "output_type": "display_data"
    }
   ],
   "source": [
    "# Trying to count people using javascript in each indivual state.\n",
    "\n",
    "\n",
    "js_states = find_js_df.set_index('US_State')\n",
    "js_states = js_states.drop(['I do not reside in the United States','Guam'])\n",
    "js_states = js_states.reset_index()\n",
    "js_states['US_State'].value_counts().sort_values(ascending=False).plot(kind = 'bar', rot=90,\n",
    "                                                           figsize=(15,7),\n",
    "                                                           title='States with the Most Javascript Developers', \n",
    "                                                           xlabel='States', \n",
    "                                                           ylabel='Developers')\n"
   ]
  },
  {
   "cell_type": "code",
   "execution_count": 97,
   "metadata": {},
   "outputs": [
    {
     "data": {
      "text/plain": [
       "array(['Slovakia', 'Netherlands', 'Austria', 'United States of America',\n",
       "       'Malaysia', 'India', 'Spain', 'Peru',\n",
       "       'United Kingdom of Great Britain and Northern Ireland', 'Turkey',\n",
       "       'Canada', 'Brazil', 'Sweden', 'France', 'Germany', 'Malawi',\n",
       "       'Poland', 'Viet Nam', 'Italy', 'Greece', 'Russian Federation',\n",
       "       'Ireland', 'Georgia', 'Uzbekistan', 'Switzerland', 'Hungary',\n",
       "       'Belgium', 'Israel', 'Nigeria', 'Albania', 'Bangladesh', 'Romania',\n",
       "       'Lithuania', 'Ukraine', 'Croatia', 'Denmark', 'Bahrain', 'Egypt',\n",
       "       'Nepal', 'Colombia', 'Indonesia', 'Czech Republic', 'Chile',\n",
       "       'Serbia', 'Iran, Islamic Republic of...', 'New Zealand',\n",
       "       'Bulgaria', 'Estonia', 'Tunisia', 'Armenia', 'Finland',\n",
       "       'Hong Kong (S.A.R.)', 'Argentina', 'Costa Rica', 'South Africa',\n",
       "       'Japan', 'United Arab Emirates', 'Bolivia', 'Portugal',\n",
       "       'Bosnia and Herzegovina', 'Pakistan', 'Uruguay', 'Lebanon',\n",
       "       'South Korea', 'China', 'Luxembourg', 'Malta', 'Belarus',\n",
       "       'Australia', 'Madagascar', 'Singapore', 'Morocco', 'Norway',\n",
       "       'The former Yugoslav Republic of Macedonia', 'Botswana', 'Algeria',\n",
       "       'Senegal', 'Cyprus', 'Venezuela, Bolivarian Republic of...',\n",
       "       'Jordan', 'Slovenia', 'Dominican Republic', 'Kenya',\n",
       "       'Syrian Arab Republic', 'Mexico', 'Zambia', 'Sri Lanka', 'Taiwan',\n",
       "       'Nomadic', 'Latvia', 'Guatemala', 'Ethiopia', 'Paraguay',\n",
       "       'Iceland', 'Haiti', 'Cameroon', 'Republic of Moldova',\n",
       "       'Libyan Arab Jamahiriya', 'Panama', 'Kosovo', \"Côte d'Ivoire\",\n",
       "       'Cuba', 'Philippines', 'Myanmar',\n",
       "       \"Lao People's Democratic Republic\", 'Yemen', 'Thailand',\n",
       "       'Democratic Republic of the Congo', 'United Republic of Tanzania',\n",
       "       'Iraq', 'Mozambique', 'Andorra', 'Kyrgyzstan', 'Kuwait', 'Ecuador',\n",
       "       'Saudi Arabia', 'Mauritania', 'Azerbaijan', 'Honduras',\n",
       "       'Kazakhstan', 'Angola', 'Oman', 'Swaziland', 'Sudan', 'Guyana',\n",
       "       'Turkmenistan', 'Chad', 'Afghanistan', 'El Salvador', 'Benin',\n",
       "       'North Korea', 'Nicaragua', 'Dominica', 'Ghana', 'Burundi',\n",
       "       'Micronesia, Federated States of...', 'Zimbabwe', 'Gambia',\n",
       "       'Bahamas', 'Suriname', 'Trinidad and Tobago', 'Djibouti', 'Bhutan',\n",
       "       'Uganda', 'Rwanda', 'Mauritius', 'Maldives', 'Montenegro',\n",
       "       'Tajikistan', 'Somalia', 'Saint Kitts and Nevis',\n",
       "       'Congo, Republic of the...', 'Monaco', 'Republic of Korea',\n",
       "       'Qatar', 'Cambodia', 'Togo', 'Isle of Man', 'Jamaica', 'Mongolia',\n",
       "       'Brunei Darussalam', 'Namibia', 'Palestine',\n",
       "       'Central African Republic', 'Lesotho', 'Guinea', 'Liberia',\n",
       "       'Cape Verde', 'Barbados', 'Sierra Leone', 'Saint Lucia',\n",
       "       'San Marino', 'Burkina Faso', 'Belize', 'Niger', 'Tuvalu', 'Fiji',\n",
       "       'Mali'], dtype=object)"
      ]
     },
     "execution_count": 97,
     "metadata": {},
     "output_type": "execute_result"
    }
   ],
   "source": [
    "unique_countries_df = find_js_df[\"Country\"].unique()\n",
    "unique_countries_df"
   ]
  },
  {
   "cell_type": "code",
   "execution_count": 98,
   "metadata": {},
   "outputs": [
    {
     "data": {
      "text/plain": [
       "181"
      ]
     },
     "execution_count": 98,
     "metadata": {},
     "output_type": "execute_result"
    }
   ],
   "source": [
    "\n",
    "number_unique_countries = full_df['Country'].nunique()\n",
    "number_unique_countries"
   ]
  },
  {
   "cell_type": "code",
   "execution_count": 110,
   "metadata": {},
   "outputs": [
    {
     "data": {
      "text/plain": [
       "United States of America                                9987\n",
       "India                                                   6460\n",
       "Germany                                                 3389\n",
       "United Kingdom of Great Britain and Northern Ireland    2850\n",
       "Canada                                                  1981\n",
       "France                                                  1802\n",
       "Brazil                                                  1533\n",
       "Netherlands                                             1183\n",
       "Australia                                               1110\n",
       "Italy                                                   1096\n",
       "Name: Country, dtype: int64"
      ]
     },
     "execution_count": 110,
     "metadata": {},
     "output_type": "execute_result"
    }
   ],
   "source": [
    "\n",
    "js_country = find_js_df['Country'].value_counts()\n",
    "\n",
    "js_country.head(10)\n"
   ]
  },
  {
   "cell_type": "code",
   "execution_count": 127,
   "metadata": {},
   "outputs": [
    {
     "data": {
      "image/png": "[encoded data removed]",
      "text/plain": [
       "<Figure size 1440x720 with 1 Axes>"
      ]
     },
     "metadata": {
      "needs_background": "light"
     },
     "output_type": "display_data"
    }
   ],
   "source": [
    "js_country.head(10).plot(kind=\"bar\", figsize=(20,10))\n",
    "\n",
    "\n",
    "\n",
    "plt.title(\"JavaScript Users Per Country\", fontsize = 30)\n",
    "plt.xlabel('Top 10 Countries',fontsize = 30)\n",
    "plt.ylabel('JavaScript Users', fontsize = 30)\n",
    "plt.xticks(fontsize=20)\n",
    "plt.yticks(fontsize=20)\n",
    "\n",
    "\n",
    "plt.show()\n"
   ]
  },
  {
   "cell_type": "code",
   "execution_count": null,
   "metadata": {},
   "outputs": [],
   "source": []
  }
 ],
 "metadata": {
  "interpreter": {
   "hash": "48b8287f69fd3488ce7ae437ba6cb47dfd4896655c7d535660681508fd1adcdf"
  },
  "kernelspec": {
   "display_name": "Python 3",
   "language": "python",
   "name": "python3"
  },
  "language_info": {
   "codemirror_mode": {
    "name": "ipython",
    "version": 3
   },
   "file_extension": ".py",
   "mimetype": "text/x-python",
   "name": "python",
   "nbconvert_exporter": "python",
   "pygments_lexer": "ipython3",
   "version": "3.9.7"
  }
 },
 "nbformat": 4,
 "nbformat_minor": 2
}
