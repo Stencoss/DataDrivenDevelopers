{
 "cells": [
  {
   "cell_type": "code",
<<<<<<< HEAD
   "execution_count": 26,
=======
   "execution_count": 139,
>>>>>>> countryBranch
   "metadata": {},
   "outputs": [],
   "source": [
    "from matplotlib import pyplot as plt\n",
    "from scipy import stats\n",
    "import numpy as np\n",
    "import pandas as pd\n",
    "from collections import Counter             # Used to tally the languages\n"
   ]
  },
  {
   "cell_type": "code",
<<<<<<< HEAD
   "execution_count": 27,
=======
   "execution_count": 140,
>>>>>>> countryBranch
   "metadata": {},
   "outputs": [
    {
     "data": {
      "text/html": [
       "<div>\n",
       "<style scoped>\n",
       "    .dataframe tbody tr th:only-of-type {\n",
       "        vertical-align: middle;\n",
       "    }\n",
       "\n",
       "    .dataframe tbody tr th {\n",
       "        vertical-align: top;\n",
       "    }\n",
       "\n",
       "    .dataframe thead th {\n",
       "        text-align: right;\n",
       "    }\n",
       "</style>\n",
       "<table border=\"1\" class=\"dataframe\">\n",
       "  <thead>\n",
       "    <tr style=\"text-align: right;\">\n",
       "      <th></th>\n",
       "      <th>ResponseId</th>\n",
       "      <th>MainBranch</th>\n",
       "      <th>Country</th>\n",
       "      <th>US_State</th>\n",
       "      <th>UK_Country</th>\n",
       "      <th>LanguageHaveWorkedWith</th>\n",
       "      <th>LanguageWantToWorkWith</th>\n",
       "      <th>DatabaseHaveWorkedWith</th>\n",
       "      <th>DatabaseWantToWorkWith</th>\n",
       "      <th>Age</th>\n",
       "      <th>Gender</th>\n",
       "      <th>Sexuality</th>\n",
       "      <th>Ethnicity</th>\n",
       "    </tr>\n",
       "  </thead>\n",
       "  <tbody>\n",
       "    <tr>\n",
       "      <th>0</th>\n",
       "      <td>1</td>\n",
       "      <td>I am a developer by profession</td>\n",
       "      <td>Slovakia</td>\n",
       "      <td>NaN</td>\n",
       "      <td>NaN</td>\n",
       "      <td>C++;HTML/CSS;JavaScript;Objective-C;PHP;Swift</td>\n",
       "      <td>Swift</td>\n",
       "      <td>PostgreSQL;SQLite</td>\n",
       "      <td>SQLite</td>\n",
       "      <td>25-34 years old</td>\n",
       "      <td>Man</td>\n",
       "      <td>Straight / Heterosexual</td>\n",
       "      <td>White or of European descent</td>\n",
       "    </tr>\n",
       "  </tbody>\n",
       "</table>\n",
       "</div>"
      ],
      "text/plain": [
       "   ResponseId                      MainBranch   Country US_State UK_Country  \\\n",
       "0           1  I am a developer by profession  Slovakia      NaN        NaN   \n",
       "\n",
       "                          LanguageHaveWorkedWith LanguageWantToWorkWith  \\\n",
       "0  C++;HTML/CSS;JavaScript;Objective-C;PHP;Swift                  Swift   \n",
       "\n",
       "  DatabaseHaveWorkedWith DatabaseWantToWorkWith              Age Gender  \\\n",
       "0      PostgreSQL;SQLite                 SQLite  25-34 years old    Man   \n",
       "\n",
       "                 Sexuality                     Ethnicity  \n",
       "0  Straight / Heterosexual  White or of European descent  "
      ]
     },
<<<<<<< HEAD
     "execution_count": 27,
=======
     "execution_count": 140,
>>>>>>> countryBranch
     "metadata": {},
     "output_type": "execute_result"
    }
   ],
   "source": [
    "# Two versions of the file - Edited is a slimed down version and full is the unedited version\n",
    "file = (\"Resources/survey_results_2021_edited.csv\")          # Slimed down\n",
    "df = pd.read_csv(file)                                     # Read into df  pandas dataframe\n",
    "df.head(1)\n",
    "\n",
    "\n"
   ]
  },
  {
   "cell_type": "code",
<<<<<<< HEAD
   "execution_count": 28,
=======
   "execution_count": 141,
>>>>>>> countryBranch
   "metadata": {},
   "outputs": [
    {
     "data": {
      "text/html": [
       "<div>\n",
       "<style scoped>\n",
       "    .dataframe tbody tr th:only-of-type {\n",
       "        vertical-align: middle;\n",
       "    }\n",
       "\n",
       "    .dataframe tbody tr th {\n",
       "        vertical-align: top;\n",
       "    }\n",
       "\n",
       "    .dataframe thead th {\n",
       "        text-align: right;\n",
       "    }\n",
       "</style>\n",
       "<table border=\"1\" class=\"dataframe\">\n",
       "  <thead>\n",
       "    <tr style=\"text-align: right;\">\n",
       "      <th></th>\n",
       "      <th>ResponseId</th>\n",
       "      <th>MainBranch</th>\n",
       "      <th>Employment</th>\n",
       "      <th>Country</th>\n",
       "      <th>US_State</th>\n",
       "      <th>UK_Country</th>\n",
       "      <th>EdLevel</th>\n",
       "      <th>Age1stCode</th>\n",
       "      <th>LearnCode</th>\n",
       "      <th>YearsCode</th>\n",
       "      <th>...</th>\n",
       "      <th>Age</th>\n",
       "      <th>Gender</th>\n",
       "      <th>Trans</th>\n",
       "      <th>Sexuality</th>\n",
       "      <th>Ethnicity</th>\n",
       "      <th>Accessibility</th>\n",
       "      <th>MentalHealth</th>\n",
       "      <th>SurveyLength</th>\n",
       "      <th>SurveyEase</th>\n",
       "      <th>ConvertedCompYearly</th>\n",
       "    </tr>\n",
       "  </thead>\n",
       "  <tbody>\n",
       "    <tr>\n",
       "      <th>0</th>\n",
       "      <td>1</td>\n",
       "      <td>I am a developer by profession</td>\n",
       "      <td>Independent contractor, freelancer, or self-em...</td>\n",
       "      <td>Slovakia</td>\n",
       "      <td>NaN</td>\n",
       "      <td>NaN</td>\n",
       "      <td>Secondary school (e.g. American high school, G...</td>\n",
       "      <td>18 - 24 years</td>\n",
       "      <td>Coding Bootcamp;Other online resources (ex: vi...</td>\n",
       "      <td>NaN</td>\n",
       "      <td>...</td>\n",
       "      <td>25-34 years old</td>\n",
       "      <td>Man</td>\n",
       "      <td>No</td>\n",
       "      <td>Straight / Heterosexual</td>\n",
       "      <td>White or of European descent</td>\n",
       "      <td>None of the above</td>\n",
       "      <td>None of the above</td>\n",
       "      <td>Appropriate in length</td>\n",
       "      <td>Easy</td>\n",
       "      <td>62268.0</td>\n",
       "    </tr>\n",
       "  </tbody>\n",
       "</table>\n",
       "<p>1 rows × 48 columns</p>\n",
       "</div>"
      ],
      "text/plain": [
       "   ResponseId                      MainBranch  \\\n",
       "0           1  I am a developer by profession   \n",
       "\n",
       "                                          Employment   Country US_State  \\\n",
       "0  Independent contractor, freelancer, or self-em...  Slovakia      NaN   \n",
       "\n",
       "  UK_Country                                            EdLevel  \\\n",
       "0        NaN  Secondary school (e.g. American high school, G...   \n",
       "\n",
       "      Age1stCode                                          LearnCode YearsCode  \\\n",
       "0  18 - 24 years  Coding Bootcamp;Other online resources (ex: vi...       NaN   \n",
       "\n",
       "   ...              Age Gender Trans                Sexuality  \\\n",
       "0  ...  25-34 years old    Man    No  Straight / Heterosexual   \n",
       "\n",
       "                      Ethnicity      Accessibility       MentalHealth  \\\n",
       "0  White or of European descent  None of the above  None of the above   \n",
       "\n",
       "            SurveyLength SurveyEase ConvertedCompYearly  \n",
       "0  Appropriate in length       Easy             62268.0  \n",
       "\n",
       "[1 rows x 48 columns]"
      ]
     },
<<<<<<< HEAD
     "execution_count": 28,
=======
     "execution_count": 141,
>>>>>>> countryBranch
     "metadata": {},
     "output_type": "execute_result"
    }
   ],
   "source": [
    "# Second file that we could use - has all data with no columns removed\n",
    "full_file = (\"Resources/survey_results_public.csv\")           # Unedited file\n",
    "full_df = pd.read_csv(full_file)                              # Read into full_df pandas dataframe\n",
    "full_df.head(1)"
   ]
  },
  {
   "cell_type": "markdown",
   "metadata": {},
   "source": []
  },
  {
   "cell_type": "code",
<<<<<<< HEAD
   "execution_count": 29,
=======
   "execution_count": 142,
>>>>>>> countryBranch
   "metadata": {},
   "outputs": [],
   "source": [
    "# Dropping columns from df that will not be used.  Might keep this? - Deleted Drop\n",
    "\n",
    "\n",
    " # Working to split language up so we can count how many people use which lanaguge \n",
    "df.dropna(axis='index', how='all', subset=['LanguageHaveWorkedWith'])\n",
    "df.rename(columns={ 'MainBranch': 'Main Branch', 'LanguageHaveWorkedWith': 'Languages Learned', 'LanguageWantToWorkWith': 'Future Goal Language'}, inplace=True)"
   ]
  },
  {
   "cell_type": "code",
<<<<<<< HEAD
   "execution_count": 30,
=======
   "execution_count": 143,
>>>>>>> countryBranch
   "metadata": {},
   "outputs": [
    {
     "data": {
      "text/html": [
       "<div>\n",
       "<style scoped>\n",
       "    .dataframe tbody tr th:only-of-type {\n",
       "        vertical-align: middle;\n",
       "    }\n",
       "\n",
       "    .dataframe tbody tr th {\n",
       "        vertical-align: top;\n",
       "    }\n",
       "\n",
       "    .dataframe thead th {\n",
       "        text-align: right;\n",
       "    }\n",
       "</style>\n",
       "<table border=\"1\" class=\"dataframe\">\n",
       "  <thead>\n",
       "    <tr style=\"text-align: right;\">\n",
       "      <th></th>\n",
       "      <th>ResponseId</th>\n",
       "      <th>MainBranch</th>\n",
       "      <th>Employment</th>\n",
       "      <th>Country</th>\n",
       "      <th>US_State</th>\n",
       "      <th>UK_Country</th>\n",
       "      <th>EdLevel</th>\n",
       "      <th>Age1stCode</th>\n",
       "      <th>LearnCode</th>\n",
       "      <th>YearsCode</th>\n",
       "      <th>...</th>\n",
       "      <th>Age</th>\n",
       "      <th>Gender</th>\n",
       "      <th>Trans</th>\n",
       "      <th>Sexuality</th>\n",
       "      <th>Ethnicity</th>\n",
       "      <th>Accessibility</th>\n",
       "      <th>MentalHealth</th>\n",
       "      <th>SurveyLength</th>\n",
       "      <th>SurveyEase</th>\n",
       "      <th>ConvertedCompYearly</th>\n",
       "    </tr>\n",
       "  </thead>\n",
       "  <tbody>\n",
       "    <tr>\n",
       "      <th>0</th>\n",
       "      <td>1</td>\n",
       "      <td>I am a developer by profession</td>\n",
       "      <td>Independent contractor, freelancer, or self-em...</td>\n",
       "      <td>Slovakia</td>\n",
       "      <td>Not Applicable</td>\n",
       "      <td>Not Applicable</td>\n",
       "      <td>Secondary school (e.g. American high school, G...</td>\n",
       "      <td>18 - 24 years</td>\n",
       "      <td>Coding Bootcamp;Other online resources (ex: vi...</td>\n",
       "      <td>Not Applicable</td>\n",
       "      <td>...</td>\n",
       "      <td>25-34 years old</td>\n",
       "      <td>Man</td>\n",
       "      <td>No</td>\n",
       "      <td>Straight / Heterosexual</td>\n",
       "      <td>White or of European descent</td>\n",
       "      <td>None of the above</td>\n",
       "      <td>None of the above</td>\n",
       "      <td>Appropriate in length</td>\n",
       "      <td>Easy</td>\n",
       "      <td>62268.0</td>\n",
       "    </tr>\n",
       "    <tr>\n",
       "      <th>1</th>\n",
       "      <td>2</td>\n",
       "      <td>I am a student who is learning to code</td>\n",
       "      <td>Student, full-time</td>\n",
       "      <td>Netherlands</td>\n",
       "      <td>Not Applicable</td>\n",
       "      <td>Not Applicable</td>\n",
       "      <td>Bachelor’s degree (B.A., B.S., B.Eng., etc.)</td>\n",
       "      <td>11 - 17 years</td>\n",
       "      <td>Other online resources (ex: videos, blogs, etc...</td>\n",
       "      <td>7</td>\n",
       "      <td>...</td>\n",
       "      <td>18-24 years old</td>\n",
       "      <td>Man</td>\n",
       "      <td>No</td>\n",
       "      <td>Straight / Heterosexual</td>\n",
       "      <td>White or of European descent</td>\n",
       "      <td>None of the above</td>\n",
       "      <td>None of the above</td>\n",
       "      <td>Appropriate in length</td>\n",
       "      <td>Easy</td>\n",
       "      <td>Not Applicable</td>\n",
       "    </tr>\n",
       "    <tr>\n",
       "      <th>2</th>\n",
       "      <td>3</td>\n",
       "      <td>I am not primarily a developer, but I write co...</td>\n",
       "      <td>Student, full-time</td>\n",
       "      <td>Russian Federation</td>\n",
       "      <td>Not Applicable</td>\n",
       "      <td>Not Applicable</td>\n",
       "      <td>Bachelor’s degree (B.A., B.S., B.Eng., etc.)</td>\n",
       "      <td>11 - 17 years</td>\n",
       "      <td>Other online resources (ex: videos, blogs, etc...</td>\n",
       "      <td>Not Applicable</td>\n",
       "      <td>...</td>\n",
       "      <td>18-24 years old</td>\n",
       "      <td>Man</td>\n",
       "      <td>No</td>\n",
       "      <td>Prefer not to say</td>\n",
       "      <td>Prefer not to say</td>\n",
       "      <td>None of the above</td>\n",
       "      <td>None of the above</td>\n",
       "      <td>Appropriate in length</td>\n",
       "      <td>Easy</td>\n",
       "      <td>Not Applicable</td>\n",
       "    </tr>\n",
       "    <tr>\n",
       "      <th>3</th>\n",
       "      <td>4</td>\n",
       "      <td>I am a developer by profession</td>\n",
       "      <td>Employed full-time</td>\n",
       "      <td>Austria</td>\n",
       "      <td>Not Applicable</td>\n",
       "      <td>Not Applicable</td>\n",
       "      <td>Master’s degree (M.A., M.S., M.Eng., MBA, etc.)</td>\n",
       "      <td>11 - 17 years</td>\n",
       "      <td>Not Applicable</td>\n",
       "      <td>Not Applicable</td>\n",
       "      <td>...</td>\n",
       "      <td>35-44 years old</td>\n",
       "      <td>Man</td>\n",
       "      <td>No</td>\n",
       "      <td>Straight / Heterosexual</td>\n",
       "      <td>White or of European descent</td>\n",
       "      <td>I am deaf / hard of hearing</td>\n",
       "      <td>Not Applicable</td>\n",
       "      <td>Appropriate in length</td>\n",
       "      <td>Neither easy nor difficult</td>\n",
       "      <td>Not Applicable</td>\n",
       "    </tr>\n",
       "    <tr>\n",
       "      <th>4</th>\n",
       "      <td>5</td>\n",
       "      <td>I am a developer by profession</td>\n",
       "      <td>Independent contractor, freelancer, or self-em...</td>\n",
       "      <td>United Kingdom of Great Britain and Northern I...</td>\n",
       "      <td>Not Applicable</td>\n",
       "      <td>England</td>\n",
       "      <td>Master’s degree (M.A., M.S., M.Eng., MBA, etc.)</td>\n",
       "      <td>5 - 10 years</td>\n",
       "      <td>Friend or family member</td>\n",
       "      <td>17</td>\n",
       "      <td>...</td>\n",
       "      <td>25-34 years old</td>\n",
       "      <td>Man</td>\n",
       "      <td>No</td>\n",
       "      <td>Not Applicable</td>\n",
       "      <td>White or of European descent</td>\n",
       "      <td>None of the above</td>\n",
       "      <td>Not Applicable</td>\n",
       "      <td>Appropriate in length</td>\n",
       "      <td>Easy</td>\n",
       "      <td>Not Applicable</td>\n",
       "    </tr>\n",
       "  </tbody>\n",
       "</table>\n",
       "<p>5 rows × 48 columns</p>\n",
       "</div>"
      ],
      "text/plain": [
       "   ResponseId                                         MainBranch  \\\n",
       "0           1                     I am a developer by profession   \n",
       "1           2             I am a student who is learning to code   \n",
       "2           3  I am not primarily a developer, but I write co...   \n",
       "3           4                     I am a developer by profession   \n",
       "4           5                     I am a developer by profession   \n",
       "\n",
       "                                          Employment  \\\n",
       "0  Independent contractor, freelancer, or self-em...   \n",
       "1                                 Student, full-time   \n",
       "2                                 Student, full-time   \n",
       "3                                 Employed full-time   \n",
       "4  Independent contractor, freelancer, or self-em...   \n",
       "\n",
       "                                             Country        US_State  \\\n",
       "0                                           Slovakia  Not Applicable   \n",
       "1                                        Netherlands  Not Applicable   \n",
       "2                                 Russian Federation  Not Applicable   \n",
       "3                                            Austria  Not Applicable   \n",
       "4  United Kingdom of Great Britain and Northern I...  Not Applicable   \n",
       "\n",
       "       UK_Country                                            EdLevel  \\\n",
       "0  Not Applicable  Secondary school (e.g. American high school, G...   \n",
       "1  Not Applicable       Bachelor’s degree (B.A., B.S., B.Eng., etc.)   \n",
       "2  Not Applicable       Bachelor’s degree (B.A., B.S., B.Eng., etc.)   \n",
       "3  Not Applicable    Master’s degree (M.A., M.S., M.Eng., MBA, etc.)   \n",
       "4         England    Master’s degree (M.A., M.S., M.Eng., MBA, etc.)   \n",
       "\n",
       "      Age1stCode                                          LearnCode  \\\n",
       "0  18 - 24 years  Coding Bootcamp;Other online resources (ex: vi...   \n",
       "1  11 - 17 years  Other online resources (ex: videos, blogs, etc...   \n",
       "2  11 - 17 years  Other online resources (ex: videos, blogs, etc...   \n",
       "3  11 - 17 years                                     Not Applicable   \n",
       "4   5 - 10 years                            Friend or family member   \n",
       "\n",
       "        YearsCode  ...              Age Gender Trans                Sexuality  \\\n",
       "0  Not Applicable  ...  25-34 years old    Man    No  Straight / Heterosexual   \n",
       "1               7  ...  18-24 years old    Man    No  Straight / Heterosexual   \n",
       "2  Not Applicable  ...  18-24 years old    Man    No        Prefer not to say   \n",
       "3  Not Applicable  ...  35-44 years old    Man    No  Straight / Heterosexual   \n",
       "4              17  ...  25-34 years old    Man    No           Not Applicable   \n",
       "\n",
       "                      Ethnicity                Accessibility  \\\n",
       "0  White or of European descent            None of the above   \n",
       "1  White or of European descent            None of the above   \n",
       "2             Prefer not to say            None of the above   \n",
       "3  White or of European descent  I am deaf / hard of hearing   \n",
       "4  White or of European descent            None of the above   \n",
       "\n",
       "        MentalHealth           SurveyLength                  SurveyEase  \\\n",
       "0  None of the above  Appropriate in length                        Easy   \n",
       "1  None of the above  Appropriate in length                        Easy   \n",
       "2  None of the above  Appropriate in length                        Easy   \n",
       "3     Not Applicable  Appropriate in length  Neither easy nor difficult   \n",
       "4     Not Applicable  Appropriate in length                        Easy   \n",
       "\n",
       "  ConvertedCompYearly  \n",
       "0             62268.0  \n",
       "1      Not Applicable  \n",
       "2      Not Applicable  \n",
       "3      Not Applicable  \n",
       "4      Not Applicable  \n",
       "\n",
       "[5 rows x 48 columns]"
      ]
     },
<<<<<<< HEAD
     "execution_count": 30,
=======
     "execution_count": 143,
>>>>>>> countryBranch
     "metadata": {},
     "output_type": "execute_result"
    }
   ],
   "source": [
    "# This fills in missing data from the data frame with \"Not Applicable\"\n",
    "df.replace(np.nan, \"Not Applicable\").head(5)\n",
    "full_df.replace(np.nan, \"Not Applicable\").head(5)\n",
    "\n",
    "\n"
   ]
  },
  {
   "cell_type": "code",
<<<<<<< HEAD
   "execution_count": 31,
=======
   "execution_count": 144,
   "metadata": {},
   "outputs": [],
   "source": [
    "# gender_groupby = clean_df.groupby([\"Gender\"])\n",
    "# gender_groupby.sum()\n",
    "#clean_df[\"Gender\"].value_counts()\n",
    "# men = clean_df.loc[clean_df[\"Gender\"]==\"Man\"]\n",
    "# women = clean_df.loc[clean_df[\"Gender\"]==\"Woman\"]\n",
    "# non_binary = clean_df.loc[clean_df[\"Gender\"]==\"Non-Binary\"]\n"
   ]
  },
  {
   "cell_type": "code",
   "execution_count": 145,
>>>>>>> countryBranch
   "metadata": {},
   "outputs": [],
   "source": [
    "#TODO: Clean up or combine loops\n",
    "\n",
    "# Pull series LanguageHaveWorkedWith and find the top 20 popular languages\n",
    "# Isolate Column - split langs into a list - count number of repeats?\n",
    "   \n",
    "# Method to pull top languages.  Can be used on current and what people want to learn.\n",
    "def find_top_langs(df_in):   \n",
    "    cnt = Counter()                                     # Create a counter object\n",
    "    temp_list = []                                      # PLace holder list to hold a list of lists\n",
    "    flat_list = []                                      # \"flat\" list that makes a 2d list a 1d.  Gets rid of nested list\n",
    "\n",
    "    # This for loop creates a list from each row in the series and then from that a list to break up the different langs\n",
    "    # Example String ->  ['C++;Python;PHP'] -> Split ['C++', 'Python', 'PHP'] - For each Row\n",
    "    for langs in df_in:\n",
    "        langs = str(langs)\n",
    "        temp_list.append(langs.split(';'))\n",
    "\n",
    "    # This opens up the the list of lists and makes it into one gaint list\n",
    "    for temp in temp_list:              # temp is a list inside a list [[list1], [list2], [list3]]\n",
    "        for flat in temp:               # flat is the element in list1, list2, list3\n",
    "            flat_list.append(flat)      # New List with no lists - just elements [list1, list2, list3]\n",
    "\n",
    "    for temp in flat_list:              # Counts and tallys how many times it is each element\n",
    "        cnt[temp] += 1\n",
    "\n",
    "    # cnt                                 # Outputs the data as a dictionary\n",
    "\n",
    "    cnt_df = pd.DataFrame(cnt.items()).sort_values(by=[1], ascending=False)     # Convert to a dataframe to sort\n",
    "    return cnt_df\n"
   ]
  },
  {
   "cell_type": "code",
<<<<<<< HEAD
   "execution_count": 32,
=======
   "execution_count": 146,
>>>>>>> countryBranch
   "metadata": {},
   "outputs": [
    {
     "data": {
      "text/html": [
       "<div>\n",
       "<style scoped>\n",
       "    .dataframe tbody tr th:only-of-type {\n",
       "        vertical-align: middle;\n",
       "    }\n",
       "\n",
       "    .dataframe tbody tr th {\n",
       "        vertical-align: top;\n",
       "    }\n",
       "\n",
       "    .dataframe thead th {\n",
       "        text-align: right;\n",
       "    }\n",
       "</style>\n",
       "<table border=\"1\" class=\"dataframe\">\n",
       "  <thead>\n",
       "    <tr style=\"text-align: right;\">\n",
       "      <th></th>\n",
       "      <th>0</th>\n",
       "      <th>1</th>\n",
       "    </tr>\n",
       "  </thead>\n",
       "  <tbody>\n",
       "    <tr>\n",
       "      <th>0</th>\n",
       "      <td>JavaScript</td>\n",
       "      <td>53587</td>\n",
       "    </tr>\n",
       "    <tr>\n",
       "      <th>1</th>\n",
       "      <td>HTML/CSS</td>\n",
       "      <td>46259</td>\n",
       "    </tr>\n",
       "    <tr>\n",
       "      <th>2</th>\n",
       "      <td>Python</td>\n",
       "      <td>39792</td>\n",
       "    </tr>\n",
       "    <tr>\n",
       "      <th>3</th>\n",
       "      <td>SQL</td>\n",
       "      <td>38835</td>\n",
       "    </tr>\n",
       "    <tr>\n",
       "      <th>4</th>\n",
       "      <td>Java</td>\n",
       "      <td>29162</td>\n",
       "    </tr>\n",
       "    <tr>\n",
       "      <th>5</th>\n",
       "      <td>Node.js</td>\n",
       "      <td>27975</td>\n",
       "    </tr>\n",
       "    <tr>\n",
       "      <th>6</th>\n",
       "      <td>TypeScript</td>\n",
       "      <td>24909</td>\n",
       "    </tr>\n",
       "    <tr>\n",
       "      <th>7</th>\n",
       "      <td>C#</td>\n",
       "      <td>22984</td>\n",
       "    </tr>\n",
       "    <tr>\n",
       "      <th>8</th>\n",
       "      <td>Bash/Shell</td>\n",
       "      <td>22385</td>\n",
       "    </tr>\n",
       "    <tr>\n",
       "      <th>9</th>\n",
       "      <td>C++</td>\n",
       "      <td>20057</td>\n",
       "    </tr>\n",
       "  </tbody>\n",
       "</table>\n",
       "</div>"
      ],
      "text/plain": [
       "            0      1\n",
       "0  JavaScript  53587\n",
       "1    HTML/CSS  46259\n",
       "2      Python  39792\n",
       "3         SQL  38835\n",
       "4        Java  29162\n",
       "5     Node.js  27975\n",
       "6  TypeScript  24909\n",
       "7          C#  22984\n",
       "8  Bash/Shell  22385\n",
       "9         C++  20057"
      ]
     },
<<<<<<< HEAD
     "execution_count": 32,
=======
     "execution_count": 146,
>>>>>>> countryBranch
     "metadata": {},
     "output_type": "execute_result"
    }
   ],
   "source": [
    "# Run the method based off of languages Learned column\n",
    "\n",
    "top10current = find_top_langs(full_df['LanguageHaveWorkedWith'] ).set_index(0).reset_index().head(10)  \n",
    "top10current                                "
   ]
  },
  {
   "cell_type": "code",
<<<<<<< HEAD
   "execution_count": 33,
=======
   "execution_count": 147,
>>>>>>> countryBranch
   "metadata": {},
   "outputs": [
    {
     "data": {
      "text/html": [
       "<div>\n",
       "<style scoped>\n",
       "    .dataframe tbody tr th:only-of-type {\n",
       "        vertical-align: middle;\n",
       "    }\n",
       "\n",
       "    .dataframe tbody tr th {\n",
       "        vertical-align: top;\n",
       "    }\n",
       "\n",
       "    .dataframe thead th {\n",
       "        text-align: right;\n",
       "    }\n",
       "</style>\n",
       "<table border=\"1\" class=\"dataframe\">\n",
       "  <thead>\n",
       "    <tr style=\"text-align: right;\">\n",
       "      <th></th>\n",
       "      <th>0</th>\n",
       "      <th>1</th>\n",
       "    </tr>\n",
       "  </thead>\n",
       "  <tbody>\n",
       "    <tr>\n",
       "      <th>0</th>\n",
       "      <td>JavaScript</td>\n",
       "      <td>37008</td>\n",
       "    </tr>\n",
       "    <tr>\n",
       "      <th>1</th>\n",
       "      <td>Python</td>\n",
       "      <td>34929</td>\n",
       "    </tr>\n",
       "    <tr>\n",
       "      <th>2</th>\n",
       "      <td>HTML/CSS</td>\n",
       "      <td>29353</td>\n",
       "    </tr>\n",
       "    <tr>\n",
       "      <th>3</th>\n",
       "      <td>TypeScript</td>\n",
       "      <td>26905</td>\n",
       "    </tr>\n",
       "    <tr>\n",
       "      <th>4</th>\n",
       "      <td>SQL</td>\n",
       "      <td>26631</td>\n",
       "    </tr>\n",
       "    <tr>\n",
       "      <th>5</th>\n",
       "      <td>Node.js</td>\n",
       "      <td>24100</td>\n",
       "    </tr>\n",
       "    <tr>\n",
       "      <th>6</th>\n",
       "      <td>C#</td>\n",
       "      <td>17999</td>\n",
       "    </tr>\n",
       "    <tr>\n",
       "      <th>7</th>\n",
       "      <td>Java</td>\n",
       "      <td>17222</td>\n",
       "    </tr>\n",
       "    <tr>\n",
       "      <th>8</th>\n",
       "      <td>Rust</td>\n",
       "      <td>15865</td>\n",
       "    </tr>\n",
       "    <tr>\n",
       "      <th>9</th>\n",
       "      <td>Go</td>\n",
       "      <td>15788</td>\n",
       "    </tr>\n",
       "  </tbody>\n",
       "</table>\n",
       "</div>"
      ],
      "text/plain": [
       "            0      1\n",
       "0  JavaScript  37008\n",
       "1      Python  34929\n",
       "2    HTML/CSS  29353\n",
       "3  TypeScript  26905\n",
       "4         SQL  26631\n",
       "5     Node.js  24100\n",
       "6          C#  17999\n",
       "7        Java  17222\n",
       "8        Rust  15865\n",
       "9          Go  15788"
      ]
     },
<<<<<<< HEAD
     "execution_count": 33,
=======
     "execution_count": 147,
>>>>>>> countryBranch
     "metadata": {},
     "output_type": "execute_result"
    }
   ],
   "source": [
    "# Run the method based off of languages Learned column\n",
    "top10future = find_top_langs(full_df['LanguageWantToWorkWith'] ).set_index(0).reset_index().head(10)         \n",
    "top10future                         "
   ]
  },
  {
   "cell_type": "code",
<<<<<<< HEAD
   "execution_count": 34,
=======
   "execution_count": 148,
>>>>>>> countryBranch
   "metadata": {},
   "outputs": [
    {
     "data": {
<<<<<<< HEAD
      "image/png": "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",
=======
      "image/png": "iVBORw0KGgoAAAANSUhEUgAAAUMAAAD3CAYAAACHHzbQAAAABHNCSVQICAgIfAhkiAAAAAlwSFlzAAALEgAACxIB0t1+/AAAADh0RVh0U29mdHdhcmUAbWF0cGxvdGxpYiB2ZXJzaW9uMy4yLjIsIGh0dHA6Ly9tYXRwbG90bGliLm9yZy+WH4yJAAAgAElEQVR4nOydd3hUVdrAf++UdEhCHRLK0EURonSlBbug6K7C2laxf6urux/qzn67rui6u1hw7WsXhUXBChoLAgGCoNIiTToBEhIgECAJaTNzvj/ODZmElJlkMglwf8+TJzP31Fvmvae8RZRSmJiYmJzpWJq6AyYmJibNAVMYmpiYmGAKQxMTExPAFIYmJiYmgCkMTUxMTABTGJqYmJgApjBERKaLyJNN3Y/miIhkiMjFjdyGef2DiIjcJiLLmrofvgT7ORKRziJSICLWWvIoEekRSL1BF4ZGJ8v/vCJS5PP9piC1MUFElovIcRFZXE16koisNtJXi0hSMNo1MWlOiIjT+NHbmrovoUQptUcpFaOU8gCIyGIRubOh9QZdGBqdjFFKxQB7gKt8jv03SM0cBp4HplZNEJEwYC4wE4gH3gPmGsdNTGgq4VF1JHO6C7FT7fxCNk0WkXAReV5E9hl/z4tIuJE2WkQyReT/RCTXGFbXOIpUSi1QSs0B9lWTPBqwAc8rpUqUUi8CAozxo4/xIvKliBwUkTzjc0ef9MUi8ncR+V5E8kVkvoi08Un/rYjsFpFDIvKo7/Sg6nSw/Jx9vrtEZIdR7yYRudYnzSoi04xrs0tE7vcdEYhIrIi8LSLZIpIlIk+W//BEpIeILBGRo0b52bWc/y0+/f9LlTSLTx8PicgcEWllpH0jIvdXyf+ziPzK+HyWiHwnIodFZIuITKilD3eJyHYj7zwRSfBJUyLygIjsNM7lGRGx+KTfLiK/GPfuWxHpUqXsfSKyDdgmmn+LyAHj2qwTkb419KmViLxrPLd5IvK5cfykKan4TM+Me/4fEflKRAqBZOOZ+JOIrAMKRcQmIkNFz3SOGNdttE99tT1zS43/R0TPvIZV6csrIjKtyrEvROQP1Zzj4yLykvHZLiKFIvK08T1SRIpFJN74frWIbDT6u1hE+vjUc9L5VWnnLOMZ/k19+yA+I2IR+QcwAnjZuAYv+1R5sYhsM+7ZKyIiVdushFKq0f6ADOBi4/MTwA9AO6AtsBz4u5E2GnADzwHhwCigEOhdR/13AourHPsj8HWVY18Ck2uoYzrwpPG5NfBrIApoAXwEfO6TdzGwA+gFRBrfpxppZwMFwHAgDHgWKPM5/xPt+Jxzps/364EE9AtqonH+HYy0e4FNQEf0aHcBoACbkf458DoQbVzfn4B7jLQPgL8Y9UYAw2u4DuX9H2ncg+eMe1Le/z8Y96+jkf468IGR9lvg+yp1HTHyRQN7gUnol9T5QC5wTjXXf4yRdr5R9iVgqU+9CkgFWgGdga3AnUbaNcB2oI/Rzl+B5VXKfmeUjQQuA1YDceiXZZ/y613NtUkBZhvX3g6MMo7fBiyrklcBPXzO7Shwoc/1zwDSgU5GPxKBQ8CVRp5LjO9t/XjmnL7PQdU+AYPRAwaL8b0NcBxoX805jgHWG58vMNr80SftZ+NzL/SzeYlxLR4xrnuYz2/+xPn5ygHjvu4BxtVwnf3tQ6XzNq7JndXchy+N+9sZOAhcXqs8CaEw3AFc6ZN2GZBRRRhG+6TPAR6thzB8FPiwyrH/AlPqEobVpCUBeVWE4V99vv8O+Mb4/DcM4WB8jwJK8VMYVtN2OjDe+LwIQ7gZ3y8ufxiA9kBJ+YNnpN8ApBqf3wfeADrWcS3/5nvd0ELMt/+/ABf5pHdAC3sb+sVRCHQx0v4BvGN8ngikVWnrdeCxqtcFeBt42idfjNGG0+cBv9wn/XfAQuPz18AdPmkW9A+/i0/ZMVV+eFuBoRjCoobr0gHwAvHVpN1G3cLw/Wp+E7f7fP8TMKNKnm+BW/145pzUIgx97tslxuf7ga9qOM9IoBg9IHAB/wdkGvfgceBFn9/XnCrXOQsYXd35+Rx73KgvuZZr7W8fKp03NQvD4T7f5wCu2n4DodxNTgB2+3zfbRwrJ08pVVhLur8UAC2rHGsJ5NdVUESiROR1Y6p4DD0NiZPKaz05Pp+Po28URl/3licopY6j3/B+IXqKnW5MPY4AfdFv8pPqrvK5C/oNne1T9nX0CBH0m1uAn4ypze01dKFq/wur9L8L8JlPG78AHvQoIx89eiqf+vwG/QIqLzekvJxR9ibAUUMfTjwjSqkCow+JNZy77zPSBXjBp43DxnlXW1YptQh4GXgF2C8ib4hI1ecG9AjnsFIqr5o0f9hbx7EuwPVVrs9wtBAup6Znzh/eA242Pt8MzKguk1KqCFiFnpWNBJagZ28XGseWGFmr3iOvcT413aNy7kWP1FNr6mgAffCXgK5bKIXhPvSNL6czldf84kUkupZ0f9kI9KuyPtDPOF4Xk4HewBClVEv0DQH9o6qLbPQUUhcQiUS/4copRI8Wy3H45O0CvIl+c7dWSsUBG3zarVQ3+gdazl70yLCNUirO+GuplDoHQCmVo5S6SymVANwDvCrVqxxk+9YrIlFV+r8XuMKnjTilVIRSKstI/wC4wVi3ikRPZ8vLLalSLkYp9T/V9KHSM2I8D63RI4/qzt33GdmLHj37thOplFruk1/5NqaUelEpNQA4Bz39e7iaPu0FWolIXDVple6piFQn4FUdx/aiR4a+/Y5WSp20Oehn3VWZCYwXkf7opYDPa8m7BD1iPg9YaXy/DD3dLl+frHqPBH1PfO9Rdf26F+gsIv+uo7/+9KEq/lyHOgmlMPwA+KuItDUWgP+GvlG+PC4iYSIyAhiHXrM7CdEbChHoKZpFRCJExG4kL0aPWB4QvWlTvrC/yI8+tgCK0AvSrYDHAji/j4GrROQC0TvXj1NZiKYDV4pejHeg1+DKiUbf0IPG+U1CjwzLmQM8KCKJxo/yT+UJSqlsYD4wTURait7o6C4io4y6rpeKTaA8ox1PDf0fJyLDjf4/QeXn4zXgH4bgxriP433Sv0L/SJ4AZhsjBtDrNr1Eb87Yjb9BvovuPswCJolWjQoH/oleM8rwyfOwsYjeCXgQvZZX3r8/i8g5Rv9iReT6atrASB8kIkOM56YQPT076boY1/dr9Esk3uh/+UvyZ+Aco78RwJSa2quFmejn5rLy51r05lrHOkvq58ULdKspg1IqEy1UZgCfGKOvmliCXv/dpJQqxZh+AruUUgeNPHOAsSJykXHtJqNfxsurqc+XfOByYKSI1Cbo/elDVfZTyzXwl1AKwyfRQ+B1wHpgjXGsnBz0j3Ufeop1r1Jqcw113YIWWv9B7yQVoUdWGBfwGvQFPQLcDlxjHK+L59Gjmlz0ZsE3/p6cUmoj8HvgQ/QoKx84gH5QQD+MP6PXT+ZT8SNGKbUJmAasQN/Yc4Hvfap/0yizDliLFjxuKn68v0Vv2mxCX8OPqZhmDQJ+FJECYB7woFJqVw39vw8tkLKNejJ9srxglJ8vIvno6zPEp3wJ8Cl6PXOWz/F84FL01Hkf+j4/hd4gqdqHheg1qU+MPnSnYupdzlz0xkc6emr+tlH2M6PeD40ljg3AFVXb8KEl+rrmoad9h9CbXtVxC3rtcjP6nv7BaHMrWvgvALYBASs7K6X2AuPR62MH0SPFh/Hjt2ksxfwD+N6YYg+tIet76Geq2imyD8vRz3/5CGwT+iVxYkSmlNqCnm6/hP6dXIVWn6vz96WUOoLeeLlCRP5e3z5UwwvAdcau8Yt19aMmxFhcbFJEqxLMVEr58zY8JRCRGLQw7lmd8Glg3VcArymlutSZ+TRCRBT6em5v6r6cShgj2ZnojShvXfnPVM54c7xgIiJXGZsw0ehRxnr0SLCh9UaKyJWGXlUievr+WUPrNTn9MaayDwJvmYKwdkxhGFzGo6eC+4CewG9UcIbegl6DzENPk39Br7mamNSIsS57BL1k8nwTd6fZ0yymySYmJiZNjTkyNDExMcEUhiYmJiaAKQxNTExMAFMYmpiYmACmMDQxMTEBTGFoYmJiApjC0MTExAQwhaGJiYkJYApDExMTE8AUhiYmJiaAKQxNTExMAFMYmpiYmACmMDQ5QxARh4h8KDrU6SbR4Tt7+aR/IDoE5R+kmjCWJqc/pjA0Oe0x4nR8ho6k2F0pdTbas3R7n2xdjfACo4C00PfSpKkxhWEIERGPEQHvZxFZIyIX1LOeDPEJXl8lzS4iq43PfxEdEW+d0e6QusrXUOdoEfnS+HybVA7UfSqQDJQppV4rP6CUSldKpYnIf0VkE9BbRNLRIQpSROTOpuqsSdNgqzuLSRApUkolAYjIZcC/0CORYDIcWG5EqRsHnK+UKjGEX1iQ2zpV6IuOm3ISSqmbRGQCOsLbJ8AzSqkaA0mZnL6YI8OmoyXaczUiEiMiC43R4vryqHMiEi0iKcZIcoOITPQp/3uf/Gf5HL8cHc2tA5BrBGpCKZWrlNpXW3mjvXdEZKWIrK0S/e505jx0gKlzjf8mZyDmyDC0RBpTsQi0sBpjHC8GrlVKHTNGcD+IyDy0YNunlBoLOvylT125SqnzReR3wEPocIqgp4SPo190fxORrejobbOVUkvqKP8XYJFS6nbRIUl/EpEFQb8KoWcjcF3VgyJyJTocaVf0KLotUCgiFyulkkPbRZOmxhwZhpYipVSSUuostKB731jcF+CfIrIOLbgS0Yv764GLReQpERmhlDrqU9enxv/VgBNARBKAw0qp40qpAmAAcDc6BOVsEbmttvLo9TKXIbAXo4V25yCde1OyCAgXkbvKD4jIIHS85AHABqXUuWiheZ4pCM9MTGHYRCilVgBt0KORm4z/A4w1xf1AhBGXdwBaKP5LRHyDQJXHY/ZQMcK/AvjWpw2PUmqxUuox4H7g13WUF+DXhsBOUkp1Vkr9EpwzbjqMoFzXApcYqjUb0QHf96GnyD+LSBhgV0oda7qemjQl5jS5iTDW6azo4OWxwAGlVJmIJANdjDzlI72ZRhD42+qo9nJ0EHZEpDfgVUptM9KS0MHSa+Nb9Fri75VSSkTOU0qtrcfpNTuM9dIJNSSvMv6PDFF3TJohpjAMLeVrhqBHYbcqpTwi8l/gCxFZhV7A32zkORd4RkS8QBnwPzVVLCJWdID18rIxwEvG2p8b2I6eMtfG39EhJdcZ0/cM9Fqaiclpjxkq9DRBRIYDNyul7m3qvpiYnIqYwtAkpCxc1D0a6GP8dQRaA62A1rm5nXJ/2TQ6CYgEooz/NqAAOAoc8/l/rMqxLGArsH3KlCnFoTwnk9MDUxiaNAoLF3WPBc6u5q8TeongJPLzWy1LXzt2eAOb9gJ7gS3ojad04++XKVOmeBpYt8lpjCkMTYLCwkXdOwIXoXUnR2FsAgVC0fEWK1atumZYsPtmUAz8DMxHK6X/OGXKFG8jtWVyCmIKQ5N6sXBR93BgNHqD5TKgZ0PrLCmJXP3Tj9cNaGg9fnKICsH47ZQpUw6EqF2TZoopDE38ZuGi7lFoS45rgYvRO9ZBw+22b1ix/Dd9g1mnnyi08vnXwFdTpkz5oQn6YNLEmMLQpE4WLuqehFbLuRGtE9koeDzW7cu/v7FHY9UfANuBd4DpU6ZMyW7qzpiEBlMYmlTLwkXdY4Ab0EJwYCjaVEr2LUu7OSEUbfmJB/j6ytLzX0rwxn/XceqIoP9YRKQ1sND46jDaPGh8H6yUKm1A3VHAm0A/9KbVEeByw1TTn/JXA2crpabWkicJSFBKfVXffjYXTKVrk0osXNR9IFoA3kCQp8F1o0LcXp1YLUr6dvDGfQPsyHSlvQS823HqiPxgNaCUOoS2DkJEpgAFSqlng1T9g8B+w+663CqpzJ+CImJTSs0D5tWRNQn9sjzlhaFpm9xI1OVmvrmxcFH3ixYu6r4MWAncRcgFITRRm7XSy5OwWxABegAvAJmZrrQXMl1pHRupyUgR2SUidgARaWk447WLyGIReV5Elhsu3QYbeWpyvdYBrX8JgFJqS7lLNxH5reH092cRmWEcmy4iz4lIKvCUryNfI+01EUkTka0iMs6w534CmGg4D/Z1MXfKYY4MGwHDlO0z4D2l1G+MY0loTzRbje+3AU6l1JRa6slQSjkbs68LF3UfjX6gRzRmO/4ggsViLSv0euzRTd0XABTFA93d+lU52hJ4ALgr05X2HDC149QRfk07/aQI7TFoLPA58BvgE8NuHSBaKXWBiIxEr2v2pWbXa+8A80XkOvRU/D2l1DYROccoc6FSKldEWvm03wu42DATva1K35xotanuQCr6BfE3YKBS6v4gXoMmwRwZNg41uplvwj5VwpGafn6vRYtnKe3eqskFYTk2a2kwBUuDiFfRqyIIi68hORItULZnutLuyXSlWYPY9FvAJOPzJOBdn7QPAJRSS4GWhvCr1vWaUiod6AY8g7byWSkifdC6oB8rpXKNug771P+RUqom5fQ5Sqly5x87gbNqyHdKYgrDxqFGN/NNjSM1vYsjNf2/wKpjEndDCuOXN3WffLHZS483dR/KGeruFedHtvbAa8DPma60K4LRrlLqe8ApIqMAq1Jqg29y1ezU4npNKVWglPpUKfU7YCZwpZG/ps2gwtq6Vsf3UxpTGIYQEWltrK2ko6em95Z/F5HyRe5XfPIk+KT/pSFtO1LT7Y7U9L+hzdRuxDCJm8ONHd1Y/VpUDwV2W0lRU/cBwKYsWxK9rQLReTwH+CrTlTY/05VWdWpdH95HjwLfrXJ8IpxwzHHUcPhb7npNjLTzjP8Xiki88TkMbQ65Gz1lnmDsZFNlmlwb14uIRUS6o0ecW4B8oEW9z7IZYQrDxmEj2ilrJZRSh8rf3ui1ltd83ubrjTz3+eTZ55P+j/p2xpGafh56Y+RxINw3zSO2LnO4sdkoGdvtJSV152p8zvF0qq9FyiXA2kxX2juZrrR2DejCf4F4jGmxD3kishw9Gr3DOPZ3wI52vbbB+A56bW+JiKwH1qL9Nn6ilNoI/MNI+xl4zs8+bQGWoJXT71VKFaPXDs8+HTZQTD3DRsB4Q/8AvKWUetM4NgiIKo9DEooNFEdqehha6P6JWjbLRHn3v83NLcIpiapvW8Fi27bBP+Zk9x7SpJ1Q5N9aMkrs2Bq6u30QuKvj1BFzAy1obHqMV0rd4nNsMfCQUmpVjQUbCRGZDnyplPo41G2HCnNk2AjU4WY+JDhS0wcBa9CL/LVqDSixtJ/OnT+FpGN1YLeXuJu6D+1U7NogCELQoRw+z3SlvZ3pSvO7PhF5CZhKxQjPJASYI8PTDEdqejh6PXIyOqyAfyh15A1ulWgKG83czh+yss5aunPHoCZ1vz++ZNC2tqplgx1PVGEncEvHqSOa1YaVSQXmyPA0wpGa3hlYBjxCIIIQQCTuP/y+yWMG2+3FTfp2DlO2dY0gCEFvOCzJdKU9nOlKq9afo0nTYgrD0wRHavql6Glxve2I1zJwUB7xTerKymartyluUOjvdjamnqMNeBo9da5Jf9GkiTCF4WmAIzXdhd7ha92gikSiXmTy5rozNh42W2nTPZOKQ309nULhT/FqYE2mK21QCNoy8RNTGJ7COFLTwx2p6TOAfxGke7mVs4Zl02FvMOqqDzZbaTAtOQKio7f1eiuW8LpzBgUnetp8ZYjaM6kDUxieojhS09uhdbxuDmrFIvbneWRPUOsMAKvVbW+ShhVqqLtntxC3GomeMt8Q4nZNqsEUhqcgjtT0LsAKoFHihWTSadhOum2rO2fwsVjcoRqZVSKKsNVxKrpzEzRtB2ZmutJqjIltEhpMYXiK4UhN74a2Ami8UYyI5XkeyWu0+mvBYvFENEW757u7NWVwKAvwaqYrrUEmlyYNwxSGpxCO1PQeaEEYcOS5QDkkbQevp9/6xm6nKiLeyJC3qdjXy5MQqkBUtfFkpittmql60zSYwvAUwZGa3hstCBvLqehJvMwfQx5nWESF3JdhV2/7rRakyTZuqvC/wNtBdglm4gemMDwFcKSmn432UxfS+CAF0jJpOcNDbQcbWm/XCveQsh59Qtpm3UwCPsp0pTXJ+umZiikMmzmO1PS+6F1jR1O0/xb3RqsQ+q0TIUzEEzLPNS1V5MpoItqHqr0AuBaYlelKM3+jIcK80EHE6UqJcLpS5jldKUGJJmfsGn8HNMQVVIMokcg+87kypC6+bLbSoAVcqotB7h5NsmHjJ7/Cf/daJg3EFIbB5Q3gKmCp05VyfUMqcqSmx6IjjjXJiNCXWfzW4cESMm8yNltovF1blOxyetsmhaKtBvBgpivtj03diTMBUxgGCacr5Q9Aue+5SGC205XyaH3qcqSm24FP0Z6Jmxy32Lt+yoQVoWrPbi8JiTDs7UnYY0S+a+5M2/OnJdc1dSdOd0wXXkHA6UpJBuZTvd/AWcAdGVPHFvtbnyM13YGeHgfidr5RsShP9tvcFB9GWaNPK+fP77f5vekrTgQbysvLIzk5maFDh57Ik5uby9y5c8nOzmbMmDFccMEFABQWFjJ79myKi4sZM2YMZ52lq/nwww8ZO3YsLVoYHuoVRTeXjCyJwO5PnJMmxaPcu+ZnTS87Vnbo5smzv1zZ1P05XTFHhg3E6UpxAHOo2YHqjUCq05Xi9yJ9TnJSDnABzSgwt1esHWYy6cdQtOXsEn3s3nvv5d577+Xuu+/GbrefEGrlREZGcvnllzNsWGUjnA0bNtC/f3/uuOMOli/XrgO3bNmCw+GoEIRAKxWz+lQQhMWe42vn7Xkl/ljZoV7A59MmjgupRsGZhCkMG85LQJs68gwFfnK6UvwOFJSTnJSP9m7yfAP6FlQWcUnf40QdK/9eUODh8Sn7mXTbXm6ftJdNGysPfvPzPTz2txzuujOT+36Xxa5d2j3XkSMeHnwwizvv2Mv3yyqCsT36aA65uW7s9uIT65O7du2iVatWxMVVllvR0dEkJiZitVZWx7NYLLjdbjweDyKC1+vlxx9/5MILL6yUb6i7Z7N3oXWoJDtt3p6Xzy31FpeffALwybSJ48x4542AKQwbgNOVMh7wdy2nM/C905Vylb/15yQneXKSk/4I3AM0eQQ7JZbWb/C7NeXfX3n5EIMGRfLu9E68/kZHOnep7GNh1qwjdO8RzptvdeRPrra8+kouAKmLCrj00ha8+FIic+YcAWDF8kJ69gynTRtbJdf/GzZsoG9f/1cLzj33XHbs2MHMmTMZNWoUK1eupF+/ftjtFX2zKcvmBG+rc+p5GRodpZR3+7G1Sxbse3+EQlUVfEPRwZxMgowpDOuJ05XSEnglwGIxwOdOV8rDgRTKSU56A7gMOFxX3sZmJUMHHiU2t7DQy/r1xVxxpZ562u1CTEzlUdru3aWcd562ruvcOYycHDd5h91YbUJpiaKsTCEieDyKTz89yoQJOuKAzV6iADweD1u2bOHss/3fR4qIiODGG2/k7rvvpkOHDmzdupWzzz6befPmMWfOHPbu3UtfT+eDQbkYjYBSqnBl7jerVh+aP6qWbA9PmzjuspB16gzBFIb1ZyqQWI9yFuBppyvlbacrxW93VTnJSanoUcGWerQZPERiXuaPG7Ozy4iNtfLM0we5555Mpj17kKKiyr4OuncLZ1mangZv3lzM/v1uDuZ6GDMmhpWrjvNnVza/vTWeeXOPccklLYiI0I+j3aZ1rrdt20aHDh2IiamfUcqSJUsYMWIE69evJyEhgfHjx7NgwQJPf3eX8xtwBRoNr/JmL8yembmrYN3gOrIK8P60ieM6hKJfZwqmMKwHTlfKhcC9DazmdmCB05Xit3fqnOSkbWiBuLCBbTeITfQdur8k7sC2bSVcdXVLXn+9IxERwocfHqmU7zc3xFFQ4OGeuzP5/LNj9OgZjtUKMTEW/vnPDrz6n4707BnGDz8cZ8TIaKZNO8jjU/azYeOBWAh8iuzLoUOHKCgowOl0UlZWhhFfHXdxWaEdW8jtn+uizFu66cu9/7EcKtnX288i7YCZ0yaOM3/DQcK8kAHidKWEA2+i384NZSTwo9OV4rdtbE5y0hHgcnQQ8aZBJPzTNg/satvWRp8+WtNm5Mhotm2rbEUXHW3h4Ufa8fobes3w6BEPDkflwfCMGXnceFMcixYV0KtXOA893JYPZu3pWlZWxs6dO+nTp+LSrFq1ilWrtKl0QUEBzz33HCtWrGDp0qU899xzlPjEn1+0aBHJycmAXkdMT0/n7bff5neDbyykmVFQlvfD3D0vdS3yFARqFjgGMP0gBglTzzBAnK6Ux9GB2YPJUWBCxtSx8wMp5EhNfwBtrhV6DydKeaLuG1X2N1dsRKdOYbz33mGKixX33FMx0C0o8BAebsFuF1JSjrF+fTEuV4VlYWZmGe++e5hHH23Pp58cJSxcGDMmhgceyCm49bd/CrrDhnBl+/mWklH9g11vQ8g6vm3Jsv2fjqT+L9d84OzJs7/MDGK3zkjMkWEAOF0p5wCuRqg6FvjK6Uq5L5BCOclJLwLjgGN15Q06Ilb5nylb//XPA9x1ZyY7tpdy441xfPHFMb74Qndnz+4y7rxjL5Nu28vKn45z332VVwTeeecwkya1AiB5TAzzv83n9/dn8atr4xtlg6O/29lsRoVKqdL1eUuXLdv/6SgaNstoAbwapG6d0ZgjQz9xulIE+J5GcrXvw6vAgxlTx/ptC2y4+PoS6NpovaqBv6pHN/VhU1DNBt1u26YVy28Irimi4uDIfd3jfj/viRPz9D1H9jF5+O3cOWhCpawr9qxlysKXcHvcxEfF8vGNL3Ho+BHu+vQvHC0p4OERd3J5rxEA3P7Jn/nnpZNxtKhL1dSnK0odTtv/8d7sop3BHKVOmDz7y4+CWN8ZhykM/cTpSvkV8EmImvsOuD5j6tij/hZwpKa3AT4DhteV11uQz7FnH8e9aweI0PLhxwg7p+J3WbTgK45/OB0AiYikxR//D3v33niPHObI3ybjLcgn5vb7iBieTEt1ZE2bR8ee/+CDbWjTJji6wF6vZdf3y24KqmDv5Gm95LKypBPqKh6vh0Gv/pp5t7xGx9gKXxhHi/O5dubvmDHhWRJbtie3MIo9becAACAASURBVI820fG8s+pjImzhXN3nIm756CE+u/lVvtv+PRtytvLH4ZP87odHuXd9m/WuJb/scLC9lecAfSbP/vJInTlNqsWcJvtPY0yPa+IS4AenK6W7vwVykpNygYuA9+rKm//y04QNuoA2731G6zdnY+tSOZyK1ZFA/L/fovVbc4i+5S6OTXsSgOJF3xBx6VW0evk9js/WzRxc8fP51sTO2cEShAAi3uDu9iq8Q929Kp3kst2r6RKXUEkQAny+aQGX9xpJYku9l9EmWhuq2Kw2it0llHpKEbHg9rp5e9VH3DvE/8B2xZ7CNXP3vNyqEQQhaO9Gfw20kIgoEZnm8/0hEZkSYB0FAeZ/S0SahRMSX0xh6AdOV8pFQKgDfp+FNuGrTfm2EjnJSaU5yUm3oQV3tUN+b2EBpevWEHnltQCI3Y4lpkWlPGF9k7C0aAmA/ex+eA/u1wlWG5QWQ1kpWCwoj5vjn8xiz60vBTt4VFA3T6IIWxOrojr5Hpv3yyLG97nopLy7Du/laHE+1896gCun38nHG74B4JqzL2bJrp+4+aOH+d8LJ/H+ms/59TmXEWn3z2/FoZJ9afP2vNKvzFsSG4RTqon7p00cF6igLQF+JSL+z/MbiFLqTqXUplC15y+mMPSPUI4KfWkFfOd0pdwRSKGc5KSn0I5BT9ow8GRnYYmN59jTj3Ho7t9w9NnHUUVFNdZV9NXnhA3Rdr0RF11BycoV5P3pPqJvvYeiuXOIuHQsJVFtzl7IJUFz4iBCFHiDFn9lgLt7JW3wUk8Z323/nrFnJZ+U1608rM/ZynvXPcXMCc/ywvL32Hl4Ly3DY3jv+qf56tY36evoxYIdy7my9yge+fpp7vnsUVZnbai2bW1at2bJgn0zqjOtCzbhwJMBlnGj/XCe5DNRRLqIyEIRWWf872wc7yoiK0RkpYj8vUqZh43j60Tk8eoaFJHFIjJQRKwiMl1ENojIehFpUr+NpjCsA6crZQBwcRN2wQ685XSlPOt0pfh9v3KSkz5Hrx/urZTgcePetpmoq6+n9RsfIhGRFH7wTrV1lK5dSdHXn9PirgcBsMS0IP5fL9H6tVnYe/ahZEUa4SMv5tizT/Dv/9vQd8PGkqCF27TZygKaetWEKMnq5elQyfN46s4f6Nu+J22jW52Uv0OLtozuNpiosEhaRcUxpGN/Nh3YXinP899P5/fDfsvcTQs519GbZ6908dTSN0+qSylVsDL361WrD33n9+g+CNw0beK4QB3WvgLcJCJVR60vA+8rpfoB/wVeNI6/APxHKTUIvVYJgIhcCvQEBgNJwAARGVlLu0lAolKqr1LqXODdAPsdVExhWDd/buoOGExG2zX7PYXMSU5KRz+YP5Ufs7Rtj6VtO+x9zgUgYuTFlG3bfFLZsh1bOfbsE8T9/d9YYk/2dFX4/htE33wHxQu/wdarDy3+OjX6ny97guau32YrDYow7OZtt12QSs/53E0LGd+n+vfbpT2G81PmOtxeN0VlxazN/oUerStmnrsO72V/QS7DOidR5C7GIoIglLhLK9XjVd59C7JnZO0qWF+XaV2wEeCZQAoopY4B7wMPVEkahvbHCTCDis25C4EPfI6Xc6nxtxZYg17q6VlL0zuBbiLykohcTlOoiPlgCsNacLpSeqMD8zQXrkJ7vunsbwHDN+IoYDaAtVUbrO0cuPdkAFC65qeTNlA8+7M5+thDtPzz37F1OnkJyp25G8+hg4T1HwglxWCxgAh5xEe6sZWeVKAe2GxB8HatKBtc1rOSdU9RWTFpGau4onfFgGXG2rnMWDsXgJ5tnIzuOoRL35nEuPfv4YZ+YzmrbcX1eXrpWzwy4k4Axve5mI/Wf834Gfdyz+CJJ/KUeUs2fbH3P7bDJdn+mtYFm4unTRw3IsAyzwN3ALVtXqkaPpcjwL+UUknGXw+l1Ns1VqZUHtAfHfnxPuCtAPscVEzVmlpwulLeRtsQNzf2A9dmTB0bkCt+R2r6Y8CUsu1bOPbs4+B2Y+2QSMtHHqc49VsAoq6+nqPPPk7J0oVY2xt+AKxWWr8260Q9Rx5/hJg77sPWsQvevMMcefSPeAsLiJn0P4wfUbL0t7xT29TILzasH7M+Ly/x3IbU0dIbuWJC6QWNrRdaifyyvBXfZr2T5FHuyFC2Ww3fTJ795RV1ZRKRAqVUjPH5aeA3wDtKqSkiMg/4SCk1Q0RuA8Yrpa41js9RSs0Ukf8BnlFKxRjT5L8DFymlCkQkEShTSh2o0uZi4CEgAyhVSh0TkSRgulKqyWLSmMKwBpyulET0MD6sqftSAyXA7RlTx86qM6cPjtT0icB0oFHc94vyHnyTWyIjKW7QjvDmzReuOnigW4OiDF5ceu5ap7fdeQ2pIxCyCrctWXagQaZ1web8ybO/XFtbhirCsD2wC3jaEIZO4B208+KDwCSl1B4R6YqePtvQurd/9anjQeBOo/oC4Gal1A4R+Qq4Uym1zxCGk9GbN+9SMUP9s1Lq6+CceuCYwrAGnK6U56hmh60Z8iTwt4ypY/2+kY7U9MHAXBop8t4Fauni+3hhdEPq2LFj4Ip9WX3qPaqzKNl5e8mYbnXnbDjatC7tp1+OrqhT4T3E/Hfy7C9vbupOVEVE1gNXK6V2NXVffDHXDKvB8DN4W1P3w0/+io7E5/e0LCc56Sf0xkp6Y3RoOSPOy6dFg3QPfV3/14fensSQOC4wTOt+aYaCEGDCtInjOjZ1J3wRke+A9c1NEIIpDGsiGWj2MTJ8uB4dq9nvYEE5yUl70buDc4PeG5HYV3hwXUOqsNsboKajKBrg7uZ3vJn64lHunV9nvZUfZBvjYGKnmbn4UkpdopS6san7UR2mMKyeXzV1B+rBQLTFit9enHOSkwrR5/p0sDuznqQhubTJrm95m62k7kw10DoEke8M07rWjWRaF0xunTZxXOhdvJ2CmMKwCoZi8zVN3Y96kgikOV0pv/a3QE5ykjcnOelPwCQgKGoxAIhEvMBD2+vOWD32BmjoDC3rdbI2dRA5VLxvaQhM64JFIjp+jkkdmMLwZC4EAvU43JyIAj5yulL+EkihnOSk6WhHD7nB6shOegzLpGNGfcrabKX1Gs3YlPWXDiq+UZwAnDCty54xMgSmdcGkOaqHNTtMYXgyp+IUuSoCPOl0pcwwwhT4RU5y0jL0xkpwjOhFbM/zSL2mylZbWb2ETV9Pp0P1KVcXSqmCn3K/CrVpXbC4atrEcSFzxHCqYgrDkzkdhGE5NwOLnK6UdnXmNMhJTtqFNsP6JhgdyCZh6FZ6n2zvVwdWa5nfkQNPoDja3+0MeuQ7r/LuW7Bvxr6Mgg2hNq0LFmHATU3dieaOKQx9cLpSBqKDvZ9OXIDeWPE7zFxOctIxdDiBF+vKWyci8iIPBWxnbLF4/B7RluNQcel2rFGBlquNE6Z1pdm9gllvE3B9U3eguWMKw8qcTqNCX7oAy52ulLH+FshJTvLkJCc9iFbNaJDOX560GriW838OpIyIN2BztqFlvYKqU5dfdnjF3D0vdy32FPg9sm7GDDOnyrVjCsPKnK7CEHTgoHlOV0pAVjU5yUmvAVcADXIn/yoPBmSiZrF4AxrhhSvbz21UC789g9dFZuHWJV9lvjm0OhvjpVt28sw3S3jmmyXMXLGWMs/Jrhe3HzjEc/PTeOabJbyaqk3IC4pLeHnRcp75Zgkbsk54vuLdZas4WlQcrK7XhAU92jepAb+EYaBuvf2o7y8istFwAJkuIkMCKJsgIh/XkSdORH4XSJ+M2MVN5WUkVFiA55yulDcMKxu/yElOWoAOXl9vVZnjEtNvCck/1Z2zHBWQ6/8kd9egRL5TSpWuO7zk++8PfFZt1Lqjx4tJ257BHy4ezsOXj8KrFOl79lXKU1RaxqdrNjDpwoE8fPkobhmmlzHX7tnHwC4d+f1FF7J4804ANu7bT2J8S2IjG8VUvCrjQ9HIqUrIR4YiMgz9hjrfcBp5MVUdkNZc1qaU2qeUuq6OrHFAQMIQPwIpnUbcBXzrdKX4rY+Xk5y0BRgCpNa30encFadqCEdQDTHgp+G84uDZno4NcuoAoJQ6tHT/x5t/OfrDhbXl83oVZR4PHq+XMo+HllUE2Zo9WZyb6CA+Wg8qW0To5U+rxXKinAh4vF7Stu5idO+gDWjr4pJpE8eFROqeivgtDEUkxnD9vcZw0T3eOP6U7yhMRKaIyOSa8gMdgFylVAmAUipXKbXPKDtIRJaLyM8i8pOItBCR20TkIxH5ApgvIk4R2WDkv01E5orINyKyRUQeM9qYCnQ3Rp3+OroMdYyTpiYZ+NHw2egXOclJh9EKvCe7dfaDUgnvlcL45f7kFcFitbr9Gu119rbZaMXSIO9CHq97x9eZbxbmFO2s1YwvNiqC0b278WTKIp74YiERdhu9HW0r5cnNL6SotIxXU1fw7+/SWJWhzaTP65zAlv0HeXPpT1x6Ti+Wb9/NAGdHwmwhMxCJBkaHqrFTjUBGhsXAtUqp89E/pGkiIsCHwESffBOAj2rJPx/oJCJbReRVERkFICJhaAekDyql+qNHjOXBOYYBtyqlxlTTr8FotYEk4HoRGYiOWbLDcDD5sJ/nd6YJQ4Ae6Ch8foc1yElOKstJTrob+F8gYPvhOdzY0Y21zJ+8fnm7VniHunv2CLQfvhR7CtfM3ftym3x3Xp2aBMdLy9iwbz//d2Uyf7vqIkrdHlbvruwTwqMUmXlHuWPEIO4eOYQFm7ZxML+AyDA7d44YzB8uGU5ifCy/ZB+gX6KDj1au473lq8nIDXZcrWppsK/J05VAhKEA/xSRdcACtJlPe6XUWqCdsZbXH8hTSu2pJX8BMAC4G+0jbbbhOLI3kK2UWgnaFblSqnwX8zul1OEa+vWdUuqQUqoI+JR6THcNjy9+q56cZsQBXztdKQEZ9OckJ/0b7Xk7IFf/HrF1mcONfjml9cfbdRThq1uqqHrvIucWZwVkWrdtfy6toyOJiQjHarFwbkfHSUIsLjKC3o62hNtsRIeH0a1tK/YdqXyZvtu4jYv69GDtnn0kxscycVA/vl4fsDpmfTiTloMCIhBheBPQFhhgeKPdT4WD0I+B69AjxA/ryq+U8iilFiulHgPuB36NFp41rRHVNl2qWqY+DhqT0I4qz1RswKtOV8qLTleK33O2nOSkr9B6jBmBNPYVV/cuIbxOQWezl9Qcts9goLtbvRxyKqW8246tWbowe2ZApnVxURHsPnSEUrcHpRTb9ufSvmVlP7bnJLZnV+5hPF4vpW4Puw8doZ1PnoP5hRwrLqZ7u9aUeTxYRADB7Q1aPK3aGDRt4rjm6rC4SQlEGMYCB5RSZSKSjNZdK+dDtLvw69CCscb8ItJbRHyDxCQBu4HNQIKIDDLytRARfx7SS0SklYhEoh0sfI8erbSovVglQuYNuZnze+BLpyulpb8FcpKTNqCXKvxaCwRQYmk/nTvr3Fm220pqdV0jSjJ7Vol851f72rRu9ZpD3wU8ZezSOp5+HTvw7+/SePbbpShgaLfOLN++m+XbdwPQvmULejvaMm1+Gi8sWMaQbp3pEFvxOH69fguX99VLtUmdE1iZsZeXFn7PqN4h8UUbgfZwZFKFOj1dGwJpP3oa+wXaR1o62qHBFUqpDCPfevTGSLLxvU11+YHWwEvo6Zkbra5xt1Iq1xCELwGR6PXCi9ECdqBS6n6jXifwpVKqrzG9vhK9MNwDmKWUetzINwvoB3xd17qh05XyMjogjYlmE3BVxtSxO/0t4EhND0cH9PHPs7JSR97gVommsMbp6fZtg3/Izu49tKb0Hh7H4tFl54z2t48AXuXNWrhvZuFpYFHSEP40efaXQXfbdqrjjzDsD7yplGp2dpmGMDwhKOuL05WyEKhuc6Ze5H71PEU7VmKNiiXhjldPHD+2+gvy13yJiJXI7gOJT67emYjyesh+74/YWrSm3XV6gzxv8bsU7VxNWLuutBk3GYCCDYvwFufTcmCjqI/lAr/KmDo2LZBCjtT0/0OHIqhTyfo8tXLxQ0wdXVP67ox+y/bs6V/9Gpei7MaS4UeiCG9bbXo1lHlLNn6V+Vbb08SipCF8PHn2l6Z5XhVqnSaLyL3o+Kh/DU13mow+dWfxn5hzL6bd9Y9XOla8ex1F234gYdLLJNz5Ki0H12zskr9qHvbWnU5895YUUpL1Cwm3v4xSXkoPZuAtK6FwwwJanOe3hV2gtAEWOF0ptwVSKCc56Z/o0Xyda4JrGTg4j/gDNaXX5u26pYpcFYggzC87vOLzPS91NwUhAA2KOni6UqswVEq9ppQ6Wyk1P1QdCgSl1PQgjArj0LqPQSOiU1+skZWXLPPXfkXLodcjNm34YY2u3hGz+1guRTtXEtP/Up+jgvK4UUqh3KWIxcqxnz6lxYCrEWuj7vuEAe86XSlPGU5v/SInOelTYASQVWtGkagXmVzjFqrNXlLjtGWIu6fftsvlpnVe5TEVjjU9TOXrkzFtk+GsUDRSlpdFyd6NZL//v+TMclGSvbXafHkL3yBu9O1olUyNJTyKqN4XkD39AWyx7ZHwaEqztxLVs8bltGDzCPCp05Xit4lcTnLSGvTGyqra8m3lrGHZdKjWAsleg+t/q7Ls6OJtW2d8XaVUyc+HF9doWndmIPuRyLViS1xqDR+YZo++Zl147L1HIuL/93Q3PQ2YM1mdpJzQeLX2evCWFOC4ZRql2Vs5OPcpEu95q5LQO779JyzRcYQ7elC8p3I8pdgh1xE7RFshHvr6ReJG3Ez+z99SvGst9nZO4i74TWOfwXjge6cr5aqMqWP9Mp/MSU7a50hNHwm8j546n4yI/Xn1yJ6n+GOnqklWW2m1L+venoRMoFYbNsO0LiunaGetpnWnD5KNRO6zWFsXiC3BYrElxlusjk5iiWhP9c94byAgT0KnO6YwDEwFp95YW7QhqtcwRITwhN6ICN6iY1ijKjZTS7I2UbTtRzJ3rEJ5SlElReR+8SxtrnroRJ7S/TsAsMUncnjBGzhueoqDc5+i7HAW9laJjX0a/dG+Ea/JmDr2R38K5CQnFTlS0ycAT1DD2nMmnYbtpNu2buz0VbnCZis7WedRcXyAu1uto0KP173j26x37PnuvEaPkBdiFFiykKhsi7X1cYstwSq2xHiLrX1nkfAOBLbcY44Mq2AKwxAJw6ieQynevY6Izv0oO5yF8rixRFZW54sfdRvxo24DoHjPOo799FklQQhwJG0mrS67H7xuUMb+glhQ7vpHkwsQB7DY6UqZlDF17Id15gZykpMU8KgjNf0X4G0qlPU1Ipbn1SN5L3JvpcNWq/skzzqtVYs14dhrtKIocheu/jrrzR6nSLCmmvCCZS+W6P0Wa5siizXRZrEltBZb+84i9o5AMPw2OoNQx2mFKQzBbwVjfzk472lK9qzHU3SMzFduJXb4TcT0u4RDX73Avrd/h1jttB77R0QEd/4hDn3zIu2r7D5Xx/GtKwhz9MTWojUA4Qlnse/t+7C3cxLWLiQKu+VEAB84XSlnAY9nTB3rlxVITnLSLEdq+k7gc6pM3Q5J28HrVb/157LuxE6nxeI+ydv10LKeNXrayS3OWroo+78XnELBmtxg3SuWmP1ibVtisSXYLbbENmJt21nE1oXKhg3BxtGIdZ+S1KlneLrjdKU8CQQUSc6kErOBSRlTx9ZpOleOIzW9M1ohv9I0NkYdS3+dSSemwB6Pdevy7288oRxtV9ZNt5aMPinynVLKs/3Ymu/XHF7QXJ0QlIJ1j1haHBRru1KLLSHMYktsK9Y2nUWsTWUat/q+18aYlig+nCpv0MYk6CPDM4yJQFenK2V8xtSxOXXmBnKSk/Y4UtMvBGahnT0AUCAtk5ar4asuYNlAAJHK3q77ejqfFPlOKZX/Y27K5t0FG5uDICwG2x6xtMwVW7syiy0xwmJNaCfW1p1ELD3QVlLNBXNkWAVzZOhKeRe4ran7cRqQiTbhS/e3gCM13QI8BZxYGA1XRb+8zc1nCYhS5C1LuyUeAMXRW0tG230DPnmVN2vBvhnH80pzep5UeeNSCPY9Yok9bLG1c4stMdJiS3CIpVVHETlV1NXKgPD7XhtzZgsAH8yRYYg2UM4AOgLLnK6UmzOmjv3cnwI5yUle4GFjY+U1wF4ikX2+VVeuuJyvhgEnXL04VNzPdqwnRn/atO7NdsWewsbcQs+HsD1ijc2zWNt7LLbEKLEldBBLXKKIBNVqqQmwA62ARokzfSpiCkNzmhxMotHK2X/OmDr2KX8L5SQnveNITd8BfAK0/oDfOi7hG7dVvHaxuIuV1xYxrKzXCaF3rOzw8m+z3jk/iBYlR5HwPWKJO2KxObwWW2KMWDskWKyxHYBzgtRGcyQeUxiewBSG5sgw2Agw1QiwdWfG1LF+hRnNSU5a4khNHwJ86Rb7WZ+qCWnX8+EIm7WswOKJ3NxatUgCyCzcsvj7A5/X16LkEBKRKZb4YxabQ1lsHVtYbI5EsbRox5lpr+t3ULAzAVMYmsIw2OxEO/f4wF9BWE5OctIOR2r6MGDOPH7VdzyfFNtspcf7H3cWKaVK1uUtWbX56I+j665JDiIRWWKNP2axdsBiS4y12DokiiW6DdqFnInGdPLqgykM4eSgtyaBko1WsfkgY+rYAMKBnkxOctIRR2r6lV6xPj9D3d53iD0j8ix3Qtel+z/aklO0q4ppneRoE7RWBWJLEIstMc5idXQUS2RbtJd1k9oxhaEPpjA010zqSx56jW8WsCRj6tig+azPSU5yA/f3XXTgjrEcumx+1gxbvrvQa7F1WSK2DlaLLTHeYnN0Egl3YKqINARTGPpgCkPtxNTEPwqBeehp8LcZU8eWNkorU2LDgMs2wJg3tg6TSHVdYVls1/MRCSiwvEmdmGuGPpjC0BSGdVEKfIMWgF9kTB3rVyzjgJkSa0HH9L0BHSAsfnlkxIb/Dsts+59XpsW7rZFFu7qOW5qVMLyTsti6NkofTM5oTGFoTpOrwwukogXgpxlTxzZeQN8psUPQAnACVbyuvBoXe/hwhPTd045lXQ4UDe+1/aORPbd/pA60G7B6e7drvCXh8QNoBkrOi9Z9zPLNXyEICa26cvPoR7DbKmagx0vymbn4GXKP7cNuDeOm0Q+T0Kor+UVHeHP+YxSVFDBu0CT6d9X+J17/5lEmjniQuOg2jd31uuNSn0GYwtAcGfryA1oAzvHXtK5eTIk9B7gRHVGxWg8TZVC2LjysL8BrV1jb/es9vc8lIO0PrB7Q/sBqjke23bu154Sdh+P79EMkvtH6WwtHCg+yZMNn/GXCO4TZwnn7uydYvWMRQ3tffiLPt2tm0bF1D+6+7Aly8vYwZ9mLPHDVs6zevoghvS5lQPdkXv3KRf+uw1mfsZxObXqGQhCCKQwrYQpDUxhuQAvADwOJhhcwU2K7ooXfDfih0/dlTHS6MsLG7kiQXkeiWR1XyADfPFFFBzslrXulk8diL9rd+dJlezpd1NZrDQ+5nz6P10OZuwSrxUapu5jYqMqCLOfIbi5NugEAR3xnDhfkcOz4YawWG2XuEtyeMkQEj9dD6vpPuffyJ0PVdVMY+mAKwzNzmryLCl3ADY3WypRYB3r6ewMQUIyCt+NaVtJRnH6xhT/MrX7D2uoti+yWkTK8W0YKh+L7rN/W47r841HtByHS6BsEcdFtuaj/9Tz63xsIs4VzVseB9OlU2RlMYqtupO9Ko3uHc8k4sJnD+fs5UpjLwB5jmL7on/y49TuuGXIXaRvnMrjXJYTZQxaeJD9UDZ0KmI4aXCkDgZVN3Y8QkEOFLqBfXqrrxZTYOPQGyA3oDZGTvVXXQb7IsQu6dLQjUino04xn3NvC3fjllKEkLPbAth6//uVA2/POQiyNFtrheEk+b82fwqSLHyUqLIa3FzxOUteRDO51yYk8RaWFfPz9K2Qe2k5Cq67sP7KXG0dNpmPr7pXqeWfB37nr0sf5ZPmrHC/JZ0y/6+nmaFRrQNt9r40x9WwNzJHh6T1NLtcF/ABYHExdwEpMiY0CrkYLwMtpoP7azNgW6xA5yZv158Ms+yemef0ShuGlR9v13fROO69YyrISR63Y1eWKaLc9OuhhADZnrqF1CwctInW0w/5dR7Br/6ZKwjAyLJpbkh8BQCnFY7NuonWLyuqRX6+ewWXn3cSq7Yvo1LYXA3uM4Y1vH+XBq54LdpfLKfBXEIpIgVIqpu6cpzamMDz9psnH0bqAs2hcXUA7cBlaAI5HO2kICh+2bBFV3fG5w2Tw9cvYb1H+B/GyKK+9U2bqsE6ZqRxt2XXL1p4TDubHdBpQddRZX1rFtGPXgV8oLSvGbgtnS9YaOretvGx5vKSAMFs4Nqud5Zu/okeHfkSGVVyuA0czOVp4iJ4J/ck8tB27NRxBKHM3zq0zqD2M6xnIGT9NBnC6UnI5tW1WS4Fv0SPAeY2sCziKCl3AGl3w15ccqzXnkk4J7WpSmbl/nmfxyI1qdEPaKLNFHdnRbfzP2Y6hXZXF1rkhdQGkrJzOmp2LsYiVjm16cOOoyfyw5VsARpx9FTtzNjIj9SksFguOuC7cNPohosIrTOLf/u4Jrhp8O+1iO5JflMcb3/6NotJCxg68jfO6NZrP2kX3vTbmIn8yikgB2tJnLtrTjR34q1Jqrog8BexWSr1q5J2CXot8vbr8QT+LIGIKQ8DpSvkGPco5lfACi9EC8JNG1gUcTIUuYEKjtQNMad1qySctY0bVlB5zXOW9/YInTIIwElWIN8cxePWOruMtpWEtz68Ut/X05737Xhtzmz8ZDWEYB0QppY6JSBu0GlZPIAl4Xik1ysi7Cb1Usq+6/KoZCxxzmqxZyakjDH+kQhcwu9FamRJ7NloA3kAdMYqDSUpMVK3hLguiJH5zR5b0yaRGgekvgrJ0yPlxUIecHymMcmRs6Tlxz5G4nv0ROZUj6/nLtS035wAAGuBJREFUrgDzC/BPERmJfhEnAu2VUmtFpJ2IJKCdY+QppfaI3sk/KT96I69ZYgpDTYM8rYSAjeg1wMbWBXRSoQsY8pjDm8Ls24stll515Xv9Sqvz3294vAJBsz6JPp7jPP/nF5weS1jhLucVaZmJox1ea1iowwmEkkCF4U1oYTdAKVUmIhlUhHz9GLgOPZX+0I/8zRJTGGqao2rNLvSD9UHG1LHrG62VKbHtqdAFHNZo7fjBK/FxWfgRNGlfa+lyII4f2h8JTHfRH6ze0ugeO+eO6LFzLgdbn/vz9h6/LiqKaDMQkdPtt7ItwPyxwAFDsCVTOYzph8CbQBs4MWKvLX+zxFwzNHC6UvYSnODcDSEHmIMWgD80WitaF/BXaAGYTD10AYONAnWes9M+j4hfMU367fSu/+tsb0i8UxeFt8re1uO6rbltzj0bsZwOfhK9QMv7XhtT50ab6JfAfqA3OryrHUgHLgSuUEplGPnWA7lKqWTje5va8jdHTre3XUP4iaYRhkeorAvYOEqwWhfwKip0AU8K0N6ULImMXOcR6e9v/nXdLOcWhnvXR5c0vrv+yJLDHfptfKODV6ylezuOWZ7R5bJYjy3yVI6Nss0fQWhwDrBDKZVLLTMHpdS5Vb7Xmr85YgrDClaiR0uhoFwX8APgm0bWBbwU7RThanyizTU3XotveSzQMh+MshTeOb9x9Mirw6I8YV32fndBl73fkRfbY9O2ntfnFUQnDkCkWa+FVYNf4VxF5F7gAeAPjdud5oEpDCto7HXDMrQu4CwaXxdwJHoEeB2NoAsYbEqhZGNYWMAbNt+dL4NvW8Aem5cG6woGSvzR7WcPXvUvSu0xh7Z3u/bH/e0H9VAWa2OGLQ0ma/3JpJR6DR3C9YzAFIYVrAIU9Yu6VhNeYAkVuoCHg1h3ZabEDkILwIk0si5gsPmsRUw6IkMCLadELPPPl11XrlIhF4blhJUVtD57y4xRfbbM9OzrcMFPO7uOs5eFtTyvqfrjJ34JwzMNcwPFB6crZTN6obih/ESFLuC+INRXPRW6gL/Bj13Y5srlHRN+zLLbAhaGAOGlqvD9aZ4y0UrBzYL86MQdW3tOyDoa2/08RJpb9EUFtL3vtTGnmxlqgzFHhpVZTP2F4UYq/ALuCFqPqjIltgsVytAh1wUMNkctliNZNmtSfcuXhEn0mh6yZMB21WAl7GDRojCr+4D0f3d3W8PzdznHLclMHNFZWezNJVTBz6YgrB5TGFbmU+CeAPJnUOEXsDF1AdtRWRfwtDEbey+2xXpERjSkjjcvs5x1/nZPqTSzaG82T0mLnjs+GdVjxyfqQNvz12zvfo27JLzVwCYOVbCwCdtu1pjCsDKpaLdXtbmQD5UuYCwVuoBjaAa6gI3BnBYxLRtax+GW0l7HSeEkt1/NAQFpf3DN+e0PrqEook3mlp4Tdhxudfa5iDTF5taCJmjzlMBcM6yC05UyHbi1yuEj6FHjB0BqI+oCRlKhC3gFzUwXMNhk2qxZV3RMSAiGg4Tu+9TWf73nqdOUr7ngsdiK93S6ZNWezpe09ljD+4So2VIg/r7XxhwPUXunFObI8GQ+QQvD42gN+g+ArxtZF/AStAC8hmasCxhs/hMXux0/LU7qoqY4Kc0Vq9cd0XX318O77v6aw/Fnbdja47pjx6McAxFpzKn+ClMQ1owpDE9mPtrIfF7G1LGNEzBH6wKOoEIX8FT2pVhvvo2OCqpeXm1xUpozrf6/vTuPj6o8Fzj+e2aSTCbbBIEkbBKEIEMJIKKWVkWUun2uilLrUltcWm5be8u1m/a6dGrFLtZqrQvuovWK2laxddcrQkRUVJIgM6wBQtgSkkz2ZWbe+8eZSCDbJJmZMzN5v59PPoQzc855BmaeOcv7Pk+NZ9pXP7mD1pSsym0TL9l0IOfEyYil1+o9A/RGBLaZMPRpcjS5HLM5PBYwXgboRkSxLWXLVaPzwn5a258+KbEqIBZfxejT1pfln2/3JWeEPEUxBMddv+zM/larGTJ0Mow0l8PJ4bGAcf0hDafFuSPf/zDNHvbhMAuLAkWXrQnE5I2UgajLPHbrloLL9tdljp+FyGAK2n58/bIzBzSWc6jQyTBSXI7FwI+AcH6zJ4QABE7IH3cwIJLX97P7J8mv2v52l7+mP31S4kF7kt27Y8KFG/aO+lq+siQNpBzWz65fdmbEukslAjPHOyW6KehE2K130uzFkUiEAD6rpBRNFXcktm2mZF+z4/itz889Y/WSY6duemq9rbXmE0I/klEYw8G0Xugjw0hxOWai54B265uj84o221Iidiobzj4psazRnrtrS8G3dtYMO34GIr1NRyy6ftmZgxrYPhToI8NIcXk3ACVmhxFrWkSaN6ckR3QaYbBPyvpI7iMWpDcfGH9CyV/nzl3z05Txu95YY/G3benhqU9HNbA4pZNhZOk34VFeNCrUDHrWSV8ePt+ar4yqQT26ed8+Tt22lQvLDreVeaO+jgvKdvCVzR42tjT3uO4zNdVcWLaDC8p28HT14WJEd1ceZEFZGTftO1yf4xWvl2dqIlewyBpoS5tY9q/Tzlhzw+TpJQ8W25sOfIhSvuDDdRhl47Q+6GQYWU8DPX+iIuDalc3k3FXPtAe7DpH809pW5Dd1VDV1zRHl3gDzljfifKCBrzzYwF/WtX752I1vtzD9oQa++9Lhl/JMcdsRzwnV047MqIxtDfZJ6bXR18UOB4+MHXfEsoIUG/eNGcNse8895re2tvJibS3Pj8/npfwJrGpsYGdbG/V+P583N/PyhAn4FWxpbaElEOClOi+XZ/c2wzN8RlR/MWPOx7fP+dq6W6pGHvz8/aT2xmX9qGo9pOlkGEkubyXwWDR3efXMZN64Kq3L8nJvgLd3+DjW0f3MtyQL3H12Ku7rM1h3XToPfNLOpko/3hbF2j1+Sn6YgV8pSg/4aW5XPFXczo9O6t9kiRqLpXq/deAVavrr0XMsvV4znJ2WhsN65Edgos3GhJTeZ0Fub2tlht2O3WIhSYST7Gm8W1+PRaBdKZRStKoASQhPVFdzVfYwkqPckjm1tTavcNNjp5/+wS+fiOqO45hOhpF3F0aV66g4fXwSx9i7fvBueLOFP85P7bHczahMC7NGGbUgMm2Cc6SFijqFRaDNb3zAm9sh2Qp3rW3jJyenkGzt3wf88eysjRj9dKPC6JNC2KsJFaTYWN/URK3fT3MgwOrGBvb52km3WDk7I5NLdu1kTHIymVYrG1uaOSvTtJKGrzs97s1m7Tze6GQYaS5vOfCMmSG8srmdMZkWZuSFVvhmZ22Az/f5OWWslUybsNCZzAkPNzIh24LDJnyy189FU/qf0/6ZkRH1Ki3PzbWE/RRxos3G944ZznXlu1m8p5zjbakkBY/8rhs+nJfyJ3BjTi73VVXy4xEj+XttLTfsrWDZoapwh9KXe6K9w3imk2F0/B6ITKWbPjS1K5auaeX2eaEVwGloUyx8oYl7z00ly2Z8wH/5dRsbfpDB3eekcut7rdx+ho3HPmvjWy82ccfq0K4b7kxK2l1vtUwb8AsZoLdnyck+C7vDvd2F2dn8I38Czxw7HofVyvjkIy8ZbGppASA/JYWVdV7uGT2Gra2t7GyLTL2PbpQ4PW5drqsfdDKMBpd3K/CiGbveXh2grEYxY1kD+ffWs6dOMevhRvY3dL2J0u43EuG3C5O5xNn1yO/zfUY+nzzcwtPF7bxwaRobD/rZeqjvPP/AMIcpc2I7+qSEe7uHfMbN2r3t7bzTUM/5WUfeIP9rVSX/NWIEPqUIBIfyWhBaAlErJHFLtHaUKHTVmui5E6NAQ1SvpBfmWjn4i8PXrPLvrWf94nRGpB35PaiU4rpXWnCOsPLTOd0fRd76XiuPXJBKewD8HR9wgaYQroi+m55mWtOm5+ZaZp+33l97dJ+Un++t4OPgtb9527fx4+EjcFitLD14gGq/nx/u2cMUWyqPjhvHQV87t+7fz8PBu89L9lZQ6/eTLMItObk4rIcvQbxTX8+0VDs5ScYXygy7nYvKyphsszElNSpdRYucHve/orGjRKJnoESTy/EKRvHWiLniH02s2umnqkmRmy785gwb1806fArXORnurQ/wvVdaeO3baRTt9nHak00U5liwBNP1nWfZOL/A+EC/7GmneH+AX59hJMqfv9XCm9t9TM+18OwlXe9ed/ZJqm3TtaNyp0bmFYfmxhf9MdUnJcK+7vS415odRLzRyTCaXI5TgMi1CohR1+TlrF5vTz3dzBiOqVMHHnrAPyzW+qREwCtOj/sis4OIR/qaYTS5vB8xxCbM+8D3aWrUytr3KNgnpddB2AnAD/zK7CDilU6G0bcE8JodRLS8mZ62QYmMNDsOgGXnWXPMjiHCnnZ63JvMDiJe6WQYbS7vfuB/zA4jWh7NzoraWJK+dPRJMTuOCGkGbjM7iHimk6E5ljEErh02iTRuT06OqZqOT81P2Lf8bU6Pe4/ZQcSzhH1nxDSXN4DRrN7X11Pj2XNZmcWDLFUfdmunWk5sTWKr2XGE2YeArmI9SDoZmsXlLQHuNTuMSHo2KyMm79y+PMdywOwYwqgFuMbpccdfW8AYowddm+vXwKXAQHpaxLQqq6Wy0mo94ejlex7fQ/2GepKykihYavTH2r9iP3Ub6pAkISUnhbHXjcWafuQ86rZDbVQ8WoHP6wOBYWcMY8TZI4z1X9hPfUk99mPtjF08FoCaD2rwN/q/fE5nK+fIyZcWcSBB+qTcposxhIc+MjSTy9sEXG92GJHwiMPhRqRLZYhhpw4j/2f5RyxLn5ZOwdICCu4owJZno/LVyi7bE6uQd3keBb8r4Lhbj6P63WpaKlrwN/lp2tZEwR0FqICipbyFQFuA2qJahp/ZfTvqBOqTsg59ehw2OhmazeV9FUi4mnMrM9O7HpIB6cendznqy5yWiQTLgaVNTKO9uuv8vuTsZOz5RsFVq92KbbQNX41xlKh8Rokx1a4Qq1D1ehXDvzEcSep55uNT8y0zFMRz0dOO02NTCoAkIp0MY8OPIHF6dmxJTi5rslgGNP2uZnUNmdN7r//XVtlGy64W7BPtWO1WsmZnsf227SSPSMaSZqF5RzNZs3rvLJAAfVJucXrcHrODSCQ6GcYCl7cVuAToen4Yhx4c5tg1kPUOvnIQrOCY4+jxOf4WP7vv303elXlY7cYR5sjzRzLpt5MYdcUoDv7zIDmX5FD9fjW7H9htbLMHofRJiVEvOD3uu80OItHoZBgrjCKwl2FS3cNwej/Nflx/16kpqqG+uJ5x/zkO6aFEvvIpyu8vJ3tONo7ZXRNm8y6jR4stz0btB7Uce/2xtO5ppXV/9zUXQ+mTEoOKgWvMDiIR6WQYS1ze94CbzA5jMNbaUzf6RPpVrqu+pJ6q16oYv2Q8Flv3b0mlFBVPVGAbZWPEud1ejjSOCi/OQfk6He9ZINDW88FfX31SYkwVsMDpcTeZHUgi0lVrYpHLsQLjKDHuXDUqd3Vxqq3HCjXlD5XT6GnE1+AjKSuJnAU5VL1aRcAXICndGOlln2hnzNVjaK9pp+LJCvJ/mk/jlkbK7izDNtb25ZFj7jdzyZxhXF+s+7SOlvIWchYY04/3rdhHw8YGUsemMu4H47oPJujJP/tK01spDMs/QOT4gLOdHvd7ZgeSqHQyjEUuRzrGsImol8kfjHZoPzF/XL0SiXqvk8E4+9PAuu+9Ffiq2XH0YYnT477P7CASmT5NjkUubyNwMVBjdij98e+M9A3xlgghcn1SwugpnQgjTyfDWOXybgPOB7p2g49Rj2dnxeVc60j1SQmT14DFZgcxFOhkGMtc3nUYbQKazQ6lL/UidbuSkqLWID7cnptrma2g1uw4jrIKWOj0uKPWd3so08kw1rm8q4CFQMzUBezO3xyZJYjYzY5joFpTJP2zSVJsdhydfAxc6PS4W8wOZKjQyTAeuLyvA98ihhPiiqzM3rtCxYFHz7FMUbHxb/wxxp3jerMDGUp0MowXLu9KjFkqoXVtj6L9Vuv+aoslbk+RO8RIn5SPMBLhkGkNESsSKhmKSMNRf79aRO4XkZtFZEPwx9/p95+IiEtElIhM6rTeDcFls4N/3ykiXUb6ikiyiHwa/D1PRFaIyHYR2SQir4nIZBGxiMh9IrJRREpF5BMRmRBc59rgspLg4713NTOKOsTcNcRl2Y7NiCTEe8nkPilrCTERBt/TXwTfOxtE5BQRSRGRe4PvwW0i8m/pNAD+6M+HdqSEeAP3RSm1VCk1Uyk1E2ju+F0p1TFcoRS4vNMq3wRCaaxzKrBWjFHALwGrlFITlVJTMfqc5GIMnh4NTFdKFWIMmakVkbHAzcCpSqnpwFeBkj736PK+jXGXuS6E+KLi1Yy0UWbHEC4m9kl5HjjL6XH3+f8qInOA/wBmBd8784Fy4E4gE5islJoE/ANYKQnyRRVp+h/J8DJwEYCIHIfRvS6UognnAq8D84B2pdSyjgeUUhuUUmuAUcA+pVQguHyPUqoGyAHqCQ6dUUo1KKVCG95h3FQ5BdgS0vMjaFNK8rYWi2Wy2XGE0/KzLNGeifBb4Ip+3CwZBVQppVoBlFJVGHfCrwFuUEr5g8ufxHh/zQ9/yIkn0ZKhvdMp8Abg9hDXqwPKRWQacAXGt3Qo5mEMf5gGPR5NvABcEIzpbhHpqP5cDBwAykTkSRG5IMR9GlxeD3Ay8Gq/1guzB4ZlV5i5/0j44CuW2VHqk9IKfMfpcd/m9Lj7k4DfAsaJyBYReVBE5gKTgN1KqaOPLNcDAyqnNtQkWjLsfAo8k/61TlyBcaq8AOOUt1ciMhqoVkr1OmleKbUHOB6juXcAeFdEzgp+e5+LcUq+BbhHRFz9iBdcXi9wIcbpUdQpUB/YUyf1/cz4E4U+KVXAfKfH/bf+rqiUagBOxBiMXYnx5T0P6C6h9lzhVjtCoiXDwfgX8B26/3btznnAm8Hfv8B4c3ZLKdWqlHpdKfULjMS1ILhcKaU+Vkr9DiMRL+x31C5vAJf3ZoxeKlGt3Py+3V7iFxkTzX1Gy8o5cnJAiFRC9ACnOD3uooFuQCnlV0qtUkr9GvgxxjXE8SJydGXcWSRQ4eBI0skwSCnVDNwILA1xlY7rhQD/B9hE5PsdD4rISSIyV0RmBY8iCV7Ing7sEpHRIjKr0/ZmAgMqigqAy/t3YA6wY8Db6Kdlw7Ji5iZOuEWwT8oTwMlOj3vA/08icryIFHRaNBPYDCwH/izB3jMi8l2M9gAfDCLeIUN3x+tEKbWil4dLRKSjMN6LQIFSyhNcT4nIxcC9InITxhtwJ/DfwETgURGxBdf9GLgf407zn4KJsgXjdOcHg3oBLm8pLsdJwP8C5wxqW31og9YvUlKmR3IfZntqvmXGaV/4mwTCMaC8Cljs9Lj7vAQTggzgryKSjVHaaxvGKXM9cBewWYzZQJXAHHW4NFWaiHRuNP9npZRuKBWkS3gNgIicClyllBpc8ookl+Na4E/AsEhs/vnMjI/uGHHMKZHYdiz5zTO+1c499FifMUSvA9c6Pe794YgpFCKSB7wBPKiUeiRa+41nOhkmMpcjF/gLESgUe+7Y0R9VJCclfDIcfUjtuucR/zgZ2CWlJuDnTo/7oXDHpYWfvmaYyFzeA7i8l2NcXC8P12a9FkttRZI17qffhWIQfVLWArN0IowfOhkOBcY0vqnAfYShG9xyR2Yph6+BJrx+9knZDVzp9Li/7vS4N0cqJi38dDIcKlzeBlzeJcDXMKYfDtgLmRm9NyVOMCXHWQobbWzs42kNwC3AFKfH/VwUwtLCTCfDocbl/Qg4AbgK6PfQkT1J1gqvxZLQd5G7s2KupaciBwp4Cpjs9LiXOj3umCqioYVOJ8OhyOX14/I+izGN8HLo86jnSw9lO7b12Ng4gb3VfZ+Ud4HZTo/7GqfHvc+MuLTw0clwKDNmrzyPMRB8IbChr1XeTE9LyBknfenUJyUA/BNj4PR8p8f9mcmhaWGih9ZoR3I5LgBuBU46+qFiW8qWq0bnJVSFmn5oymhSjz3xF/9DTo/bY3YwWvjpZKh1z+U4E7gOo7p2KsDi3JHvf5hmn2tqXNG3G3gAeLR0UWlctW7V+kcnQ613Lkc2cHkAFp2QP258QCRhCrn24hDGqfDzwKrSRaV+k+PRokAnQy1khcsLCzBms1yGcfMlkdRilG57AXindFFpXPaA1gZOJ0NtQAqXF07FaD8wDzgNo9x8vNkHvIORAN8qXVQaC53xNJPoZKgNWuHyQitGPcd5wZ9Tgf7M2ogWD1AErAGKSheVRq3cmRb7dDLUwq5weWEyxt3oEzGqfE8J/jk2SiG0Y5RQ244xhrII+KB0UWlVlPavxSGdDLWoKVxemAFM5nCCHA84gj9ZR/3Z3dznAMa0t7rgjxeowEh6O4J/bgfK9U0Prb90MtRiUuHywhSM65B+oA1o0zc1tEjSyVDTNA09HU/TNA3QyVDTNA3QyVDTNA3QyVCLQyLiF5ENIrJRRF4UkR6714lIvohc2envV4vI/dGJVIsnOhlq8ahZKTVTKTUN405zb10K84Ere3lc0wCdDLX4twaYJCK/FZElHQtFZKmI/AT4PXBa8EjyhuDDo0XkDRHZKiJ/7LTOFSJSGjzi/EOn5Q3B7RWLyDoRyY3Wi9OiRydDLW6JSBJwHkZPl8eBRcHlFowK3s8CNwFrgkeS9wRXnYlRbKIQuExExonIaOAPwJnBx08SkQXB56cD65RSM4DVwPej8fq06EoyOwBNGwC7iHRU5V4DPK6UahORQyJyApALfK6UOtRDh4J3lVJeABHZhDETZjiwSilVGVz+LHA68DLGqfi/g+t+CnwjQq9LM5FOhlo8alZKdde3+THgaiAPeKKX9Vs7/e7H+Bz01telXR2endDxfC3B6NNkLZG8BJyLUSTizeCyekIrL/YRMFdERoiIFbgCeD8iUWoxSX/DaQkjeKr8HlCrlOoo1FAC+ESkGKOlZ7el+5VS+0TkV8B7GEeJrymlVkYhbC1G6LnJWsII3jj5DLhUKbXV7Hi0+KJPk7WEICJTgW0YN0d0ItT6TR8ZapqmoY8MNU3TAJ0MNU3TAJ0MNU3TAJ0MNU3TAJ0MNU3TAJ0MNU3TAJ0MNU3TAJ0MNU3TAJ0MNU3TAJ0MNU3TAJ0MNU3TAJ0MNU3TAJ0MNU3TAPh/SzopRVFmUV8AAAAASUVORK5CYII=\n",
>>>>>>> countryBranch
      "text/plain": [
       "<Figure size 432x288 with 1 Axes>"
      ]
     },
     "metadata": {},
     "output_type": "display_data"
    }
   ],
   "source": [
    "# Labels for the sections of our pie chart\n",
    "labels = top10current[0]\n",
    "sizes = top10current[1]\n",
    "explode = (0.2, 0,0,0,0,0,0,0,0,0)\n",
    "plt.pie(sizes, explode=explode, labels=labels, autopct=\"%1.1f%%\", startangle=140)\n",
    "plt.title('Top 10 languages developers currently work with')\n",
    "plt.show()\n"
   ]
  },
  {
   "cell_type": "code",
<<<<<<< HEAD
   "execution_count": 35,
=======
   "execution_count": 149,
>>>>>>> countryBranch
   "metadata": {},
   "outputs": [
    {
     "data": {
      "image/png": "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",
      "text/plain": [
       "<Figure size 432x288 with 1 Axes>"
      ]
     },
     "metadata": {},
     "output_type": "display_data"
    }
   ],
   "source": [
    "# Labels for the sections of our pie chart\n",
    "labels = top10future[0]\n",
    "sizes = top10future[1]\n",
    "explode = (0.2, 0,0,0,0,0,0,0,0,0)\n",
    "plt.pie(sizes,  explode=explode, labels=labels, autopct=\"%1.1f%%\", startangle=140)\n",
    "plt.title('Top 10 languages developers want to work with')\n",
    "plt.show()\n"
   ]
  },
  {
   "cell_type": "code",
<<<<<<< HEAD
   "execution_count": 36,
=======
   "execution_count": 150,
>>>>>>> countryBranch
   "metadata": {},
   "outputs": [
    {
     "data": {
      "text/plain": [
       "0            C++;HTML/CSS;JavaScript;Objective-C;PHP;Swift\n",
       "1                                        JavaScript;Python\n",
       "3                                    JavaScript;TypeScript\n",
       "5        C;C#;C++;HTML/CSS;Java;JavaScript;Node.js;Powe...\n",
       "6                                      HTML/CSS;JavaScript\n",
       "                               ...                        \n",
       "83426       Bash/Shell;HTML/CSS;Java;JavaScript;Python;SQL\n",
       "83431    C#;Dart;HTML/CSS;Java;JavaScript;Kotlin;Node.j...\n",
       "83433        Java;JavaScript;Kotlin;Objective-C;TypeScript\n",
       "83437                 Bash/Shell;JavaScript;Node.js;Python\n",
       "83438               Delphi;Elixir;HTML/CSS;Java;JavaScript\n",
       "Name: LanguageHaveWorkedWith, Length: 53587, dtype: object"
      ]
     },
<<<<<<< HEAD
     "execution_count": 36,
=======
     "execution_count": 150,
>>>>>>> countryBranch
     "metadata": {},
     "output_type": "execute_result"
    }
   ],
   "source": [
    "# pull main data frame and isolate only people that have javascript in full_df['LanguageHaveWorkedWith']\n",
    "# Code goes through the LanguageHaveWorkedWith series and looks for the string JavaScript within the series.  Once it finds\n",
    "# all instances it creates a new data frame with just those rows.  The Row count is equal to the count we did in the \n",
    "# beginning '53587'.  This way we can check that it is the correct amount.\n",
    "find_js_df = full_df.loc[full_df['LanguageHaveWorkedWith'].str.contains('JavaScript',  case = False, na=False)]\n",
    "find_js_df['LanguageHaveWorkedWith']"
   ]
  },
  {
   "cell_type": "code",
<<<<<<< HEAD
   "execution_count": 37,
=======
   "execution_count": 151,
>>>>>>> countryBranch
   "metadata": {},
   "outputs": [
    {
     "data": {
      "text/plain": [
<<<<<<< HEAD
       "<AxesSubplot:title={'center':'States with the Most Javascript Developers'}>"
      ]
     },
     "execution_count": 37,
=======
       "<matplotlib.axes._subplots.AxesSubplot at 0x25bb03098d0>"
      ]
     },
     "execution_count": 151,
>>>>>>> countryBranch
     "metadata": {},
     "output_type": "execute_result"
    },
    {
     "data": {
<<<<<<< HEAD
      "image/png": "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",
=======
      "image/png": "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\n",
>>>>>>> countryBranch
      "text/plain": [
       "<Figure size 1080x504 with 1 Axes>"
      ]
     },
     "metadata": {
      "needs_background": "light"
     },
     "output_type": "display_data"
    }
   ],
   "source": [
    "# Trying to count people using javascript in each indivual state.\n",
    "\n",
    "\n",
    "js_states = find_js_df.set_index('US_State')\n",
    "js_states = js_states.drop(['I do not reside in the United States','Guam'])\n",
    "js_states = js_states.reset_index()\n",
    "js_states['US_State'].value_counts().sort_values(ascending=False).plot(kind = 'bar', rot=90,\n",
    "                                                           figsize=(15,7),\n",
    "                                                           title='States with the Most Javascript Developers') \n",
    "                                                        #    xlabel='States') \n",
<<<<<<< HEAD
    "                                                        #    ylabel='Developers')\n"
=======
    "                                                        #    ylabel='Developers')\n",
    "\n"
>>>>>>> countryBranch
   ]
  },
  {
   "cell_type": "code",
<<<<<<< HEAD
   "execution_count": 38,
=======
   "execution_count": 152,
>>>>>>> countryBranch
   "metadata": {},
   "outputs": [
    {
     "data": {
      "text/plain": [
       "Man                                                                                   48505\n",
       "Woman                                                                                  2485\n",
       "Prefer not to say                                                                       809\n",
       "Non-binary, genderqueer, or gender non-conforming                                       424\n",
       "Or, in your own words:                                                                  252\n",
       "Man;Or, in your own words:                                                              184\n",
       "Man;Non-binary, genderqueer, or gender non-conforming                                   159\n",
       "Woman;Non-binary, genderqueer, or gender non-conforming                                  96\n",
       "Man;Woman                                                                                19\n",
       "Non-binary, genderqueer, or gender non-conforming;Or, in your own words:                 15\n",
       "Man;Woman;Non-binary, genderqueer, or gender non-conforming                              11\n",
       "Woman;Or, in your own words:                                                             10\n",
       "Man;Non-binary, genderqueer, or gender non-conforming;Or, in your own words:              8\n",
       "Man;Woman;Non-binary, genderqueer, or gender non-conforming;Or, in your own words:        8\n",
       "Woman;Non-binary, genderqueer, or gender non-conforming;Or, in your own words:            6\n",
       "Man;Woman;Or, in your own words:                                                          1\n",
       "Name: Gender, dtype: int64"
      ]
     },
<<<<<<< HEAD
     "execution_count": 38,
=======
     "execution_count": 152,
>>>>>>> countryBranch
     "metadata": {},
     "output_type": "execute_result"
    }
   ],
   "source": [
    "# Count all the different gender types - and find the top results\n",
    "find_js_df['Gender'].value_counts()"
   ]
  },
  {
   "cell_type": "code",
<<<<<<< HEAD
   "execution_count": 17,
=======
   "execution_count": 153,
>>>>>>> countryBranch
   "metadata": {},
   "outputs": [],
   "source": [
    "# find_js_df['Gender'].replace(regex=\n",
    "#                         #['Man;Woman;Or, in your own words:'],\n",
    "#                         #['Woman;Non-binary, genderqueer, or gender non-conforming;Or, in your own words:'],\n",
    "#                         #['Man;Non-binary, genderqueer, or gender non-conforming;Or, in your own words:'],\n",
    "#                          #['Man;Woman;Non-binary, genderqueer, or gender non-conforming;Or, in your own words:'],\n",
    "#                         #['Non-binary, genderqueer, or gender non-conforming;Or, in your own words:'],\n",
    "#                         #['Man;Woman'],\n",
    "#                         #['Non-binary, genderqueer, or gender non-conforming;Non-binary, genderqueer, or gender non-conforming'],\n",
    "#                         #['Or, in your own words:'],\n",
    "#                  value =\"Non-binary, genderqueer, or gender non-conforming\")\n",
    "# find_js_df['Gender'].replace(regex=['Man;Non-binary, genderqueer, or gender non-conforming'], value = ['Man'], inplace=True)\n",
    "# find_js_df['Gender'].replace(regex=['Woman;Non-binary, genderqueer, or gender non-conforming'], value = ['Woman'], inplace=True)"
   ]
  },
  {
   "cell_type": "code",
<<<<<<< HEAD
   "execution_count": 18,
=======
   "execution_count": 154,
>>>>>>> countryBranch
   "metadata": {},
   "outputs": [
    {
     "data": {
      "text/plain": [
       "Man                                                                                   48505\n",
       "Woman                                                                                  2485\n",
       "Prefer not to say                                                                       809\n",
       "Non-binary, genderqueer, or gender non-conforming                                       424\n",
       "Or, in your own words:                                                                  252\n",
       "Man;Or, in your own words:                                                              184\n",
       "Man;Non-binary, genderqueer, or gender non-conforming                                   159\n",
       "Woman;Non-binary, genderqueer, or gender non-conforming                                  96\n",
       "Man;Woman                                                                                19\n",
       "Non-binary, genderqueer, or gender non-conforming;Or, in your own words:                 15\n",
       "Man;Woman;Non-binary, genderqueer, or gender non-conforming                              11\n",
       "Woman;Or, in your own words:                                                             10\n",
<<<<<<< HEAD
       "Man;Woman;Non-binary, genderqueer, or gender non-conforming;Or, in your own words:        8\n",
       "Man;Non-binary, genderqueer, or gender non-conforming;Or, in your own words:              8\n",
=======
       "Man;Non-binary, genderqueer, or gender non-conforming;Or, in your own words:              8\n",
       "Man;Woman;Non-binary, genderqueer, or gender non-conforming;Or, in your own words:        8\n",
>>>>>>> countryBranch
       "Woman;Non-binary, genderqueer, or gender non-conforming;Or, in your own words:            6\n",
       "Man;Woman;Or, in your own words:                                                          1\n",
       "Name: Gender, dtype: int64"
      ]
     },
<<<<<<< HEAD
     "execution_count": 18,
=======
     "execution_count": 154,
>>>>>>> countryBranch
     "metadata": {},
     "output_type": "execute_result"
    }
   ],
   "source": [
    "find_js_df['Gender'].value_counts()"
   ]
  },
  {
   "cell_type": "code",
<<<<<<< HEAD
   "execution_count": 39,
=======
   "execution_count": null,
   "metadata": {},
   "outputs": [],
   "source": []
  },
  {
   "cell_type": "code",
   "execution_count": 155,
>>>>>>> countryBranch
   "metadata": {},
   "outputs": [
    {
     "data": {
      "text/plain": [
       "Text(0, 0.5, 'Number of Users')"
      ]
     },
<<<<<<< HEAD
     "execution_count": 39,
=======
     "execution_count": 155,
>>>>>>> countryBranch
     "metadata": {},
     "output_type": "execute_result"
    },
    {
     "data": {
<<<<<<< HEAD
      "image/png": "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",
=======
      "image/png": "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\n",
>>>>>>> countryBranch
      "text/plain": [
       "<Figure size 432x288 with 1 Axes>"
      ]
     },
     "metadata": {
      "needs_background": "light"
     },
     "output_type": "display_data"
    }
   ],
   "source": [
<<<<<<< HEAD
    "# Isolate the the top 3 values and put them into a bar graph \n",
    "\n",
=======
>>>>>>> countryBranch
    "users = find_js_df['Gender'].value_counts().head(3)\n",
    "x_axis = ['Man', 'Woman', 'Non-binary, genderqueer, or gender non-conforming']\n",
    "plt.bar(x_axis, users, color='purple')\n",
    "plt.xticks(rotation=90)\n",
    "plt.title(\"Gender of JavaScript Users\")\n",
    "plt.xlabel(\"Gender\")\n",
    "plt.ylabel(\"Number of Users\")\n"
   ]
  },
  {
   "cell_type": "code",
<<<<<<< HEAD
   "execution_count": 40,
=======
   "execution_count": 156,
>>>>>>> countryBranch
   "metadata": {},
   "outputs": [
    {
     "data": {
      "text/plain": [
       "array(['Slovakia', 'Netherlands', 'Austria', 'United States of America',\n",
       "       'Malaysia', 'India', 'Spain', 'Peru',\n",
       "       'United Kingdom of Great Britain and Northern Ireland', 'Turkey',\n",
       "       'Canada', 'Brazil', 'Sweden', 'France', 'Germany', 'Malawi',\n",
       "       'Poland', 'Viet Nam', 'Italy', 'Greece', 'Russian Federation',\n",
       "       'Ireland', 'Georgia', 'Uzbekistan', 'Switzerland', 'Hungary',\n",
       "       'Belgium', 'Israel', 'Nigeria', 'Albania', 'Bangladesh', 'Romania',\n",
       "       'Lithuania', 'Ukraine', 'Croatia', 'Denmark', 'Bahrain', 'Egypt',\n",
       "       'Nepal', 'Colombia', 'Indonesia', 'Czech Republic', 'Chile',\n",
       "       'Serbia', 'Iran, Islamic Republic of...', 'New Zealand',\n",
       "       'Bulgaria', 'Estonia', 'Tunisia', 'Armenia', 'Finland',\n",
       "       'Hong Kong (S.A.R.)', 'Argentina', 'Costa Rica', 'South Africa',\n",
       "       'Japan', 'United Arab Emirates', 'Bolivia', 'Portugal',\n",
       "       'Bosnia and Herzegovina', 'Pakistan', 'Uruguay', 'Lebanon',\n",
       "       'South Korea', 'China', 'Luxembourg', 'Malta', 'Belarus',\n",
       "       'Australia', 'Madagascar', 'Singapore', 'Morocco', 'Norway',\n",
       "       'The former Yugoslav Republic of Macedonia', 'Botswana', 'Algeria',\n",
       "       'Senegal', 'Cyprus', 'Venezuela, Bolivarian Republic of...',\n",
       "       'Jordan', 'Slovenia', 'Dominican Republic', 'Kenya',\n",
       "       'Syrian Arab Republic', 'Mexico', 'Zambia', 'Sri Lanka', 'Taiwan',\n",
       "       'Nomadic', 'Latvia', 'Guatemala', 'Ethiopia', 'Paraguay',\n",
       "       'Iceland', 'Haiti', 'Cameroon', 'Republic of Moldova',\n",
       "       'Libyan Arab Jamahiriya', 'Panama', 'Kosovo', \"Côte d'Ivoire\",\n",
       "       'Cuba', 'Philippines', 'Myanmar',\n",
       "       \"Lao People's Democratic Republic\", 'Yemen', 'Thailand',\n",
       "       'Democratic Republic of the Congo', 'United Republic of Tanzania',\n",
       "       'Iraq', 'Mozambique', 'Andorra', 'Kyrgyzstan', 'Kuwait', 'Ecuador',\n",
       "       'Saudi Arabia', 'Mauritania', 'Azerbaijan', 'Honduras',\n",
       "       'Kazakhstan', 'Angola', 'Oman', 'Swaziland', 'Sudan', 'Guyana',\n",
       "       'Turkmenistan', 'Chad', 'Afghanistan', 'El Salvador', 'Benin',\n",
       "       'North Korea', 'Nicaragua', 'Dominica', 'Ghana', 'Burundi',\n",
       "       'Micronesia, Federated States of...', 'Zimbabwe', 'Gambia',\n",
       "       'Bahamas', 'Suriname', 'Trinidad and Tobago', 'Djibouti', 'Bhutan',\n",
       "       'Uganda', 'Rwanda', 'Mauritius', 'Maldives', 'Montenegro',\n",
       "       'Tajikistan', 'Somalia', 'Saint Kitts and Nevis',\n",
       "       'Congo, Republic of the...', 'Monaco', 'Republic of Korea',\n",
       "       'Qatar', 'Cambodia', 'Togo', 'Isle of Man', 'Jamaica', 'Mongolia',\n",
       "       'Brunei Darussalam', 'Namibia', 'Palestine',\n",
       "       'Central African Republic', 'Lesotho', 'Guinea', 'Liberia',\n",
       "       'Cape Verde', 'Barbados', 'Sierra Leone', 'Saint Lucia',\n",
       "       'San Marino', 'Burkina Faso', 'Belize', 'Niger', 'Tuvalu', 'Fiji',\n",
       "       'Mali'], dtype=object)"
      ]
     },
<<<<<<< HEAD
     "execution_count": 40,
=======
     "execution_count": 156,
>>>>>>> countryBranch
     "metadata": {},
     "output_type": "execute_result"
    }
   ],
   "source": [
    "# Find all the unique countires and put them into a list\n",
    "unique_countries_df = find_js_df[\"Country\"].unique()\n",
    "unique_countries_df"
   ]
  },
  {
   "cell_type": "code",
<<<<<<< HEAD
   "execution_count": 21,
=======
   "execution_count": 157,
>>>>>>> countryBranch
   "metadata": {},
   "outputs": [
    {
     "data": {
      "text/plain": [
       "181"
      ]
     },
<<<<<<< HEAD
     "execution_count": 21,
=======
     "execution_count": 157,
>>>>>>> countryBranch
     "metadata": {},
     "output_type": "execute_result"
    }
   ],
   "source": [
    "\n",
    "number_unique_countries = full_df['Country'].nunique()\n",
    "number_unique_countries"
   ]
  },
  {
   "cell_type": "code",
<<<<<<< HEAD
   "execution_count": 41,
=======
   "execution_count": 158,
>>>>>>> countryBranch
   "metadata": {},
   "outputs": [
    {
     "data": {
      "text/plain": [
       "United States of America                                9987\n",
       "India                                                   6460\n",
       "Germany                                                 3389\n",
       "United Kingdom of Great Britain and Northern Ireland    2850\n",
       "Canada                                                  1981\n",
       "Name: Country, dtype: int64"
      ]
     },
<<<<<<< HEAD
     "execution_count": 41,
=======
     "execution_count": 158,
>>>>>>> countryBranch
     "metadata": {},
     "output_type": "execute_result"
    }
   ],
   "source": [
    "# Find the number of javascript users per county\n",
    "\n",
    "js_country = find_js_df['Country'].value_counts()\n",
<<<<<<< HEAD
    "js_country.head(10)\n"
=======
    "\n",
    "js_country.head()\n"
>>>>>>> countryBranch
   ]
  },
  {
   "cell_type": "code",
<<<<<<< HEAD
   "execution_count": 42,
=======
   "execution_count": 159,
   "metadata": {},
   "outputs": [
    {
     "data": {
      "text/html": [
       "<div>\n",
       "<style scoped>\n",
       "    .dataframe tbody tr th:only-of-type {\n",
       "        vertical-align: middle;\n",
       "    }\n",
       "\n",
       "    .dataframe tbody tr th {\n",
       "        vertical-align: top;\n",
       "    }\n",
       "\n",
       "    .dataframe thead th {\n",
       "        text-align: right;\n",
       "    }\n",
       "</style>\n",
       "<table border=\"1\" class=\"dataframe\">\n",
       "  <thead>\n",
       "    <tr style=\"text-align: right;\">\n",
       "      <th></th>\n",
       "      <th>Number of Respondants</th>\n",
       "      <th>NumKnowsJavaS</th>\n",
       "      <th>PercentJavaS</th>\n",
       "    </tr>\n",
       "  </thead>\n",
       "  <tbody>\n",
       "    <tr>\n",
       "      <th>United States of America</th>\n",
       "      <td>15288</td>\n",
       "      <td>9987</td>\n",
       "      <td>65.33%</td>\n",
       "    </tr>\n",
       "    <tr>\n",
       "      <th>India</th>\n",
       "      <td>10511</td>\n",
       "      <td>6460</td>\n",
       "      <td>61.46%</td>\n",
       "    </tr>\n",
       "    <tr>\n",
       "      <th>Germany</th>\n",
       "      <td>5625</td>\n",
       "      <td>3389</td>\n",
       "      <td>60.25%</td>\n",
       "    </tr>\n",
       "    <tr>\n",
       "      <th>United Kingdom of Great Britain and Northern Ireland</th>\n",
       "      <td>4475</td>\n",
       "      <td>2850</td>\n",
       "      <td>63.69%</td>\n",
       "    </tr>\n",
       "    <tr>\n",
       "      <th>Canada</th>\n",
       "      <td>3012</td>\n",
       "      <td>1981</td>\n",
       "      <td>65.77%</td>\n",
       "    </tr>\n",
       "    <tr>\n",
       "      <th>France</th>\n",
       "      <td>2708</td>\n",
       "      <td>1802</td>\n",
       "      <td>66.54%</td>\n",
       "    </tr>\n",
       "    <tr>\n",
       "      <th>Brazil</th>\n",
       "      <td>2254</td>\n",
       "      <td>1533</td>\n",
       "      <td>68.01%</td>\n",
       "    </tr>\n",
       "    <tr>\n",
       "      <th>Poland</th>\n",
       "      <td>1805</td>\n",
       "      <td>1081</td>\n",
       "      <td>59.89%</td>\n",
       "    </tr>\n",
       "    <tr>\n",
       "      <th>Netherlands</th>\n",
       "      <td>1772</td>\n",
       "      <td>1183</td>\n",
       "      <td>66.76%</td>\n",
       "    </tr>\n",
       "    <tr>\n",
       "      <th>Italy</th>\n",
       "      <td>1666</td>\n",
       "      <td>1096</td>\n",
       "      <td>65.79%</td>\n",
       "    </tr>\n",
       "  </tbody>\n",
       "</table>\n",
       "</div>"
      ],
      "text/plain": [
       "                                                    Number of Respondants  \\\n",
       "United States of America                                            15288   \n",
       "India                                                               10511   \n",
       "Germany                                                              5625   \n",
       "United Kingdom of Great Britain and Northern Ir...                   4475   \n",
       "Canada                                                               3012   \n",
       "France                                                               2708   \n",
       "Brazil                                                               2254   \n",
       "Poland                                                               1805   \n",
       "Netherlands                                                          1772   \n",
       "Italy                                                                1666   \n",
       "\n",
       "                                                    NumKnowsJavaS PercentJavaS  \n",
       "United States of America                                     9987       65.33%  \n",
       "India                                                        6460       61.46%  \n",
       "Germany                                                      3389       60.25%  \n",
       "United Kingdom of Great Britain and Northern Ir...           2850       63.69%  \n",
       "Canada                                                       1981       65.77%  \n",
       "France                                                       1802       66.54%  \n",
       "Brazil                                                       1533       68.01%  \n",
       "Poland                                                       1081       59.89%  \n",
       "Netherlands                                                  1183       66.76%  \n",
       "Italy                                                        1096       65.79%  "
      ]
     },
     "execution_count": 159,
     "metadata": {},
     "output_type": "execute_result"
    }
   ],
   "source": [
    "\n",
    "clean_df = df[['Country','Languages Learned']]\n",
    "#clean_df\n",
    "gb_df = clean_df.groupby(['Country'])\n",
    "gb_df.count()\n",
    "country_count = clean_df['Country'].value_counts()\n",
    "country_count.head()\n",
    "country_language_javascript_df = gb_df['Languages Learned'].apply(lambda x: x.str.contains('JavaScript').sum())\n",
    "country_language_javascript_df\n",
    "javascript_df = pd.concat([country_count,country_language_javascript_df], axis='columns', sort=False) \n",
    "javascript_df\n",
    "javascript_df.rename(columns={'Country': 'Number of Respondants', 'Languages Learned': 'NumKnowsJavaS'}, inplace = True)\n",
    "javascript_df['PercentJavaS'] = (javascript_df['NumKnowsJavaS']/javascript_df['Number of Respondants'])*100\n",
    "javascript_df['PercentJavaS'] = javascript_df['PercentJavaS'].map(\"{:,.2f}%\".format)\n",
    "\n",
    "javascript_df.head(10)"
   ]
  },
  {
   "cell_type": "code",
   "execution_count": 160,
   "metadata": {},
   "outputs": [
    {
     "data": {
      "text/html": [
       "<div>\n",
       "<style scoped>\n",
       "    .dataframe tbody tr th:only-of-type {\n",
       "        vertical-align: middle;\n",
       "    }\n",
       "\n",
       "    .dataframe tbody tr th {\n",
       "        vertical-align: top;\n",
       "    }\n",
       "\n",
       "    .dataframe thead th {\n",
       "        text-align: right;\n",
       "    }\n",
       "</style>\n",
       "<table border=\"1\" class=\"dataframe\">\n",
       "  <thead>\n",
       "    <tr style=\"text-align: right;\">\n",
       "      <th></th>\n",
       "      <th>Number of Respondants</th>\n",
       "      <th>NumKnowsHTML/CSS</th>\n",
       "      <th>PercentHTML/CSS</th>\n",
       "    </tr>\n",
       "  </thead>\n",
       "  <tbody>\n",
       "    <tr>\n",
       "      <th>United States of America</th>\n",
       "      <td>15288</td>\n",
       "      <td>8492</td>\n",
       "      <td>55.55%</td>\n",
       "    </tr>\n",
       "    <tr>\n",
       "      <th>India</th>\n",
       "      <td>10511</td>\n",
       "      <td>5844</td>\n",
       "      <td>55.60%</td>\n",
       "    </tr>\n",
       "    <tr>\n",
       "      <th>Germany</th>\n",
       "      <td>5625</td>\n",
       "      <td>3030</td>\n",
       "      <td>53.87%</td>\n",
       "    </tr>\n",
       "    <tr>\n",
       "      <th>United Kingdom of Great Britain and Northern Ireland</th>\n",
       "      <td>4475</td>\n",
       "      <td>2450</td>\n",
       "      <td>54.75%</td>\n",
       "    </tr>\n",
       "    <tr>\n",
       "      <th>Canada</th>\n",
       "      <td>3012</td>\n",
       "      <td>1690</td>\n",
       "      <td>56.11%</td>\n",
       "    </tr>\n",
       "    <tr>\n",
       "      <th>France</th>\n",
       "      <td>2708</td>\n",
       "      <td>1592</td>\n",
       "      <td>58.79%</td>\n",
       "    </tr>\n",
       "    <tr>\n",
       "      <th>Brazil</th>\n",
       "      <td>2254</td>\n",
       "      <td>1220</td>\n",
       "      <td>54.13%</td>\n",
       "    </tr>\n",
       "    <tr>\n",
       "      <th>Poland</th>\n",
       "      <td>1805</td>\n",
       "      <td>904</td>\n",
       "      <td>50.08%</td>\n",
       "    </tr>\n",
       "    <tr>\n",
       "      <th>Netherlands</th>\n",
       "      <td>1772</td>\n",
       "      <td>1020</td>\n",
       "      <td>57.56%</td>\n",
       "    </tr>\n",
       "    <tr>\n",
       "      <th>Italy</th>\n",
       "      <td>1666</td>\n",
       "      <td>961</td>\n",
       "      <td>57.68%</td>\n",
       "    </tr>\n",
       "  </tbody>\n",
       "</table>\n",
       "</div>"
      ],
      "text/plain": [
       "                                                    Number of Respondants  \\\n",
       "United States of America                                            15288   \n",
       "India                                                               10511   \n",
       "Germany                                                              5625   \n",
       "United Kingdom of Great Britain and Northern Ir...                   4475   \n",
       "Canada                                                               3012   \n",
       "France                                                               2708   \n",
       "Brazil                                                               2254   \n",
       "Poland                                                               1805   \n",
       "Netherlands                                                          1772   \n",
       "Italy                                                                1666   \n",
       "\n",
       "                                                    NumKnowsHTML/CSS  \\\n",
       "United States of America                                        8492   \n",
       "India                                                           5844   \n",
       "Germany                                                         3030   \n",
       "United Kingdom of Great Britain and Northern Ir...              2450   \n",
       "Canada                                                          1690   \n",
       "France                                                          1592   \n",
       "Brazil                                                          1220   \n",
       "Poland                                                           904   \n",
       "Netherlands                                                     1020   \n",
       "Italy                                                            961   \n",
       "\n",
       "                                                   PercentHTML/CSS  \n",
       "United States of America                                    55.55%  \n",
       "India                                                       55.60%  \n",
       "Germany                                                     53.87%  \n",
       "United Kingdom of Great Britain and Northern Ir...          54.75%  \n",
       "Canada                                                      56.11%  \n",
       "France                                                      58.79%  \n",
       "Brazil                                                      54.13%  \n",
       "Poland                                                      50.08%  \n",
       "Netherlands                                                 57.56%  \n",
       "Italy                                                       57.68%  "
      ]
     },
     "execution_count": 160,
     "metadata": {},
     "output_type": "execute_result"
    }
   ],
   "source": [
    "country_language_HTMLCSS_df = gb_df['Languages Learned'].apply(lambda x: x.str.contains('HTML/CSS').sum())\n",
    "#country_language_HTMLCSS_df\n",
    "HTMLCSS_df = pd.concat([country_count,country_language_HTMLCSS_df], axis='columns', sort=False) \n",
    "#HTMLCSS_df\n",
    "HTMLCSS_df.rename(columns={'Country': 'Number of Respondants', 'Languages Learned': 'NumKnowsHTML/CSS'}, inplace = True)\n",
    "HTMLCSS_df['PercentHTML/CSS'] = (HTMLCSS_df['NumKnowsHTML/CSS']/HTMLCSS_df['Number of Respondants'])*100\n",
    "\n",
    "HTMLCSS_df['PercentHTML/CSS'] = HTMLCSS_df['PercentHTML/CSS'].map(\"{:,.2f}%\".format)\n",
    "HTMLCSS_df.head(10)"
   ]
  },
  {
   "cell_type": "code",
   "execution_count": 161,
   "metadata": {},
   "outputs": [
    {
     "data": {
      "text/html": [
       "<div>\n",
       "<style scoped>\n",
       "    .dataframe tbody tr th:only-of-type {\n",
       "        vertical-align: middle;\n",
       "    }\n",
       "\n",
       "    .dataframe tbody tr th {\n",
       "        vertical-align: top;\n",
       "    }\n",
       "\n",
       "    .dataframe thead th {\n",
       "        text-align: right;\n",
       "    }\n",
       "</style>\n",
       "<table border=\"1\" class=\"dataframe\">\n",
       "  <thead>\n",
       "    <tr style=\"text-align: right;\">\n",
       "      <th></th>\n",
       "      <th>Number of Respondants</th>\n",
       "      <th>NumKnowsPython</th>\n",
       "      <th>PercentPython</th>\n",
       "    </tr>\n",
       "  </thead>\n",
       "  <tbody>\n",
       "    <tr>\n",
       "      <th>United States of America</th>\n",
       "      <td>15288</td>\n",
       "      <td>7975</td>\n",
       "      <td>52.17%</td>\n",
       "    </tr>\n",
       "    <tr>\n",
       "      <th>India</th>\n",
       "      <td>10511</td>\n",
       "      <td>5233</td>\n",
       "      <td>49.79%</td>\n",
       "    </tr>\n",
       "    <tr>\n",
       "      <th>Germany</th>\n",
       "      <td>5625</td>\n",
       "      <td>2713</td>\n",
       "      <td>48.23%</td>\n",
       "    </tr>\n",
       "    <tr>\n",
       "      <th>United Kingdom of Great Britain and Northern Ireland</th>\n",
       "      <td>4475</td>\n",
       "      <td>2149</td>\n",
       "      <td>48.02%</td>\n",
       "    </tr>\n",
       "    <tr>\n",
       "      <th>Canada</th>\n",
       "      <td>3012</td>\n",
       "      <td>1593</td>\n",
       "      <td>52.89%</td>\n",
       "    </tr>\n",
       "    <tr>\n",
       "      <th>France</th>\n",
       "      <td>2708</td>\n",
       "      <td>1423</td>\n",
       "      <td>52.55%</td>\n",
       "    </tr>\n",
       "    <tr>\n",
       "      <th>Brazil</th>\n",
       "      <td>2254</td>\n",
       "      <td>951</td>\n",
       "      <td>42.19%</td>\n",
       "    </tr>\n",
       "    <tr>\n",
       "      <th>Poland</th>\n",
       "      <td>1805</td>\n",
       "      <td>812</td>\n",
       "      <td>44.99%</td>\n",
       "    </tr>\n",
       "    <tr>\n",
       "      <th>Netherlands</th>\n",
       "      <td>1772</td>\n",
       "      <td>831</td>\n",
       "      <td>46.90%</td>\n",
       "    </tr>\n",
       "    <tr>\n",
       "      <th>Italy</th>\n",
       "      <td>1666</td>\n",
       "      <td>735</td>\n",
       "      <td>44.12%</td>\n",
       "    </tr>\n",
       "  </tbody>\n",
       "</table>\n",
       "</div>"
      ],
      "text/plain": [
       "                                                    Number of Respondants  \\\n",
       "United States of America                                            15288   \n",
       "India                                                               10511   \n",
       "Germany                                                              5625   \n",
       "United Kingdom of Great Britain and Northern Ir...                   4475   \n",
       "Canada                                                               3012   \n",
       "France                                                               2708   \n",
       "Brazil                                                               2254   \n",
       "Poland                                                               1805   \n",
       "Netherlands                                                          1772   \n",
       "Italy                                                                1666   \n",
       "\n",
       "                                                    NumKnowsPython  \\\n",
       "United States of America                                      7975   \n",
       "India                                                         5233   \n",
       "Germany                                                       2713   \n",
       "United Kingdom of Great Britain and Northern Ir...            2149   \n",
       "Canada                                                        1593   \n",
       "France                                                        1423   \n",
       "Brazil                                                         951   \n",
       "Poland                                                         812   \n",
       "Netherlands                                                    831   \n",
       "Italy                                                          735   \n",
       "\n",
       "                                                   PercentPython  \n",
       "United States of America                                  52.17%  \n",
       "India                                                     49.79%  \n",
       "Germany                                                   48.23%  \n",
       "United Kingdom of Great Britain and Northern Ir...        48.02%  \n",
       "Canada                                                    52.89%  \n",
       "France                                                    52.55%  \n",
       "Brazil                                                    42.19%  \n",
       "Poland                                                    44.99%  \n",
       "Netherlands                                               46.90%  \n",
       "Italy                                                     44.12%  "
      ]
     },
     "execution_count": 161,
     "metadata": {},
     "output_type": "execute_result"
    }
   ],
   "source": [
    "country_language_python_df = gb_df['Languages Learned'].apply(lambda x: x.str.contains('Python').sum())\n",
    "#country_language_python_df\n",
    "python_df = pd.concat([country_count,country_language_python_df], axis='columns', sort=False) \n",
    "#python_df\n",
    "python_df.rename(columns={'Country': 'Number of Respondants', 'Languages Learned': 'NumKnowsPython'}, inplace = True)\n",
    "python_df['PercentPython'] = (python_df['NumKnowsPython']/python_df['Number of Respondants'])*100\n",
    "\n",
    "python_df['PercentPython'] = python_df['PercentPython'].map(\"{:,.2f}%\".format)\n",
    "python_df.head(10)"
   ]
  },
  {
   "cell_type": "code",
   "execution_count": 168,
   "metadata": {},
   "outputs": [
    {
     "data": {
      "text/html": [
       "<div>\n",
       "<style scoped>\n",
       "    .dataframe tbody tr th:only-of-type {\n",
       "        vertical-align: middle;\n",
       "    }\n",
       "\n",
       "    .dataframe tbody tr th {\n",
       "        vertical-align: top;\n",
       "    }\n",
       "\n",
       "    .dataframe thead th {\n",
       "        text-align: right;\n",
       "    }\n",
       "</style>\n",
       "<table border=\"1\" class=\"dataframe\">\n",
       "  <thead>\n",
       "    <tr style=\"text-align: right;\">\n",
       "      <th></th>\n",
       "      <th>PercentJavaS</th>\n",
       "      <th>PercentHTML/CSS</th>\n",
       "      <th>PercentPython</th>\n",
       "    </tr>\n",
       "  </thead>\n",
       "  <tbody>\n",
       "    <tr>\n",
       "      <th>United States of America</th>\n",
       "      <td>65.33%</td>\n",
       "      <td>55.55%</td>\n",
       "      <td>52.17%</td>\n",
       "    </tr>\n",
       "    <tr>\n",
       "      <th>India</th>\n",
       "      <td>61.46%</td>\n",
       "      <td>55.60%</td>\n",
       "      <td>49.79%</td>\n",
       "    </tr>\n",
       "    <tr>\n",
       "      <th>Germany</th>\n",
       "      <td>60.25%</td>\n",
       "      <td>53.87%</td>\n",
       "      <td>48.23%</td>\n",
       "    </tr>\n",
       "    <tr>\n",
       "      <th>United Kingdom of Great Britain and Northern Ireland</th>\n",
       "      <td>63.69%</td>\n",
       "      <td>54.75%</td>\n",
       "      <td>48.02%</td>\n",
       "    </tr>\n",
       "    <tr>\n",
       "      <th>Canada</th>\n",
       "      <td>65.77%</td>\n",
       "      <td>56.11%</td>\n",
       "      <td>52.89%</td>\n",
       "    </tr>\n",
       "    <tr>\n",
       "      <th>France</th>\n",
       "      <td>66.54%</td>\n",
       "      <td>58.79%</td>\n",
       "      <td>52.55%</td>\n",
       "    </tr>\n",
       "    <tr>\n",
       "      <th>Brazil</th>\n",
       "      <td>68.01%</td>\n",
       "      <td>54.13%</td>\n",
       "      <td>42.19%</td>\n",
       "    </tr>\n",
       "    <tr>\n",
       "      <th>Poland</th>\n",
       "      <td>59.89%</td>\n",
       "      <td>50.08%</td>\n",
       "      <td>44.99%</td>\n",
       "    </tr>\n",
       "    <tr>\n",
       "      <th>Netherlands</th>\n",
       "      <td>66.76%</td>\n",
       "      <td>57.56%</td>\n",
       "      <td>46.90%</td>\n",
       "    </tr>\n",
       "    <tr>\n",
       "      <th>Italy</th>\n",
       "      <td>65.79%</td>\n",
       "      <td>57.68%</td>\n",
       "      <td>44.12%</td>\n",
       "    </tr>\n",
       "    <tr>\n",
       "      <th>Australia</th>\n",
       "      <td>67.44%</td>\n",
       "      <td>56.32%</td>\n",
       "      <td>50.49%</td>\n",
       "    </tr>\n",
       "    <tr>\n",
       "      <th>Spain</th>\n",
       "      <td>64.58%</td>\n",
       "      <td>54.48%</td>\n",
       "      <td>45.52%</td>\n",
       "    </tr>\n",
       "    <tr>\n",
       "      <th>Russian Federation</th>\n",
       "      <td>53.46%</td>\n",
       "      <td>42.27%</td>\n",
       "      <td>45.12%</td>\n",
       "    </tr>\n",
       "    <tr>\n",
       "      <th>Sweden</th>\n",
       "      <td>61.04%</td>\n",
       "      <td>50.00%</td>\n",
       "      <td>43.90%</td>\n",
       "    </tr>\n",
       "    <tr>\n",
       "      <th>China</th>\n",
       "      <td>40.85%</td>\n",
       "      <td>31.28%</td>\n",
       "      <td>46.92%</td>\n",
       "    </tr>\n",
       "  </tbody>\n",
       "</table>\n",
       "</div>"
      ],
      "text/plain": [
       "                                                   PercentJavaS  \\\n",
       "United States of America                                 65.33%   \n",
       "India                                                    61.46%   \n",
       "Germany                                                  60.25%   \n",
       "United Kingdom of Great Britain and Northern Ir...       63.69%   \n",
       "Canada                                                   65.77%   \n",
       "France                                                   66.54%   \n",
       "Brazil                                                   68.01%   \n",
       "Poland                                                   59.89%   \n",
       "Netherlands                                              66.76%   \n",
       "Italy                                                    65.79%   \n",
       "Australia                                                67.44%   \n",
       "Spain                                                    64.58%   \n",
       "Russian Federation                                       53.46%   \n",
       "Sweden                                                   61.04%   \n",
       "China                                                    40.85%   \n",
       "\n",
       "                                                   PercentHTML/CSS  \\\n",
       "United States of America                                    55.55%   \n",
       "India                                                       55.60%   \n",
       "Germany                                                     53.87%   \n",
       "United Kingdom of Great Britain and Northern Ir...          54.75%   \n",
       "Canada                                                      56.11%   \n",
       "France                                                      58.79%   \n",
       "Brazil                                                      54.13%   \n",
       "Poland                                                      50.08%   \n",
       "Netherlands                                                 57.56%   \n",
       "Italy                                                       57.68%   \n",
       "Australia                                                   56.32%   \n",
       "Spain                                                       54.48%   \n",
       "Russian Federation                                          42.27%   \n",
       "Sweden                                                      50.00%   \n",
       "China                                                       31.28%   \n",
       "\n",
       "                                                   PercentPython  \n",
       "United States of America                                  52.17%  \n",
       "India                                                     49.79%  \n",
       "Germany                                                   48.23%  \n",
       "United Kingdom of Great Britain and Northern Ir...        48.02%  \n",
       "Canada                                                    52.89%  \n",
       "France                                                    52.55%  \n",
       "Brazil                                                    42.19%  \n",
       "Poland                                                    44.99%  \n",
       "Netherlands                                               46.90%  \n",
       "Italy                                                     44.12%  \n",
       "Australia                                                 50.49%  \n",
       "Spain                                                     45.52%  \n",
       "Russian Federation                                        45.12%  \n",
       "Sweden                                                    43.90%  \n",
       "China                                                     46.92%  "
      ]
     },
     "execution_count": 168,
     "metadata": {},
     "output_type": "execute_result"
    }
   ],
   "source": [
    "dropped_JS = javascript_df.drop(['Number of Respondants','NumKnowsJavaS'], axis = 1)\n",
    "dropped_HTMLCSS = HTMLCSS_df.drop(['Number of Respondants','NumKnowsHTML/CSS'], axis = 1)\n",
    "dropped_python = python_df.drop(['Number of Respondants','NumKnowsPython'], axis = 1)\n",
    "country_lang_merge_df = pd.concat([dropped_JS, dropped_HTMLCSS,dropped_python],axis='columns', sort=False)\n",
    "country_lang_merge_df.head(15)"
   ]
  },
  {
   "cell_type": "code",
   "execution_count": 163,
>>>>>>> countryBranch
   "metadata": {},
   "outputs": [
    {
     "data": {
      "image/png": "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",
      "text/plain": [
       "<Figure size 1440x720 with 1 Axes>"
      ]
     },
     "metadata": {
      "needs_background": "light"
     },
     "output_type": "display_data"
    }
   ],
   "source": [
    "# Plot the number of javascript users in the survey per country\n",
    "\n",
    "js_country.head(10).plot(kind=\"bar\", figsize=(20,10))\n",
    "plt.title(\"JavaScript Users Per Country\", fontsize = 30)\n",
    "plt.xlabel('Top 10 Countries',fontsize = 30)\n",
    "plt.ylabel('JavaScript Users', fontsize = 30)\n",
    "plt.xticks(fontsize=20)\n",
    "plt.yticks(fontsize=20)\n",
    "\n",
    "\n",
    "plt.show()\n"
   ]
  },
  {
   "cell_type": "code",
<<<<<<< HEAD
   "execution_count": 75,
=======
   "execution_count": 164,
   "metadata": {},
   "outputs": [
    {
     "name": "stderr",
     "output_type": "stream",
     "text": [
      "C:\\Users\\georg\\anaconda4\\envs\\PythonData\\lib\\site-packages\\ipykernel_launcher.py:5: SettingWithCopyWarning: \n",
      "A value is trying to be set on a copy of a slice from a DataFrame.\n",
      "Try using .loc[row_indexer,col_indexer] = value instead\n",
      "\n",
      "See the caveats in the documentation: https://pandas.pydata.org/pandas-docs/stable/user_guide/indexing.html#returning-a-view-versus-a-copy\n",
      "  \"\"\"\n",
      "C:\\Users\\georg\\anaconda4\\envs\\PythonData\\lib\\site-packages\\ipykernel_launcher.py:6: SettingWithCopyWarning: \n",
      "A value is trying to be set on a copy of a slice from a DataFrame.\n",
      "Try using .loc[row_indexer,col_indexer] = value instead\n",
      "\n",
      "See the caveats in the documentation: https://pandas.pydata.org/pandas-docs/stable/user_guide/indexing.html#returning-a-view-versus-a-copy\n",
      "  \n"
     ]
    },
    {
     "data": {
      "image/png": "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\n",
      "text/plain": [
       "<Figure size 432x288 with 1 Axes>"
      ]
     },
     "metadata": {
      "needs_background": "light"
     },
     "output_type": "display_data"
    }
   ],
   "source": [
    "#drop 'prefer not to say'\n",
    "find_js_df = full_df[full_df[\"Age\"].str.contains('Prefer not to say') == False]\n",
    "\n",
    "#drop 'years old and years or older'\n",
    "find_js_df[\"Age\"]=find_js_df['Age'].apply(lambda x: str(x).replace(\" years old\", \"\"))\n",
    "find_js_df[\"Age\"]=find_js_df['Age'].apply(lambda x: str(x).replace(\" years or older\", \" and above\"))\n",
    "\n",
    "#count indv age group\n",
    "age_count = find_js_df['Age'].value_counts()\n",
    "age_count\n",
    "\n",
    "# converting to df and assigning new names to the columns\n",
    "df_value_counts = pd.DataFrame(age_count)\n",
    "df_value_counts = df_value_counts.reset_index()\n",
    "df_value_counts.columns = ['Age_Range', 'Age_Count'] # change column names\n",
    "#df_value_counts.set_index('Age_Range', inplace=True) #\n",
    "df_value_counts = df_value_counts.set_index('Age_Range')\n",
    "df_value_counts\n",
    "\n",
    "df_value_counts.plot(kind='bar')\n",
    "\n",
    "plt.xticks(rotation=45)\n",
    "plt.title(\"Javascript Users by Age\")\n",
    "plt.xlabel(\"Age Range\" )\n",
    "plt.ylabel(\"Javascript Users by Age\")\n",
    "plt.show()"
   ]
  },
  {
   "cell_type": "code",
   "execution_count": null,
   "metadata": {},
   "outputs": [],
   "source": []
  },
  {
   "cell_type": "code",
   "execution_count": null,
   "metadata": {},
   "outputs": [],
   "source": []
  },
  {
   "cell_type": "code",
   "execution_count": null,
>>>>>>> countryBranch
   "metadata": {},
   "outputs": [
    {
     "name": "stderr",
     "output_type": "stream",
     "text": [
      "C:\\Users\\stade\\AppData\\Local\\Temp/ipykernel_16648/3376608619.py:5: SettingWithCopyWarning: \n",
      "A value is trying to be set on a copy of a slice from a DataFrame.\n",
      "Try using .loc[row_indexer,col_indexer] = value instead\n",
      "\n",
      "See the caveats in the documentation: https://pandas.pydata.org/pandas-docs/stable/user_guide/indexing.html#returning-a-view-versus-a-copy\n",
      "  find_js_df[\"Age\"]=find_js_df['Age'].apply(lambda x: str(x).replace(\" years old\", \"\"))\n",
      "C:\\Users\\stade\\AppData\\Local\\Temp/ipykernel_16648/3376608619.py:6: SettingWithCopyWarning: \n",
      "A value is trying to be set on a copy of a slice from a DataFrame.\n",
      "Try using .loc[row_indexer,col_indexer] = value instead\n",
      "\n",
      "See the caveats in the documentation: https://pandas.pydata.org/pandas-docs/stable/user_guide/indexing.html#returning-a-view-versus-a-copy\n",
      "  find_js_df[\"Age\"]=find_js_df['Age'].apply(lambda x: str(x).replace(\" years or older\", \" and above\"))\n"
     ]
    },
    {
     "data": {
      "text/plain": [
       "Text(0, 0.5, 'Javascript Users by Age')"
      ]
     },
     "execution_count": 75,
     "metadata": {},
     "output_type": "execute_result"
    },
    {
     "data": {
      "image/png": "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",
      "text/plain": [
       "<Figure size 864x288 with 1 Axes>"
      ]
     },
     "metadata": {
      "needs_background": "light"
     },
     "output_type": "display_data"
    }
   ],
   "source": [
    "#drop 'prefer not to say'\n",
    "find_js_df = full_df[full_df[\"Age\"].str.contains('Prefer not to say') == False]\n",
    "\n",
    "#drop 'years old and years or older'\n",
    "find_js_df[\"Age\"]=find_js_df['Age'].apply(lambda x: str(x).replace(\" years old\", \"\"))\n",
    "find_js_df[\"Age\"]=find_js_df['Age'].apply(lambda x: str(x).replace(\" years or older\", \" and above\"))\n",
    "\n",
    "#count indv age group\n",
    "age_count = find_js_df['Age'].value_counts()\n",
    "age_count\n",
    "\n",
    "# converting to df and assigning new names to the columns\n",
    "df_value_counts = pd.DataFrame(age_count)\n",
    "df_value_counts = df_value_counts.reset_index()\n",
    "df_value_counts.columns = ['Age_Range', 'Age_Count'] # change column names\n",
    "#df_value_counts.set_index('Age_Range', inplace=True) #\n",
    "df_value_counts = df_value_counts.set_index('Age_Range')\n",
    "df_value_counts\n",
    "\n",
    "df_value_counts.plot(kind='bar', stacked=True, color='red', legend=False,figsize=(12, 4))\n",
    "\n",
    "plt.xticks(rotation=45)\n",
    "plt.title(\"Javascript Users by Age\")\n",
    "plt.xlabel(\"Age Range\" )\n",
    "plt.ylabel(\"Javascript Users by Age\")\n",
    "# plt.show()\n",
    "\n",
    "\n"
   ]
  }
 ],
 "metadata": {
  "interpreter": {
   "hash": "48b8287f69fd3488ce7ae437ba6cb47dfd4896655c7d535660681508fd1adcdf"
  },
  "kernelspec": {
   "display_name": "Python 3 (ipykernel)",
   "language": "python",
   "name": "python3"
  },
  "language_info": {
   "codemirror_mode": {
    "name": "ipython",
    "version": 3
   },
   "file_extension": ".py",
   "mimetype": "text/x-python",
   "name": "python",
   "nbconvert_exporter": "python",
   "pygments_lexer": "ipython3",
   "version": "3.6.10"
  }
 },
 "nbformat": 4,
 "nbformat_minor": 2
}
