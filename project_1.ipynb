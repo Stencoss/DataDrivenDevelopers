{
 "cells": [
  {
   "cell_type": "code",
   "execution_count": null,
   "metadata": {},
   "outputs": [],
   "source": [
    "from matplotlib import pyplot as plt\n",
    "from scipy import stats\n",
    "import numpy as np\n",
    "import pandas as pd"
   ]
  },
  {
   "cell_type": "code",
   "execution_count": null,
   "metadata": {},
   "outputs": [],
   "source": [
    "# Two versions of the file - Edited is a slimed down version and full is the unedited version\n",
    "file = (\"Resources/survey_results_2021_edited.csv\")          # Slimed down\n",
    "df = pd.read_csv('file')                                     # Read into df  pandas \n",
    "dataframe\n",
    "\n",
    "df.head(1)\n"
   ]
  },
  {
   "cell_type": "code",
   "execution_count": null,
   "metadata": {},
   "outputs": [],
   "source": [
    "# Second file that we could use - has all data with no columns removed\n",
    "full_file = (\"Resources/survey_results_public.csv\")           # Unedited file\n",
    "full_df = pd.read_csv(full_file)                              # Read into full_df pandas dataframe\n",
    "full_df.head(1)"
   ]
  },
  {
   "cell_type": "code",
   "execution_count": null,
   "metadata": {},
   "outputs": [],
   "source": [
    "# Dropping columns from df that will not be used.  Might keep this?\n",
    "drop = ['Sexuality', 'Ethnicity', 'DatabaseHaveWorkedWith', 'DatabaseWantToWorkWith']\n",
    "df.drop(drop, inplace=True, axis=1)    \n",
    "\n",
    " # Working to split language up so we can count how many people use which lanaguge \n",
    "df.dropna(axis='index', how='all', subset=['LanguageHaveWorkedWith'])\n",
    "df.rename(columns={ 'MainBranch': 'Main Branch', 'LanguageHaveWorkedWith': 'Languages Learned', 'LanguageWantToWorkWith': 'Future Goal Language'}, inplace=True)"
   ]
  },
  {
   "cell_type": "code",
   "execution_count": null,
   "metadata": {},
   "outputs": [],
   "source": [
    "# This fills in missing data from the data frame with \"Not Applicable\"\n",
    "df.replace(np.nan, \"Not Applicable\") \n",
    "df.fillna('Not Applicable')\n",
    "\n"
   ]
  }
 ],
 "metadata": {
  "interpreter": {
   "hash": "48b8287f69fd3488ce7ae437ba6cb47dfd4896655c7d535660681508fd1adcdf"
  },
  "kernelspec": {
   "display_name": "Python 3.6.10 ('Pythondata')",
   "language": "python",
   "name": "python3"
  },
  "language_info": {
   "codemirror_mode": {
    "name": "ipython",
    "version": 3
   },
   "file_extension": ".py",
   "mimetype": "text/x-python",
   "name": "python",
   "nbconvert_exporter": "python",
   "pygments_lexer": "ipython3",
   "version": "3.6.10"
  },
  "orig_nbformat": 4
 },
 "nbformat": 4,
 "nbformat_minor": 2
}
