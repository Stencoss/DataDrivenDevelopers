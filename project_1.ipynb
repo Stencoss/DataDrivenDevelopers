{
 "cells": [
  {
   "cell_type": "code",
<<<<<<< Updated upstream
   "execution_count": 19,
=======
   "execution_count": 37,
>>>>>>> Stashed changes
   "metadata": {},
   "outputs": [],
   "source": [
    "from matplotlib import pyplot as plt\n",
    "from scipy import stats\n",
    "import numpy as np\n",
    "import pandas as pd\n",
    "from collections import Counter             # Used to tally the languages"
   ]
  },
  {
   "cell_type": "code",
<<<<<<< Updated upstream
   "execution_count": 20,
=======
   "execution_count": 38,
>>>>>>> Stashed changes
   "metadata": {},
   "outputs": [
    {
     "data": {
      "text/html": [
       "<div>\n",
       "<style scoped>\n",
       "    .dataframe tbody tr th:only-of-type {\n",
       "        vertical-align: middle;\n",
       "    }\n",
       "\n",
       "    .dataframe tbody tr th {\n",
       "        vertical-align: top;\n",
       "    }\n",
       "\n",
       "    .dataframe thead th {\n",
       "        text-align: right;\n",
       "    }\n",
       "</style>\n",
       "<table border=\"1\" class=\"dataframe\">\n",
       "  <thead>\n",
       "    <tr style=\"text-align: right;\">\n",
       "      <th></th>\n",
       "      <th>ResponseId</th>\n",
       "      <th>MainBranch</th>\n",
       "      <th>Country</th>\n",
       "      <th>US_State</th>\n",
       "      <th>UK_Country</th>\n",
       "      <th>LanguageHaveWorkedWith</th>\n",
       "      <th>LanguageWantToWorkWith</th>\n",
       "      <th>DatabaseHaveWorkedWith</th>\n",
       "      <th>DatabaseWantToWorkWith</th>\n",
       "      <th>Age</th>\n",
       "      <th>Gender</th>\n",
       "      <th>Sexuality</th>\n",
       "      <th>Ethnicity</th>\n",
       "    </tr>\n",
       "  </thead>\n",
       "  <tbody>\n",
       "    <tr>\n",
       "      <th>0</th>\n",
       "      <td>1</td>\n",
       "      <td>I am a developer by profession</td>\n",
       "      <td>Slovakia</td>\n",
       "      <td>NaN</td>\n",
       "      <td>NaN</td>\n",
       "      <td>C++;HTML/CSS;JavaScript;Objective-C;PHP;Swift</td>\n",
       "      <td>Swift</td>\n",
       "      <td>PostgreSQL;SQLite</td>\n",
       "      <td>SQLite</td>\n",
       "      <td>25-34 years old</td>\n",
       "      <td>Man</td>\n",
       "      <td>Straight / Heterosexual</td>\n",
       "      <td>White or of European descent</td>\n",
       "    </tr>\n",
       "  </tbody>\n",
       "</table>\n",
       "</div>"
      ],
      "text/plain": [
       "   ResponseId                      MainBranch   Country US_State UK_Country  \\\n",
       "0           1  I am a developer by profession  Slovakia      NaN        NaN   \n",
       "\n",
       "                          LanguageHaveWorkedWith LanguageWantToWorkWith  \\\n",
       "0  C++;HTML/CSS;JavaScript;Objective-C;PHP;Swift                  Swift   \n",
       "\n",
       "  DatabaseHaveWorkedWith DatabaseWantToWorkWith              Age Gender  \\\n",
       "0      PostgreSQL;SQLite                 SQLite  25-34 years old    Man   \n",
       "\n",
       "                 Sexuality                     Ethnicity  \n",
       "0  Straight / Heterosexual  White or of European descent  "
      ]
     },
<<<<<<< Updated upstream
     "execution_count": 20,
=======
     "execution_count": 38,
>>>>>>> Stashed changes
     "metadata": {},
     "output_type": "execute_result"
    }
   ],
   "source": [
    "# Two versions of the file - Edited is a slimed down version and full is the unedited version\n",
    "file = (\"Resources/survey_results_2021_edited.csv\")          # Slimed down\n",
    "df = pd.read_csv(file)                                     # Read into df  pandas dataframe\n",
    "df.head(1)\n"
   ]
  },
  {
   "cell_type": "code",
<<<<<<< Updated upstream
   "execution_count": 21,
=======
   "execution_count": 39,
>>>>>>> Stashed changes
   "metadata": {},
   "outputs": [
    {
     "data": {
      "text/html": [
       "<div>\n",
       "<style scoped>\n",
       "    .dataframe tbody tr th:only-of-type {\n",
       "        vertical-align: middle;\n",
       "    }\n",
       "\n",
       "    .dataframe tbody tr th {\n",
       "        vertical-align: top;\n",
       "    }\n",
       "\n",
       "    .dataframe thead th {\n",
       "        text-align: right;\n",
       "    }\n",
       "</style>\n",
       "<table border=\"1\" class=\"dataframe\">\n",
       "  <thead>\n",
       "    <tr style=\"text-align: right;\">\n",
       "      <th></th>\n",
       "      <th>ResponseId</th>\n",
       "      <th>MainBranch</th>\n",
       "      <th>Employment</th>\n",
       "      <th>Country</th>\n",
       "      <th>US_State</th>\n",
       "      <th>UK_Country</th>\n",
       "      <th>EdLevel</th>\n",
       "      <th>Age1stCode</th>\n",
       "      <th>LearnCode</th>\n",
       "      <th>YearsCode</th>\n",
       "      <th>...</th>\n",
       "      <th>Age</th>\n",
       "      <th>Gender</th>\n",
       "      <th>Trans</th>\n",
       "      <th>Sexuality</th>\n",
       "      <th>Ethnicity</th>\n",
       "      <th>Accessibility</th>\n",
       "      <th>MentalHealth</th>\n",
       "      <th>SurveyLength</th>\n",
       "      <th>SurveyEase</th>\n",
       "      <th>ConvertedCompYearly</th>\n",
       "    </tr>\n",
       "  </thead>\n",
       "  <tbody>\n",
       "    <tr>\n",
       "      <th>0</th>\n",
       "      <td>1</td>\n",
       "      <td>I am a developer by profession</td>\n",
       "      <td>Independent contractor, freelancer, or self-em...</td>\n",
       "      <td>Slovakia</td>\n",
       "      <td>NaN</td>\n",
       "      <td>NaN</td>\n",
       "      <td>Secondary school (e.g. American high school, G...</td>\n",
       "      <td>18 - 24 years</td>\n",
       "      <td>Coding Bootcamp;Other online resources (ex: vi...</td>\n",
       "      <td>NaN</td>\n",
       "      <td>...</td>\n",
       "      <td>25-34 years old</td>\n",
       "      <td>Man</td>\n",
       "      <td>No</td>\n",
       "      <td>Straight / Heterosexual</td>\n",
       "      <td>White or of European descent</td>\n",
       "      <td>None of the above</td>\n",
       "      <td>None of the above</td>\n",
       "      <td>Appropriate in length</td>\n",
       "      <td>Easy</td>\n",
       "      <td>62268.0</td>\n",
       "    </tr>\n",
       "  </tbody>\n",
       "</table>\n",
       "<p>1 rows × 48 columns</p>\n",
       "</div>"
      ],
      "text/plain": [
       "   ResponseId                      MainBranch  \\\n",
       "0           1  I am a developer by profession   \n",
       "\n",
       "                                          Employment   Country US_State  \\\n",
       "0  Independent contractor, freelancer, or self-em...  Slovakia      NaN   \n",
       "\n",
       "  UK_Country                                            EdLevel  \\\n",
       "0        NaN  Secondary school (e.g. American high school, G...   \n",
       "\n",
       "      Age1stCode                                          LearnCode YearsCode  \\\n",
       "0  18 - 24 years  Coding Bootcamp;Other online resources (ex: vi...       NaN   \n",
       "\n",
       "   ...              Age Gender Trans                Sexuality  \\\n",
       "0  ...  25-34 years old    Man    No  Straight / Heterosexual   \n",
       "\n",
       "                      Ethnicity      Accessibility       MentalHealth  \\\n",
       "0  White or of European descent  None of the above  None of the above   \n",
       "\n",
       "            SurveyLength SurveyEase ConvertedCompYearly  \n",
       "0  Appropriate in length       Easy             62268.0  \n",
       "\n",
       "[1 rows x 48 columns]"
      ]
     },
<<<<<<< Updated upstream
     "execution_count": 21,
=======
     "execution_count": 39,
>>>>>>> Stashed changes
     "metadata": {},
     "output_type": "execute_result"
    }
   ],
   "source": [
    "# Second file that we could use - has all data with no columns removed\n",
    "full_file = (\"Resources/survey_results_public.csv\")           # Unedited file\n",
    "full_df = pd.read_csv(full_file)                              # Read into full_df pandas dataframe\n",
    "full_df.head(1)"
   ]
  },
  {
   "cell_type": "markdown",
   "metadata": {},
   "source": []
  },
  {
   "cell_type": "code",
<<<<<<< Updated upstream
   "execution_count": 22,
=======
   "execution_count": 40,
>>>>>>> Stashed changes
   "metadata": {},
   "outputs": [],
   "source": [
    "# Dropping columns from df that will not be used.  Might keep this? - Deleted Drop\n",
    "\n",
    "\n",
    " # Working to split language up so we can count how many people use which lanaguge \n",
    "df.dropna(axis='index', how='all', subset=['LanguageHaveWorkedWith'])\n",
    "df.rename(columns={ 'MainBranch': 'Main Branch', 'LanguageHaveWorkedWith': 'Languages Learned', 'LanguageWantToWorkWith': 'Future Goal Language'}, inplace=True)"
   ]
  },
  {
   "cell_type": "code",
<<<<<<< Updated upstream
   "execution_count": 23,
=======
   "execution_count": 41,
>>>>>>> Stashed changes
   "metadata": {},
   "outputs": [
    {
     "data": {
      "text/html": [
       "<div>\n",
       "<style scoped>\n",
       "    .dataframe tbody tr th:only-of-type {\n",
       "        vertical-align: middle;\n",
       "    }\n",
       "\n",
       "    .dataframe tbody tr th {\n",
       "        vertical-align: top;\n",
       "    }\n",
       "\n",
       "    .dataframe thead th {\n",
       "        text-align: right;\n",
       "    }\n",
       "</style>\n",
       "<table border=\"1\" class=\"dataframe\">\n",
       "  <thead>\n",
       "    <tr style=\"text-align: right;\">\n",
       "      <th></th>\n",
       "      <th>ResponseId</th>\n",
       "      <th>MainBranch</th>\n",
       "      <th>Employment</th>\n",
       "      <th>Country</th>\n",
       "      <th>US_State</th>\n",
       "      <th>UK_Country</th>\n",
       "      <th>EdLevel</th>\n",
       "      <th>Age1stCode</th>\n",
       "      <th>LearnCode</th>\n",
       "      <th>YearsCode</th>\n",
       "      <th>...</th>\n",
       "      <th>Age</th>\n",
       "      <th>Gender</th>\n",
       "      <th>Trans</th>\n",
       "      <th>Sexuality</th>\n",
       "      <th>Ethnicity</th>\n",
       "      <th>Accessibility</th>\n",
       "      <th>MentalHealth</th>\n",
       "      <th>SurveyLength</th>\n",
       "      <th>SurveyEase</th>\n",
       "      <th>ConvertedCompYearly</th>\n",
       "    </tr>\n",
       "  </thead>\n",
       "  <tbody>\n",
       "    <tr>\n",
       "      <th>0</th>\n",
       "      <td>1</td>\n",
       "      <td>I am a developer by profession</td>\n",
       "      <td>Independent contractor, freelancer, or self-em...</td>\n",
       "      <td>Slovakia</td>\n",
       "      <td>Not Applicable</td>\n",
       "      <td>Not Applicable</td>\n",
       "      <td>Secondary school (e.g. American high school, G...</td>\n",
       "      <td>18 - 24 years</td>\n",
       "      <td>Coding Bootcamp;Other online resources (ex: vi...</td>\n",
       "      <td>Not Applicable</td>\n",
       "      <td>...</td>\n",
       "      <td>25-34 years old</td>\n",
       "      <td>Man</td>\n",
       "      <td>No</td>\n",
       "      <td>Straight / Heterosexual</td>\n",
       "      <td>White or of European descent</td>\n",
       "      <td>None of the above</td>\n",
       "      <td>None of the above</td>\n",
       "      <td>Appropriate in length</td>\n",
       "      <td>Easy</td>\n",
<<<<<<< Updated upstream
<<<<<<< HEAD
       "      <td>62268</td>\n",
=======
       "      <td>62268.0</td>\n",
>>>>>>> main
=======
       "      <td>62268</td>\n",
>>>>>>> Stashed changes
       "    </tr>\n",
       "    <tr>\n",
       "      <th>1</th>\n",
       "      <td>2</td>\n",
       "      <td>I am a student who is learning to code</td>\n",
       "      <td>Student, full-time</td>\n",
       "      <td>Netherlands</td>\n",
       "      <td>Not Applicable</td>\n",
       "      <td>Not Applicable</td>\n",
       "      <td>Bachelor’s degree (B.A., B.S., B.Eng., etc.)</td>\n",
       "      <td>11 - 17 years</td>\n",
       "      <td>Other online resources (ex: videos, blogs, etc...</td>\n",
       "      <td>7</td>\n",
       "      <td>...</td>\n",
       "      <td>18-24 years old</td>\n",
       "      <td>Man</td>\n",
       "      <td>No</td>\n",
       "      <td>Straight / Heterosexual</td>\n",
       "      <td>White or of European descent</td>\n",
       "      <td>None of the above</td>\n",
       "      <td>None of the above</td>\n",
       "      <td>Appropriate in length</td>\n",
       "      <td>Easy</td>\n",
       "      <td>Not Applicable</td>\n",
       "    </tr>\n",
       "    <tr>\n",
       "      <th>2</th>\n",
       "      <td>3</td>\n",
       "      <td>I am not primarily a developer, but I write co...</td>\n",
       "      <td>Student, full-time</td>\n",
       "      <td>Russian Federation</td>\n",
       "      <td>Not Applicable</td>\n",
       "      <td>Not Applicable</td>\n",
       "      <td>Bachelor’s degree (B.A., B.S., B.Eng., etc.)</td>\n",
       "      <td>11 - 17 years</td>\n",
       "      <td>Other online resources (ex: videos, blogs, etc...</td>\n",
       "      <td>Not Applicable</td>\n",
       "      <td>...</td>\n",
       "      <td>18-24 years old</td>\n",
       "      <td>Man</td>\n",
       "      <td>No</td>\n",
       "      <td>Prefer not to say</td>\n",
       "      <td>Prefer not to say</td>\n",
       "      <td>None of the above</td>\n",
       "      <td>None of the above</td>\n",
       "      <td>Appropriate in length</td>\n",
       "      <td>Easy</td>\n",
       "      <td>Not Applicable</td>\n",
       "    </tr>\n",
       "    <tr>\n",
       "      <th>3</th>\n",
       "      <td>4</td>\n",
       "      <td>I am a developer by profession</td>\n",
       "      <td>Employed full-time</td>\n",
       "      <td>Austria</td>\n",
       "      <td>Not Applicable</td>\n",
       "      <td>Not Applicable</td>\n",
       "      <td>Master’s degree (M.A., M.S., M.Eng., MBA, etc.)</td>\n",
       "      <td>11 - 17 years</td>\n",
       "      <td>Not Applicable</td>\n",
       "      <td>Not Applicable</td>\n",
       "      <td>...</td>\n",
       "      <td>35-44 years old</td>\n",
       "      <td>Man</td>\n",
       "      <td>No</td>\n",
       "      <td>Straight / Heterosexual</td>\n",
       "      <td>White or of European descent</td>\n",
       "      <td>I am deaf / hard of hearing</td>\n",
       "      <td>Not Applicable</td>\n",
       "      <td>Appropriate in length</td>\n",
       "      <td>Neither easy nor difficult</td>\n",
       "      <td>Not Applicable</td>\n",
       "    </tr>\n",
       "    <tr>\n",
       "      <th>4</th>\n",
       "      <td>5</td>\n",
       "      <td>I am a developer by profession</td>\n",
       "      <td>Independent contractor, freelancer, or self-em...</td>\n",
       "      <td>United Kingdom of Great Britain and Northern I...</td>\n",
       "      <td>Not Applicable</td>\n",
       "      <td>England</td>\n",
       "      <td>Master’s degree (M.A., M.S., M.Eng., MBA, etc.)</td>\n",
       "      <td>5 - 10 years</td>\n",
       "      <td>Friend or family member</td>\n",
       "      <td>17</td>\n",
       "      <td>...</td>\n",
       "      <td>25-34 years old</td>\n",
       "      <td>Man</td>\n",
       "      <td>No</td>\n",
       "      <td>Not Applicable</td>\n",
       "      <td>White or of European descent</td>\n",
       "      <td>None of the above</td>\n",
       "      <td>Not Applicable</td>\n",
       "      <td>Appropriate in length</td>\n",
       "      <td>Easy</td>\n",
       "      <td>Not Applicable</td>\n",
       "    </tr>\n",
       "  </tbody>\n",
       "</table>\n",
       "<p>5 rows × 48 columns</p>\n",
       "</div>"
      ],
      "text/plain": [
       "   ResponseId                                         MainBranch  \\\n",
       "0           1                     I am a developer by profession   \n",
       "1           2             I am a student who is learning to code   \n",
       "2           3  I am not primarily a developer, but I write co...   \n",
       "3           4                     I am a developer by profession   \n",
       "4           5                     I am a developer by profession   \n",
<<<<<<< Updated upstream
<<<<<<< HEAD
=======
>>>>>>> Stashed changes
       "\n",
       "                                          Employment  \\\n",
       "0  Independent contractor, freelancer, or self-em...   \n",
       "1                                 Student, full-time   \n",
       "2                                 Student, full-time   \n",
       "3                                 Employed full-time   \n",
       "4  Independent contractor, freelancer, or self-em...   \n",
       "\n",
       "                                             Country        US_State  \\\n",
       "0                                           Slovakia  Not Applicable   \n",
       "1                                        Netherlands  Not Applicable   \n",
       "2                                 Russian Federation  Not Applicable   \n",
       "3                                            Austria  Not Applicable   \n",
       "4  United Kingdom of Great Britain and Northern I...  Not Applicable   \n",
       "\n",
       "       UK_Country                                            EdLevel  \\\n",
       "0  Not Applicable  Secondary school (e.g. American high school, G...   \n",
       "1  Not Applicable       Bachelor’s degree (B.A., B.S., B.Eng., etc.)   \n",
       "2  Not Applicable       Bachelor’s degree (B.A., B.S., B.Eng., etc.)   \n",
       "3  Not Applicable    Master’s degree (M.A., M.S., M.Eng., MBA, etc.)   \n",
       "4         England    Master’s degree (M.A., M.S., M.Eng., MBA, etc.)   \n",
       "\n",
       "      Age1stCode                                          LearnCode  \\\n",
       "0  18 - 24 years  Coding Bootcamp;Other online resources (ex: vi...   \n",
       "1  11 - 17 years  Other online resources (ex: videos, blogs, etc...   \n",
       "2  11 - 17 years  Other online resources (ex: videos, blogs, etc...   \n",
       "3  11 - 17 years                                     Not Applicable   \n",
       "4   5 - 10 years                            Friend or family member   \n",
       "\n",
       "        YearsCode  ...              Age Gender Trans                Sexuality  \\\n",
       "0  Not Applicable  ...  25-34 years old    Man    No  Straight / Heterosexual   \n",
       "1               7  ...  18-24 years old    Man    No  Straight / Heterosexual   \n",
       "2  Not Applicable  ...  18-24 years old    Man    No        Prefer not to say   \n",
       "3  Not Applicable  ...  35-44 years old    Man    No  Straight / Heterosexual   \n",
       "4              17  ...  25-34 years old    Man    No           Not Applicable   \n",
       "\n",
       "                      Ethnicity                Accessibility  \\\n",
       "0  White or of European descent            None of the above   \n",
       "1  White or of European descent            None of the above   \n",
       "2             Prefer not to say            None of the above   \n",
       "3  White or of European descent  I am deaf / hard of hearing   \n",
       "4  White or of European descent            None of the above   \n",
       "\n",
       "        MentalHealth           SurveyLength                  SurveyEase  \\\n",
       "0  None of the above  Appropriate in length                        Easy   \n",
       "1  None of the above  Appropriate in length                        Easy   \n",
       "2  None of the above  Appropriate in length                        Easy   \n",
       "3     Not Applicable  Appropriate in length  Neither easy nor difficult   \n",
       "4     Not Applicable  Appropriate in length                        Easy   \n",
       "\n",
       "  ConvertedCompYearly  \n",
       "0               62268  \n",
       "1      Not Applicable  \n",
       "2      Not Applicable  \n",
       "3      Not Applicable  \n",
       "4      Not Applicable  \n",
       "\n",
<<<<<<< Updated upstream
=======
       "\n",
       "                                          Employment  \\\n",
       "0  Independent contractor, freelancer, or self-em...   \n",
       "1                                 Student, full-time   \n",
       "2                                 Student, full-time   \n",
       "3                                 Employed full-time   \n",
       "4  Independent contractor, freelancer, or self-em...   \n",
       "\n",
       "                                             Country        US_State  \\\n",
       "0                                           Slovakia  Not Applicable   \n",
       "1                                        Netherlands  Not Applicable   \n",
       "2                                 Russian Federation  Not Applicable   \n",
       "3                                            Austria  Not Applicable   \n",
       "4  United Kingdom of Great Britain and Northern I...  Not Applicable   \n",
       "\n",
       "       UK_Country                                            EdLevel  \\\n",
       "0  Not Applicable  Secondary school (e.g. American high school, G...   \n",
       "1  Not Applicable       Bachelor’s degree (B.A., B.S., B.Eng., etc.)   \n",
       "2  Not Applicable       Bachelor’s degree (B.A., B.S., B.Eng., etc.)   \n",
       "3  Not Applicable    Master’s degree (M.A., M.S., M.Eng., MBA, etc.)   \n",
       "4         England    Master’s degree (M.A., M.S., M.Eng., MBA, etc.)   \n",
       "\n",
       "      Age1stCode                                          LearnCode  \\\n",
       "0  18 - 24 years  Coding Bootcamp;Other online resources (ex: vi...   \n",
       "1  11 - 17 years  Other online resources (ex: videos, blogs, etc...   \n",
       "2  11 - 17 years  Other online resources (ex: videos, blogs, etc...   \n",
       "3  11 - 17 years                                     Not Applicable   \n",
       "4   5 - 10 years                            Friend or family member   \n",
       "\n",
       "        YearsCode  ...              Age Gender Trans                Sexuality  \\\n",
       "0  Not Applicable  ...  25-34 years old    Man    No  Straight / Heterosexual   \n",
       "1               7  ...  18-24 years old    Man    No  Straight / Heterosexual   \n",
       "2  Not Applicable  ...  18-24 years old    Man    No        Prefer not to say   \n",
       "3  Not Applicable  ...  35-44 years old    Man    No  Straight / Heterosexual   \n",
       "4              17  ...  25-34 years old    Man    No           Not Applicable   \n",
       "\n",
       "                      Ethnicity                Accessibility  \\\n",
       "0  White or of European descent            None of the above   \n",
       "1  White or of European descent            None of the above   \n",
       "2             Prefer not to say            None of the above   \n",
       "3  White or of European descent  I am deaf / hard of hearing   \n",
       "4  White or of European descent            None of the above   \n",
       "\n",
       "        MentalHealth           SurveyLength                  SurveyEase  \\\n",
       "0  None of the above  Appropriate in length                        Easy   \n",
       "1  None of the above  Appropriate in length                        Easy   \n",
       "2  None of the above  Appropriate in length                        Easy   \n",
       "3     Not Applicable  Appropriate in length  Neither easy nor difficult   \n",
       "4     Not Applicable  Appropriate in length                        Easy   \n",
       "\n",
       "  ConvertedCompYearly  \n",
       "0             62268.0  \n",
       "1      Not Applicable  \n",
       "2      Not Applicable  \n",
       "3      Not Applicable  \n",
       "4      Not Applicable  \n",
       "\n",
>>>>>>> main
       "[5 rows x 48 columns]"
      ]
     },
     "execution_count": 23,
=======
       "[5 rows x 48 columns]"
      ]
     },
     "execution_count": 41,
>>>>>>> Stashed changes
     "metadata": {},
     "output_type": "execute_result"
    }
   ],
   "source": [
    "# This fills in missing data from the data frame with \"Not Applicable\"\n",
    "df.replace(np.nan, \"Not Applicable\").head(5)\n",
    "full_df.replace(np.nan, \"Not Applicable\").head(5)\n",
    "# df.fillna('Not Applicable')\n",
    "\n"
   ]
  },
  {
   "cell_type": "code",
<<<<<<< Updated upstream
<<<<<<< HEAD
   "execution_count": 24,
=======
   "execution_count": 7,
>>>>>>> main
   "metadata": {},
   "outputs": [],
=======
   "execution_count": 42,
   "metadata": {},
   "outputs": [
    {
     "ename": "NameError",
     "evalue": "name 'clean_df' is not defined",
     "output_type": "error",
     "traceback": [
      "\u001b[0;31m---------------------------------------------------------------------------\u001b[0m",
      "\u001b[0;31mNameError\u001b[0m                                 Traceback (most recent call last)",
      "\u001b[0;32m<ipython-input-42-9a4921e00e98>\u001b[0m in \u001b[0;36m<module>\u001b[0;34m\u001b[0m\n\u001b[1;32m      1\u001b[0m \u001b[0;31m# gender_groupby = clean_df.groupby([\"Gender\"])\u001b[0m\u001b[0;34m\u001b[0m\u001b[0;34m\u001b[0m\u001b[0;34m\u001b[0m\u001b[0m\n\u001b[1;32m      2\u001b[0m \u001b[0;31m# gender_groupby.sum()\u001b[0m\u001b[0;34m\u001b[0m\u001b[0;34m\u001b[0m\u001b[0;34m\u001b[0m\u001b[0m\n\u001b[0;32m----> 3\u001b[0;31m \u001b[0mclean_df\u001b[0m\u001b[0;34m[\u001b[0m\u001b[0;34m\"Gender\"\u001b[0m\u001b[0;34m]\u001b[0m\u001b[0;34m.\u001b[0m\u001b[0mvalue_counts\u001b[0m\u001b[0;34m(\u001b[0m\u001b[0;34m)\u001b[0m\u001b[0;34m\u001b[0m\u001b[0;34m\u001b[0m\u001b[0m\n\u001b[0m\u001b[1;32m      4\u001b[0m \u001b[0;31m# men = clean_df.loc[clean_df[\"Gender\"]==\"Man\"]\u001b[0m\u001b[0;34m\u001b[0m\u001b[0;34m\u001b[0m\u001b[0;34m\u001b[0m\u001b[0m\n\u001b[1;32m      5\u001b[0m \u001b[0;31m# women = clean_df.loc[clean_df[\"Gender\"]==\"Woman\"]\u001b[0m\u001b[0;34m\u001b[0m\u001b[0;34m\u001b[0m\u001b[0;34m\u001b[0m\u001b[0m\n",
      "\u001b[0;31mNameError\u001b[0m: name 'clean_df' is not defined"
     ]
    }
   ],
>>>>>>> Stashed changes
   "source": [
    "# gender_groupby = clean_df.groupby([\"Gender\"])\n",
    "# gender_groupby.sum()\n",
<<<<<<< HEAD
    "#clean_df[\"Gender\"].value_counts()\n",
=======
    "# clean_df[\"Gender\"].value_counts()\n",
>>>>>>> main
    "# men = clean_df.loc[clean_df[\"Gender\"]==\"Man\"]\n",
    "# women = clean_df.loc[clean_df[\"Gender\"]==\"Woman\"]\n",
    "# non_binary = clean_df.loc[clean_df[\"Gender\"]==\"Non-Binary\"]\n"
   ]
  },
  {
   "cell_type": "code",
<<<<<<< Updated upstream
   "execution_count": 25,
=======
   "execution_count": null,
>>>>>>> Stashed changes
   "metadata": {},
   "outputs": [],
   "source": [
    "#TODO: Clean up or combine loops\n",
    "\n",
    "# Pull series LanguageHaveWorkedWith and find the top 20 popular languages\n",
    "# Isolate Column - split langs into a list - count number of repeats?\n",
    "   \n",
    "# Method to pull top languages.  Can be used on current and what people want to learn.\n",
    "def find_top_langs(df_in):   \n",
    "    cnt = Counter()                                     # Create a counter object\n",
    "    temp_list = []                                      # PLace holder list to hold a list of lists\n",
    "    flat_list = []                                      # \"flat\" list that makes a 2d list a 1d.  Gets rid of nested list\n",
    "\n",
    "    # This for loop creates a list from each row in the series and then from that a list to break up the different langs\n",
    "    # Example String ->  ['C++;Python;PHP'] -> Split ['C++', 'Python', 'PHP'] - For each Row\n",
    "    for langs in df_in:\n",
    "        langs = str(langs)\n",
    "        temp_list.append(langs.split(';'))\n",
    "\n",
    "    # This opens up the the list of lists and makes it into one gaint list\n",
    "    for temp in temp_list:              # temp is a list inside a list [[list1], [list2], [list3]]\n",
    "        for flat in temp:               # flat is the element in list1, list2, list3\n",
    "            flat_list.append(flat)      # New List with no lists - just elements [list1, list2, list3]\n",
    "\n",
    "    for temp in flat_list:              # Counts and tallys how many times it is each element\n",
    "        cnt[temp] += 1\n",
    "\n",
    "    # cnt                                 # Outputs the data as a dictionary\n",
    "\n",
    "    cnt_df = pd.DataFrame(cnt.items()).sort_values(by=[1], ascending=False)     # Convert to a dataframe to sort\n",
    "    return cnt_df\n"
   ]
  },
  {
   "cell_type": "code",
<<<<<<< Updated upstream
   "execution_count": 26,
=======
   "execution_count": null,
>>>>>>> Stashed changes
   "metadata": {},
   "outputs": [
    {
     "data": {
      "text/html": [
       "<div>\n",
       "<style scoped>\n",
       "    .dataframe tbody tr th:only-of-type {\n",
       "        vertical-align: middle;\n",
       "    }\n",
       "\n",
       "    .dataframe tbody tr th {\n",
       "        vertical-align: top;\n",
       "    }\n",
       "\n",
       "    .dataframe thead th {\n",
       "        text-align: right;\n",
       "    }\n",
       "</style>\n",
       "<table border=\"1\" class=\"dataframe\">\n",
       "  <thead>\n",
       "    <tr style=\"text-align: right;\">\n",
       "      <th></th>\n",
       "      <th>0</th>\n",
       "      <th>1</th>\n",
       "    </tr>\n",
       "  </thead>\n",
       "  <tbody>\n",
       "    <tr>\n",
       "      <th>0</th>\n",
       "      <td>JavaScript</td>\n",
       "      <td>53587</td>\n",
       "    </tr>\n",
       "    <tr>\n",
       "      <th>1</th>\n",
       "      <td>HTML/CSS</td>\n",
       "      <td>46259</td>\n",
       "    </tr>\n",
       "    <tr>\n",
       "      <th>2</th>\n",
       "      <td>Python</td>\n",
       "      <td>39792</td>\n",
       "    </tr>\n",
       "    <tr>\n",
       "      <th>3</th>\n",
       "      <td>SQL</td>\n",
       "      <td>38835</td>\n",
       "    </tr>\n",
       "    <tr>\n",
       "      <th>4</th>\n",
       "      <td>Java</td>\n",
       "      <td>29162</td>\n",
       "    </tr>\n",
       "    <tr>\n",
       "      <th>5</th>\n",
       "      <td>Node.js</td>\n",
       "      <td>27975</td>\n",
       "    </tr>\n",
       "    <tr>\n",
       "      <th>6</th>\n",
       "      <td>TypeScript</td>\n",
       "      <td>24909</td>\n",
       "    </tr>\n",
       "    <tr>\n",
       "      <th>7</th>\n",
       "      <td>C#</td>\n",
       "      <td>22984</td>\n",
       "    </tr>\n",
       "    <tr>\n",
       "      <th>8</th>\n",
       "      <td>Bash/Shell</td>\n",
       "      <td>22385</td>\n",
       "    </tr>\n",
       "    <tr>\n",
       "      <th>9</th>\n",
       "      <td>C++</td>\n",
       "      <td>20057</td>\n",
       "    </tr>\n",
       "  </tbody>\n",
       "</table>\n",
       "</div>"
      ],
      "text/plain": [
       "            0      1\n",
       "0  JavaScript  53587\n",
       "1    HTML/CSS  46259\n",
       "2      Python  39792\n",
       "3         SQL  38835\n",
       "4        Java  29162\n",
       "5     Node.js  27975\n",
       "6  TypeScript  24909\n",
       "7          C#  22984\n",
       "8  Bash/Shell  22385\n",
       "9         C++  20057"
      ]
     },
     "execution_count": 26,
     "metadata": {},
     "output_type": "execute_result"
    }
   ],
   "source": [
    "# Run the method based off of languages Learned column\n",
    "\n",
    "top10current = find_top_langs(full_df['LanguageHaveWorkedWith'] ).set_index(0).reset_index().head(10)  \n",
    "top10current                                "
   ]
  },
  {
   "cell_type": "code",
<<<<<<< Updated upstream
   "execution_count": 27,
=======
   "execution_count": null,
>>>>>>> Stashed changes
   "metadata": {},
   "outputs": [
    {
     "data": {
      "text/html": [
       "<div>\n",
       "<style scoped>\n",
       "    .dataframe tbody tr th:only-of-type {\n",
       "        vertical-align: middle;\n",
       "    }\n",
       "\n",
       "    .dataframe tbody tr th {\n",
       "        vertical-align: top;\n",
       "    }\n",
       "\n",
       "    .dataframe thead th {\n",
       "        text-align: right;\n",
       "    }\n",
       "</style>\n",
       "<table border=\"1\" class=\"dataframe\">\n",
       "  <thead>\n",
       "    <tr style=\"text-align: right;\">\n",
       "      <th></th>\n",
       "      <th>0</th>\n",
       "      <th>1</th>\n",
       "    </tr>\n",
       "  </thead>\n",
       "  <tbody>\n",
       "    <tr>\n",
       "      <th>0</th>\n",
       "      <td>JavaScript</td>\n",
       "      <td>37008</td>\n",
       "    </tr>\n",
       "    <tr>\n",
       "      <th>1</th>\n",
       "      <td>Python</td>\n",
       "      <td>34929</td>\n",
       "    </tr>\n",
       "    <tr>\n",
       "      <th>2</th>\n",
       "      <td>HTML/CSS</td>\n",
       "      <td>29353</td>\n",
       "    </tr>\n",
       "    <tr>\n",
       "      <th>3</th>\n",
       "      <td>TypeScript</td>\n",
       "      <td>26905</td>\n",
       "    </tr>\n",
       "    <tr>\n",
       "      <th>4</th>\n",
       "      <td>SQL</td>\n",
       "      <td>26631</td>\n",
       "    </tr>\n",
       "    <tr>\n",
       "      <th>5</th>\n",
       "      <td>Node.js</td>\n",
       "      <td>24100</td>\n",
       "    </tr>\n",
       "    <tr>\n",
       "      <th>6</th>\n",
       "      <td>C#</td>\n",
       "      <td>17999</td>\n",
       "    </tr>\n",
       "    <tr>\n",
       "      <th>7</th>\n",
       "      <td>Java</td>\n",
       "      <td>17222</td>\n",
       "    </tr>\n",
       "    <tr>\n",
       "      <th>8</th>\n",
       "      <td>Rust</td>\n",
       "      <td>15865</td>\n",
       "    </tr>\n",
       "    <tr>\n",
       "      <th>9</th>\n",
       "      <td>Go</td>\n",
       "      <td>15788</td>\n",
       "    </tr>\n",
       "  </tbody>\n",
       "</table>\n",
       "</div>"
      ],
      "text/plain": [
       "            0      1\n",
       "0  JavaScript  37008\n",
       "1      Python  34929\n",
       "2    HTML/CSS  29353\n",
       "3  TypeScript  26905\n",
       "4         SQL  26631\n",
       "5     Node.js  24100\n",
       "6          C#  17999\n",
       "7        Java  17222\n",
       "8        Rust  15865\n",
       "9          Go  15788"
      ]
     },
     "execution_count": 27,
     "metadata": {},
     "output_type": "execute_result"
    }
   ],
   "source": [
    "# Run the method based off of languages Learned column\n",
    "top10future = find_top_langs(full_df['LanguageWantToWorkWith'] ).set_index(0).reset_index().head(10)         \n",
    "top10future                         "
   ]
  },
  {
   "cell_type": "code",
<<<<<<< Updated upstream
   "execution_count": 28,
=======
   "execution_count": null,
>>>>>>> Stashed changes
   "metadata": {},
   "outputs": [
    {
     "data": {
      "image/png": "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",
      "text/plain": [
       "<Figure size 432x288 with 1 Axes>"
      ]
     },
     "metadata": {},
     "output_type": "display_data"
    }
   ],
   "source": [
    "# Labels for the sections of our pie chart\n",
    "labels = top10current[0]\n",
    "sizes = top10current[1]\n",
    "explode = (0.2, 0,0,0,0,0,0,0,0,0)\n",
    "plt.pie(sizes, explode=explode, labels=labels, autopct=\"%1.1f%%\", startangle=140)\n",
    "plt.title('Top 10 languages developers currently work with')\n",
    "plt.show()\n"
   ]
  },
  {
   "cell_type": "code",
<<<<<<< Updated upstream
   "execution_count": 29,
=======
   "execution_count": null,
>>>>>>> Stashed changes
   "metadata": {},
   "outputs": [
    {
<<<<<<< HEAD
     "ename": "NameError",
     "evalue": "name 'top10future' is not defined",
     "output_type": "error",
     "traceback": [
      "\u001b[0;31m---------------------------------------------------------------------------\u001b[0m",
      "\u001b[0;31mNameError\u001b[0m                                 Traceback (most recent call last)",
      "\u001b[0;32m<ipython-input-29-ccf44de29c17>\u001b[0m in \u001b[0;36m<module>\u001b[0;34m\u001b[0m\n\u001b[1;32m      1\u001b[0m \u001b[0;31m# Labels for the sections of our pie chart\u001b[0m\u001b[0;34m\u001b[0m\u001b[0;34m\u001b[0m\u001b[0;34m\u001b[0m\u001b[0m\n\u001b[0;32m----> 2\u001b[0;31m \u001b[0mlabels\u001b[0m \u001b[0;34m=\u001b[0m \u001b[0mtop10future\u001b[0m\u001b[0;34m[\u001b[0m\u001b[0;36m0\u001b[0m\u001b[0;34m]\u001b[0m\u001b[0;34m\u001b[0m\u001b[0;34m\u001b[0m\u001b[0m\n\u001b[0m\u001b[1;32m      3\u001b[0m \u001b[0msizes\u001b[0m \u001b[0;34m=\u001b[0m \u001b[0mtop10future\u001b[0m\u001b[0;34m[\u001b[0m\u001b[0;36m1\u001b[0m\u001b[0;34m]\u001b[0m\u001b[0;34m\u001b[0m\u001b[0;34m\u001b[0m\u001b[0m\n\u001b[1;32m      4\u001b[0m \u001b[0mexplode\u001b[0m \u001b[0;34m=\u001b[0m \u001b[0;34m(\u001b[0m\u001b[0;36m0.2\u001b[0m\u001b[0;34m,\u001b[0m \u001b[0;36m0\u001b[0m\u001b[0;34m,\u001b[0m\u001b[0;36m0\u001b[0m\u001b[0;34m,\u001b[0m\u001b[0;36m0\u001b[0m\u001b[0;34m,\u001b[0m\u001b[0;36m0\u001b[0m\u001b[0;34m,\u001b[0m\u001b[0;36m0\u001b[0m\u001b[0;34m,\u001b[0m\u001b[0;36m0\u001b[0m\u001b[0;34m,\u001b[0m\u001b[0;36m0\u001b[0m\u001b[0;34m,\u001b[0m\u001b[0;36m0\u001b[0m\u001b[0;34m,\u001b[0m\u001b[0;36m0\u001b[0m\u001b[0;34m)\u001b[0m\u001b[0;34m\u001b[0m\u001b[0;34m\u001b[0m\u001b[0m\n\u001b[1;32m      5\u001b[0m \u001b[0mplt\u001b[0m\u001b[0;34m.\u001b[0m\u001b[0mpie\u001b[0m\u001b[0;34m(\u001b[0m\u001b[0msizes\u001b[0m\u001b[0;34m,\u001b[0m \u001b[0mexplode\u001b[0m\u001b[0;34m=\u001b[0m\u001b[0mexplode\u001b[0m\u001b[0;34m,\u001b[0m \u001b[0mlabels\u001b[0m\u001b[0;34m=\u001b[0m\u001b[0mlabels\u001b[0m\u001b[0;34m,\u001b[0m \u001b[0mautopct\u001b[0m\u001b[0;34m=\u001b[0m\u001b[0;34m\"%1.1f%%\"\u001b[0m\u001b[0;34m,\u001b[0m \u001b[0mstartangle\u001b[0m\u001b[0;34m=\u001b[0m\u001b[0;36m140\u001b[0m\u001b[0;34m)\u001b[0m\u001b[0;34m\u001b[0m\u001b[0;34m\u001b[0m\u001b[0m\n",
      "\u001b[0;31mNameError\u001b[0m: name 'top10future' is not defined"
     ]
=======
     "data": {
      "image/png": "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",
      "text/plain": [
       "<Figure size 432x288 with 1 Axes>"
      ]
     },
     "metadata": {},
     "output_type": "display_data"
>>>>>>> main
    }
   ],
   "source": [
    "# Labels for the sections of our pie chart\n",
    "labels = top10future[0]\n",
    "sizes = top10future[1]\n",
    "explode = (0.2, 0,0,0,0,0,0,0,0,0)\n",
    "plt.pie(sizes,  explode=explode, labels=labels, autopct=\"%1.1f%%\", startangle=140)\n",
    "plt.title('Top 10 languages developers want to work with')\n",
    "plt.show()\n"
   ]
  },
  {
   "cell_type": "code",
   "execution_count": 13,
   "metadata": {},
<<<<<<< Updated upstream
   "outputs": [
    {
     "data": {
      "text/plain": [
       "0            C++;HTML/CSS;JavaScript;Objective-C;PHP;Swift\n",
       "1                                        JavaScript;Python\n",
       "3                                    JavaScript;TypeScript\n",
       "5        C;C#;C++;HTML/CSS;Java;JavaScript;Node.js;Powe...\n",
       "6                                      HTML/CSS;JavaScript\n",
       "                               ...                        \n",
       "83426       Bash/Shell;HTML/CSS;Java;JavaScript;Python;SQL\n",
       "83431    C#;Dart;HTML/CSS;Java;JavaScript;Kotlin;Node.j...\n",
       "83433        Java;JavaScript;Kotlin;Objective-C;TypeScript\n",
       "83437                 Bash/Shell;JavaScript;Node.js;Python\n",
       "83438               Delphi;Elixir;HTML/CSS;Java;JavaScript\n",
       "Name: LanguageHaveWorkedWith, Length: 53587, dtype: object"
      ]
     },
     "execution_count": 13,
     "metadata": {},
     "output_type": "execute_result"
    }
   ],
=======
   "outputs": [],
>>>>>>> Stashed changes
   "source": [
    "# pull main data frame and isolate only people that have javascript in full_df['LanguageHaveWorkedWith']\n",
    "# Code goes through the LanguageHaveWorkedWith series and looks for the string JavaScript within the series.  Once it finds\n",
    "# all instances it creates a new data frame with just those rows.  The Row count is equal to the count we did in the \n",
    "# beginning '53587'.  This way we can check that it is the correct amount.\n",
    "find_js_df = full_df.loc[full_df['LanguageHaveWorkedWith'].str.contains('JavaScript',  case = False, na=False)]\n",
    "find_js_df['LanguageHaveWorkedWith']"
   ]
  },
  {
   "cell_type": "code",
<<<<<<< Updated upstream
   "execution_count": 43,
=======
   "execution_count": 44,
>>>>>>> Stashed changes
   "metadata": {},
   "outputs": [
    {
     "data": {
      "text/plain": [
<<<<<<< Updated upstream
       "<AxesSubplot:title={'center':'States with the Most Javascript Developers'}, xlabel='States', ylabel='Developers'>"
      ]
     },
     "execution_count": 43,
     "metadata": {},
     "output_type": "execute_result"
    },
    {
     "data": {
      "image/png": "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",
      "text/plain": [
       "<Figure size 1080x504 with 1 Axes>"
      ]
     },
     "metadata": {
      "needs_background": "light"
     },
     "output_type": "display_data"
    }
   ],
   "source": [
    "# Trying to count people using javascript in each indivual state.\n",
    "\n",
    "\n",
    "js_states = find_js_df.set_index('US_State')\n",
    "js_states = js_states.drop(['I do not reside in the United States','Guam'])\n",
    "js_states = js_states.reset_index()\n",
    "js_states['US_State'].value_counts().sort_values(ascending=False).plot(kind = 'bar', rot=90,\n",
    "                                                           figsize=(15,7),\n",
    "                                                           title='States with the Most Javascript Developers', \n",
    "                                                           xlabel='States', \n",
    "                                                           ylabel='Developers')\n"
   ]
  },
  {
   "cell_type": "code",
   "execution_count": 33,
   "metadata": {},
   "outputs": [
    {
     "name": "stderr",
     "output_type": "stream",
     "text": [
      "/opt/anaconda3/envs/Pythondata/lib/python3.6/site-packages/ipykernel_launcher.py:5: SettingWithCopyWarning: \n",
      "A value is trying to be set on a copy of a slice from a DataFrame.\n",
      "Try using .loc[row_indexer,col_indexer] = value instead\n",
      "\n",
      "See the caveats in the documentation: https://pandas.pydata.org/pandas-docs/stable/user_guide/indexing.html#returning-a-view-versus-a-copy\n",
      "  \"\"\"\n",
      "/opt/anaconda3/envs/Pythondata/lib/python3.6/site-packages/ipykernel_launcher.py:6: SettingWithCopyWarning: \n",
      "A value is trying to be set on a copy of a slice from a DataFrame.\n",
      "Try using .loc[row_indexer,col_indexer] = value instead\n",
      "\n",
      "See the caveats in the documentation: https://pandas.pydata.org/pandas-docs/stable/user_guide/indexing.html#returning-a-view-versus-a-copy\n",
      "  \n"
     ]
    },
    {
     "data": {
      "image/png": "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",
      "text/plain": [
       "<Figure size 432x288 with 1 Axes>"
      ]
     },
     "metadata": {
      "needs_background": "light"
     },
     "output_type": "display_data"
    }
   ],
   "source": [
    "#drop 'prefer not to say'\n",
    "find_js_df = full_df[full_df[\"Age\"].str.contains('Prefer not to say') == False]\n",
    "\n",
    "#drop 'years old and years or older'\n",
    "find_js_df[\"Age\"]=find_js_df['Age'].apply(lambda x: str(x).replace(\" years old\", \"\"))\n",
    "find_js_df[\"Age\"]=find_js_df['Age'].apply(lambda x: str(x).replace(\" years or older\", \" and above\"))\n",
    "\n",
    "#count indv age group\n",
    "age_count = find_js_df['Age'].value_counts()\n",
    "age_count\n",
    "\n",
    "# converting to df and assigning new names to the columns\n",
    "df_value_counts = pd.DataFrame(age_count)\n",
    "df_value_counts = df_value_counts.reset_index()\n",
    "df_value_counts.columns = ['Age_Range', 'Age_Count'] # change column names\n",
    "#df_value_counts.set_index('Age_Range', inplace=True) #\n",
    "df_value_counts = df_value_counts.set_index('Age_Range')\n",
    "df_value_counts\n",
    "\n",
    "df_value_counts.plot(kind='bar')\n",
    "\n",
    "plt.xticks(rotation=45)\n",
    "plt.title(\"Javascript Users by Age\")\n",
    "plt.xlabel(\"Age Range\" )\n",
    "plt.ylabel(\"Javascript Users by Age\")\n",
    "plt.show()\n",
    "\n",
    "\n"
=======
       "25-34 years old       32568\n",
       "18-24 years old       20993\n",
       "35-44 years old       15183\n",
       "45-54 years old        5472\n",
       "Under 18 years old     5376\n",
       "55-64 years old        1819\n",
       "Prefer not to say       575\n",
       "65 years or older       421\n",
       "Name: Age, dtype: int64"
      ]
     },
     "execution_count": 44,
     "metadata": {},
     "output_type": "execute_result"
    }
   ],
   "source": [
    "full_df['Age']. value_counts()\n"
>>>>>>> Stashed changes
   ]
  }
 ],
 "metadata": {
  "interpreter": {
   "hash": "48b8287f69fd3488ce7ae437ba6cb47dfd4896655c7d535660681508fd1adcdf"
  },
  "kernelspec": {
   "display_name": "Python 3 (ipykernel)",
   "language": "python",
   "name": "python3"
  },
  "language_info": {
   "codemirror_mode": {
    "name": "ipython",
    "version": 3
   },
   "file_extension": ".py",
   "mimetype": "text/x-python",
   "name": "python",
   "nbconvert_exporter": "python",
   "pygments_lexer": "ipython3",
   "version": "3.9.7"
  }
 },
 "nbformat": 4,
 "nbformat_minor": 2
}
